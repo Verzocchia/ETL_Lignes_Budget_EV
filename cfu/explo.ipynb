{
 "cells": [
  {
   "cell_type": "code",
   "execution_count": 3,
   "metadata": {},
   "outputs": [],
   "source": [
    "import os \n",
    "import gzip \n",
    "import xmltodict\n",
    "\n",
    "def parse_fichier(chemin : str) -> dict: \n",
    "  '''Ouvre et parse le fichier gzip en dictionnaire'''\n",
    "\n",
    "  with gzip.open(chemin, 'rb') as fichier_ouvert :\n",
    "\n",
    "   fichier_xml_gzip = fichier_ouvert.read()\n",
    "   fichier_xml = fichier_xml_gzip.decode('latin-1')\n",
    "   fichier_dict = xmltodict.parse(fichier_xml)\n",
    "  return fichier_dict"
   ]
  },
  {
   "cell_type": "code",
   "execution_count": 4,
   "metadata": {},
   "outputs": [],
   "source": [
    "cfup = parse_fichier('../../data/explo/cfu_test.xml.gz')"
   ]
  },
  {
   "cell_type": "code",
   "execution_count": null,
   "metadata": {},
   "outputs": [],
   "source": [
    "cfup['doccfu:CompteFinancierUnique']"
   ]
  }
 ],
 "metadata": {
  "kernelspec": {
   "display_name": ".venv",
   "language": "python",
   "name": "python3"
  },
  "language_info": {
   "codemirror_mode": {
    "name": "ipython",
    "version": 3
   },
   "file_extension": ".py",
   "mimetype": "text/x-python",
   "name": "python",
   "nbconvert_exporter": "python",
   "pygments_lexer": "ipython3",
   "version": "3.9.2"
  },
  "orig_nbformat": 4
 },
 "nbformat": 4,
 "nbformat_minor": 2
}
