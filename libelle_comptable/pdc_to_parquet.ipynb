{
 "cells": [
  {
   "cell_type": "markdown",
   "metadata": {},
   "source": [
    "Ici, la méthodo sera différente : 5 parquet vont être produit pour 2020. "
   ]
  },
  {
   "cell_type": "code",
   "execution_count": 1,
   "metadata": {},
   "outputs": [],
   "source": [
    "from lxml import etree\n",
    "import pandas as pd \n",
    "import os\n",
    "import sqlite3\n",
    "import glob "
   ]
  },
  {
   "cell_type": "code",
   "execution_count": 5,
   "metadata": {},
   "outputs": [],
   "source": [
    "def parsing_fichier_etree(chemin) : \n",
    " ''' parse en utilisant lxml plutôt que xmltodict '''\n",
    " with open(chemin, \"r\") as fichier_ouvert:\n",
    "  arbre = etree.parse(fichier_ouvert)\n",
    "  racine = arbre.getroot()\n",
    "  enfants = racine.getchildren()\n",
    " return enfants\n",
    "\n",
    "def extraction_metadonnees(chemin) : \n",
    " ''' Extrait l'année et la nomenclature complète depuis l'adresse html'''\n",
    " annee = chemin.split('/')[2]\n",
    " nomenclature = chemin.split('/')[3].split('.')[0]\n",
    "\n",
    " return annee, nomenclature"
   ]
  },
  {
   "cell_type": "code",
   "execution_count": 9,
   "metadata": {},
   "outputs": [],
   "source": [
    "def extraction_nature(enfants, annee, nomenclature) -> pd.DataFrame: \n",
    " ''' Permet de récupérer les lignes de la branche Nature ( Nature et ContNat )'''\n",
    " nature_chapitre = enfants[0].getchildren()[0].xpath(\".//*[@Code]\")\n",
    " nature_compte = enfants[0].getchildren()[1].xpath(\".//*[@Code]\")\n",
    " liste_nature_chapitre = []\n",
    " liste_nature_compte = []\n",
    "\n",
    " for i in nature_chapitre :\n",
    "  liste_nature_chapitre.append(i.attrib)\n",
    " df_nature_chapitre = pd.DataFrame(liste_nature_chapitre)\n",
    " df_nature_chapitre['Exer'] = annee\n",
    " df_nature_chapitre['Nomenclature'] = nomenclature\n",
    "\n",
    " for i in nature_compte : \n",
    "  liste_nature_compte.append(i.attrib)\n",
    " df_nature_compte = pd.DataFrame(liste_nature_compte)\n",
    " df_nature_compte['Exer'] = annee\n",
    " df_nature_compte['Nomenclature'] = nomenclature\n",
    "\n",
    " return df_nature_chapitre, df_nature_compte\n",
    "\n",
    "def extraction_fonction(enfants, annee, nomenclature) -> pd.DataFrame:\n",
    " ''' Permet de récupérer les lignes de la branche Fonction ( Fonction, Fonction Compte et Fonction ref, ret, machin )'''\n",
    " fonction_chapitre = enfants[1].getchildren()[0].xpath(\".//*[@Code]\")\n",
    " fonction_compte = enfants[1].getchildren()[1].xpath(\".//*[@Code]\")\n",
    " fonction_ret = enfants[1].getchildren()[2].xpath(\".//*[@Code]\")\n",
    "\n",
    " liste_fonction_chapitre = []\n",
    " liste_fonction_compte = []\n",
    " liste_fonction_ret = []\n",
    "\n",
    " for i in fonction_chapitre:\n",
    "    liste_fonction_chapitre.append(i.attrib)\n",
    " df_fonction_chapitre = pd.DataFrame(liste_fonction_chapitre)\n",
    " df_fonction_chapitre['Exer'] = annee\n",
    " df_fonction_chapitre['Nomenclature'] = nomenclature\n",
    "\n",
    " for i in fonction_compte:\n",
    "    liste_fonction_compte.append(i.attrib)\n",
    " df_fonction_compte = pd.DataFrame(liste_fonction_compte)\n",
    " df_fonction_compte['Exer'] = annee\n",
    " df_fonction_compte['Nomenclature'] = nomenclature\n",
    "\n",
    " for i in fonction_ret:\n",
    "    liste_fonction_ret.append(i.attrib)\n",
    " df_fonction_ret = pd.DataFrame(liste_fonction_ret)\n",
    " df_fonction_ret['Exer'] = annee\n",
    " df_fonction_ret['Nomenclature'] = nomenclature\n",
    "\n",
    " return df_fonction_chapitre, df_fonction_compte, df_fonction_ret\n",
    "\n"
   ]
  },
  {
   "cell_type": "code",
   "execution_count": 12,
   "metadata": {},
   "outputs": [],
   "source": [
    "def xml_to_parquet_plan_de_compte(annee) : \n",
    " lnature_chapitre = []\n",
    " lnature_compte = []\n",
    "\n",
    " l_fonction = []\n",
    " l_contfon = []\n",
    " l_fonction_ref = []\n",
    "\n",
    " for plan_de_compte in glob.glob(os.path.join(f'./stockage_plan_de_compte/{annee}', \"*.xml\")) :\n",
    "  enfant = parsing_fichier_etree(plan_de_compte)\n",
    "  annee, nomenclature = extraction_metadonnees(plan_de_compte)\n",
    "\n",
    "  df_nature_chapitre, df_nature_compte = extraction_nature(enfant, annee, nomenclature)\n",
    "  lnature_chapitre.append(df_nature_chapitre)\n",
    "  lnature_compte.append(df_nature_compte)\n",
    "\n",
    "  df_fonction, df_contfon, df_fonction_ref =  extraction_fonction(enfant, annee, nomenclature)\n",
    "  l_fonction.append(df_fonction)\n",
    "  l_contfon.append(df_contfon)\n",
    "  l_fonction_ref.append(df_fonction_ref)\n",
    "\n",
    " pd.concat(lnature_chapitre).to_parquet(f'./parquet/Nature_Chapitre_{annee}.parquet')\n",
    " pd.concat(lnature_compte).to_parquet(f'./parquet/Nature_Compte_{annee}.parquet')\n",
    " pd.concat(l_fonction).to_parquet(f'./parquet/Fonction_Chapitre_{annee}.parquet')\n",
    " pd.concat(l_contfon).to_parquet(f'./parquet/Fonction_Compte_{annee}.parquet')\n",
    " pd.concat(l_fonction_ref).to_parquet(f'./parquet/Fonction_Referentiel_{annee}.parquet')\n"
   ]
  },
  {
   "cell_type": "code",
   "execution_count": 13,
   "metadata": {},
   "outputs": [],
   "source": [
    "xml_to_parquet_plan_de_compte('2020')"
   ]
  },
  {
   "cell_type": "code",
   "execution_count": null,
   "metadata": {},
   "outputs": [],
   "source": []
  },
  {
   "cell_type": "code",
   "execution_count": 2,
   "metadata": {},
   "outputs": [],
   "source": [
    "fch = pd.read_parquet('./parquet/Fonction_Chapitre_2020.parquet')\n",
    "fco = pd.read_parquet('./parquet/Fonction_Compte_2020.parquet')\n",
    "fcr = pd.read_parquet('./parquet/Fonction_Referentiel_2020.parquet')\n",
    "\n",
    "nch = pd.read_parquet('./parquet/Nature_Chapitre_2020.parquet')\n",
    "nco = pd.read_parquet('./parquet/Nature_Compte_2020.parquet')"
   ]
  },
  {
   "cell_type": "code",
   "execution_count": 35,
   "metadata": {},
   "outputs": [
    {
     "name": "stdout",
     "output_type": "stream",
     "text": [
      "(177, 8)\n"
     ]
    },
    {
     "data": {
      "text/html": [
       "<div>\n",
       "<style scoped>\n",
       "    .dataframe tbody tr th:only-of-type {\n",
       "        vertical-align: middle;\n",
       "    }\n",
       "\n",
       "    .dataframe tbody tr th {\n",
       "        vertical-align: top;\n",
       "    }\n",
       "\n",
       "    .dataframe thead th {\n",
       "        text-align: right;\n",
       "    }\n",
       "</style>\n",
       "<table border=\"1\" class=\"dataframe\">\n",
       "  <thead>\n",
       "    <tr style=\"text-align: right;\">\n",
       "      <th></th>\n",
       "      <th>Code</th>\n",
       "      <th>DEquip</th>\n",
       "      <th>DOES</th>\n",
       "      <th>DOIS</th>\n",
       "      <th>DR</th>\n",
       "      <th>Lib_court</th>\n",
       "      <th>Libelle</th>\n",
       "      <th>REquip</th>\n",
       "      <th>ROES</th>\n",
       "      <th>ROIS</th>\n",
       "      <th>RR</th>\n",
       "      <th>RegrTotalise</th>\n",
       "      <th>Supprime</th>\n",
       "      <th>SupprimeDepuis</th>\n",
       "      <th>Exer</th>\n",
       "      <th>Nomenclature</th>\n",
       "      <th>PourEtatSeul</th>\n",
       "    </tr>\n",
       "  </thead>\n",
       "  <tbody>\n",
       "    <tr>\n",
       "      <th>0</th>\n",
       "      <td>001</td>\n",
       "      <td>0</td>\n",
       "      <td></td>\n",
       "      <td></td>\n",
       "      <td>001</td>\n",
       "      <td>Solde d'exécution sect° d'investissement</td>\n",
       "      <td>Solde d'exécution de la section d'investisseme...</td>\n",
       "      <td>0</td>\n",
       "      <td></td>\n",
       "      <td></td>\n",
       "      <td>001</td>\n",
       "      <td>None</td>\n",
       "      <td>None</td>\n",
       "      <td>None</td>\n",
       "      <td>2020</td>\n",
       "      <td>M14-M14_COM_500_3500</td>\n",
       "      <td>None</td>\n",
       "    </tr>\n",
       "  </tbody>\n",
       "</table>\n",
       "</div>"
      ],
      "text/plain": [
       "  Code DEquip DOES DOIS   DR                                 Lib_court  \\\n",
       "0  001      0            001  Solde d'exécution sect° d'investissement   \n",
       "\n",
       "                                             Libelle REquip ROES ROIS   RR  \\\n",
       "0  Solde d'exécution de la section d'investisseme...      0            001   \n",
       "\n",
       "  RegrTotalise Supprime SupprimeDepuis  Exer          Nomenclature  \\\n",
       "0         None     None           None  2020  M14-M14_COM_500_3500   \n",
       "\n",
       "  PourEtatSeul  \n",
       "0         None  "
      ]
     },
     "execution_count": 35,
     "metadata": {},
     "output_type": "execute_result"
    }
   ],
   "source": [
    "print(fch.shape)\n",
    "nco.head(1)"
   ]
  },
  {
   "cell_type": "code",
   "execution_count": 47,
   "metadata": {},
   "outputs": [
    {
     "data": {
      "text/plain": [
       "Supprime\n",
       "1    4\n",
       "Name: count, dtype: int64"
      ]
     },
     "execution_count": 47,
     "metadata": {},
     "output_type": "execute_result"
    }
   ],
   "source": [
    "fco['Supprime'].value_counts()"
   ]
  },
  {
   "cell_type": "code",
   "execution_count": null,
   "metadata": {},
   "outputs": [],
   "source": []
  }
 ],
 "metadata": {
  "kernelspec": {
   "display_name": ".venv",
   "language": "python",
   "name": "python3"
  },
  "language_info": {
   "codemirror_mode": {
    "name": "ipython",
    "version": 3
   },
   "file_extension": ".py",
   "mimetype": "text/x-python",
   "name": "python",
   "nbconvert_exporter": "python",
   "pygments_lexer": "ipython3",
   "version": "3.9.2"
  },
  "orig_nbformat": 4
 },
 "nbformat": 4,
 "nbformat_minor": 2
}
