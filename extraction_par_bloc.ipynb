{
 "cells": [
  {
   "cell_type": "markdown",
   "metadata": {},
   "source": [
    "---------------------\n",
    "\n",
    "Methode fichier par fichier \n",
    "\n",
    "- encore sous forme de créa de DataFrame collectif (plusieurs fichiers assemblés)\n",
    "pour vérifier le traitement des données. \n",
    "\n",
    "-----------------------"
   ]
  },
  {
   "cell_type": "markdown",
   "metadata": {},
   "source": [
    "* [Exploration et mise au propre des donnees](#explo)\n",
    "* [Fonction xml to bdd](#bdd)\n"
   ]
  },
  {
   "cell_type": "code",
   "execution_count": 7,
   "metadata": {},
   "outputs": [],
   "source": [
    "import os \n",
    "import gzip \n",
    "import glob \n",
    "import xmltodict \n",
    "import polars as pl \n",
    "import pandas as pd \n",
    "import pyarrow as pa \n",
    "\n",
    "pd.set_option('display.max_columns',100)\n",
    "\n",
    "colonnes_pd_budget = ['Id_Fichier',\n",
    "    'Nomenclature',\n",
    "    'Exer' ,\n",
    "    'TypOpBudg' , #des 2 et des 1\n",
    "    'Operation',\n",
    "    'Nature',\n",
    "    'ContNat',\n",
    "    'LibCpte',\n",
    "    'Fonction',\n",
    "    'ContFon',\n",
    "    'ArtSpe', \n",
    "    'CodRD', \n",
    "    'MtBudgPrec', \n",
    "    'MtRARPrec', \n",
    "    'MtPropNouv', \n",
    "    'MtPrev', \n",
    "    'OpBudg',\n",
    "    'CredOuv', \n",
    "    'MtReal', \n",
    "    'MtRAR3112', \n",
    "    'ContOp',\n",
    "    'OpeCpteTiers',\n",
    "    'MtSup',\n",
    "    'APVote',\n",
    "    'Brut',\n",
    "    'BudgetHorsRAR',\n",
    "    'Comp',\n",
    "    'ICNE',\n",
    "    'ICNEPrec',\n",
    "    'MtOpeCumul',\n",
    "    'MtOpeInfo',\n",
    "    'Net',\n",
    "    'ProdChaRat',\n",
    "    'RARPrec',\n",
    "    'CaracSup',\n",
    "    'TypOpe',\n",
    "    'Section',\n",
    "    'ChapSpe',\n",
    "    'ProgAutoLib',\n",
    "    'ProgAutoNum',\n",
    "    'VirCredNum',\n",
    "    'CodeRegion']\n",
    "\n",
    "colonnes_doc_budgetaire = [\n",
    " 'Id_Fichier',\n",
    " 'Nomenclature',\n",
    " 'Exer',\n",
    " 'IdColl',\n",
    " 'Siren',\n",
    " 'CodColl',\n",
    " 'LibelleColl',\n",
    " 'DteStr',\n",
    " '@date',\n",
    " 'DteDec',\n",
    " 'DteDecEx',\n",
    " 'NumDec',\n",
    " 'IdPost',\n",
    " 'LibellePoste',\n",
    " 'LibelleEtabPal',\n",
    " 'IdEtabPal',\n",
    " 'LibelleEtab',\n",
    " 'IdEtab',\n",
    " 'NatDec',\n",
    " 'NatVote', \t\n",
    " 'OpeEquip', \n",
    " 'CodInseeColl',\t\n",
    " 'VoteFormelChap', \t\n",
    " 'TypProv', \t\n",
    " 'BudgPrec',\n",
    " 'RefProv',\t\n",
    " 'ReprRes', \t\n",
    " 'NatFonc', \t\n",
    " 'PresentationSimplifiee', \t\n",
    " 'DepFoncN2',\t\n",
    " 'RecFoncN2' ,\t\n",
    " 'DepInvN2' ,\t\n",
    " 'RecInvN2' ,\t\n",
    " 'CodTypBud',\n",
    " 'CodBud',\n",
    " 'ProjetBudget',  \t\n",
    " 'Affect',\n",
    " 'SpecifBudget',\n",
    " 'FinJur',\t \t\n",
    " '@md5',\t\n",
    " '@sha1']\n",
    "\n"
   ]
  },
  {
   "cell_type": "code",
   "execution_count": 20,
   "metadata": {},
   "outputs": [],
   "source": [
    "def _isolement_id(fichier) : \n",
    " '''Extrait l'id du fichier\n",
    " Il y a un if dans le cas où le fichier est sous le format \n",
    " \" 20201101-23430 \" \n",
    "\n",
    " Renvoie un str. \n",
    " '''\n",
    "\n",
    " val_id_fichier_source = fichier.split(\"/\")[-1].split('.')[0]\n",
    " if '-' in val_id_fichier_source : \n",
    "  val_id_fichier = val_id_fichier_source.split('-')[1]\n",
    " else : \n",
    "  val_id_fichier= val_id_fichier_source\n",
    " return val_id_fichier\n",
    "\n",
    "def parse_fichier(chemin) : \n",
    " '''Ouvre et parse le fichier gzip'''\n",
    " with gzip.open(chemin, 'rb') as fichier_ouvert : \n",
    "  fichier_xml_gzip = fichier_ouvert.read()\n",
    "  fichier_xml = fichier_xml_gzip.decode('latin-1')\n",
    "  fichier_dict = xmltodict.parse(fichier_xml)\n",
    " return fichier_dict\n",
    "\n",
    "def extraction_annexe(chemin_annexe, dict_metadonnees) : \n",
    " liste_annexe = []\n",
    " for row in chemin_annexe : \n",
    "  liste_par_ligne = {}\n",
    "  for a, b in row.items() : \n",
    "   liste_par_ligne.update({a : b.get('@V')})\n",
    "   liste_par_ligne.update(dict_metadonnees)\n",
    "  liste_annexe.append(liste_par_ligne)\n",
    " return liste_annexe \n",
    "\n",
    "def extraction_donnees(chemin) : \n",
    " dict_annexe = {}\n",
    " for a, b in chemin.items() : \n",
    "   dict_annexe.update({a : b.get('@V')})\n",
    " return dict_annexe \n",
    "\n",
    "def extraction_lignes_budget_liste(chemin, dict_id) :\n",
    " liste_budget = []\n",
    " for lignes in chemin : \n",
    "  dict_ligne = {}\n",
    "  dict_ligne.update(dict_id)\n",
    "  for a, b in lignes.items() :\n",
    "     if a not in ['MtSup', 'CaracSup'] : \n",
    "       dict_ligne.update({a : b.get('@V')}) \n",
    " \n",
    "     elif a == 'MtSup' : \n",
    "       dict_ligne.update({a : b})\n",
    "       type_m = lignes.get('MtSup')\n",
    " \n",
    "       if isinstance(type_m, dict) : \n",
    "        dict_ligne.update({type_m.get('@Code') : type_m.get('@V')})\n",
    " \n",
    "       elif isinstance(type_m, list) : \n",
    "          for j in b : \n",
    "           dict_ligne.update({j.get('@Code') : j.get('@V')})\n",
    " \n",
    "     elif a == 'CaracSup' :   \n",
    "       dict_ligne.update({a : b})\n",
    "       type_c = lignes.get('CaracSup')\n",
    " \n",
    "       if isinstance(type_c, dict) :\n",
    "        dict_ligne.update({type_c.get('@Code') : type_c.get('@V')})\n",
    " \n",
    "       elif isinstance(type_c, list) : \n",
    "          for j in b : \n",
    "           dict_ligne.update({j.get('@Code') : j.get('@V')})\n",
    "\n",
    "  liste_budget.append(dict_ligne)\n",
    " return liste_budget\n",
    "\n",
    "def extraction_budget(fichier_parse, dict_id) : \n",
    " ''' Extrait toutes les données budgetaires, y compris carac et mtsup '''\n",
    " lignes_budget = fichier_parse['DocumentBudgetaire']['Budget']['LigneBudget'] \n",
    "\n",
    " if isinstance(lignes_budget, dict) : \n",
    "  donnees_budget_prep = extraction_donnees(lignes_budget)\n",
    "  donnees_budget_prep.update(dict_id)\n",
    "  donnees_budget = [donnees_budget_prep]\n",
    "\n",
    " elif isinstance(lignes_budget, list) : \n",
    "  donnees_budget = extraction_lignes_budget_liste(lignes_budget, dict_id)\n",
    "\n",
    " df_budget = pd.DataFrame(donnees_budget)\n",
    " df_colonnes = pd.DataFrame(columns=colonnes_pd_budget)\n",
    " df_budget_sans_schema = pd.concat([df_colonnes, df_budget])\n",
    " df_budget_propre = nettoyage_budget(df_budget_sans_schema)\n",
    " return df_budget_propre \n",
    "\n"
   ]
  },
  {
   "cell_type": "code",
   "execution_count": 21,
   "metadata": {},
   "outputs": [],
   "source": [
    "def extraction_document_budgetaire(fichier_parse, dictionnaire_id) : \n",
    "  ''' Extrait les métadonnées du fichier pour la table document_budgetaire '''\n",
    "  blocbudget = extraction_donnees(fichier_parse['DocumentBudgetaire']['Budget']['BlocBudget'])\n",
    "  entetedocbudg = extraction_donnees(fichier_parse['DocumentBudgetaire']['EnTeteDocBudgetaire'])\n",
    "  entetebudget = extraction_donnees(fichier_parse['DocumentBudgetaire']['Budget']['EnTeteBudget'])\n",
    "  scellement = fichier_parse['DocumentBudgetaire']['Scellement']\n",
    "\n",
    "  liste_fichier = [{**blocbudget, **entetedocbudg, **entetebudget, **scellement, **dictionnaire_id}]\n",
    "  df_doc_budgetaire_prep_1 = pd.DataFrame(liste_fichier)\n",
    "  df_colonnes_budg = pd.DataFrame(columns= colonnes_doc_budgetaire)\n",
    "  df_doc_budgetaire_prep_2 = pd.concat([df_colonnes_budg, df_doc_budgetaire_prep_1])\n",
    "  df_doc_budgetaire = nettoyage_doc_budg(df_doc_budgetaire_prep_2)\n",
    "  return df_doc_budgetaire"
   ]
  },
  {
   "cell_type": "markdown",
   "metadata": {},
   "source": [
    "## Exploration et nettoyage des DataFrames <a class=\"anchor\" id=\"explo\"></a>"
   ]
  },
  {
   "cell_type": "code",
   "execution_count": null,
   "metadata": {},
   "outputs": [],
   "source": []
  },
  {
   "cell_type": "code",
   "execution_count": 3,
   "metadata": {},
   "outputs": [],
   "source": [
    "def extraction_annexe_concours(fichier_parse, dictionnaire_id) : \n",
    " ''' Extrait les données de l'annexe concours pour la table correspondante \n",
    " !! Necessite un try si Data_concours n'est pas dans le fichier '''\n",
    " concours = fichier_parse['DocumentBudgetaire']['Budget']['Annexes']['DATA_CONCOURS']['CONCOURS']\n",
    " liste_donnees_concours = extraction_annexe(concours, dictionnaire_id)\n",
    " df_concours = pd.DataFrame(liste_donnees_concours)\n",
    " return df_concours\n"
   ]
  },
  {
   "cell_type": "code",
   "execution_count": 125,
   "metadata": {},
   "outputs": [],
   "source": [
    "def nettoyage_budget(df) : \n",
    " df['Id_Fichier'] = df['Id_Fichier'].astype('Int32')\n",
    " df['Nomenclature'] = df['Nomenclature'].astype(str)\n",
    " df['Exer'] = df['Exer'].astype('Int16')\n",
    " df['TypOpBudg'] = df['TypOpBudg'].astype('Int32')\n",
    " #df['Operation'] = df['Operation'].astype('Int16') #12VEM488 , aire de jeux etc\n",
    " df['ArtSpe'] = df['ArtSpe'].replace(\n",
    "    {'0' : False, '1' : True, 'false' : False, \"true\" : True}).astype(bool)\n",
    " df['MtBudgPrec'] = df['MtBudgPrec'].astype(float)\n",
    " df['MtRARPrec'] = df['MtRARPrec'].astype(float)\n",
    " df['MtPropNouv'] = df['MtPropNouv'].astype(float)\n",
    " df['MtPrev'] = df['MtPrev'].astype(float)\n",
    " df['OpBudg'] = df['OpBudg'].replace(\n",
    "    {'0' : False, '1' : True, 'false' : False, \"true\" : True}).astype(bool)\n",
    " df['CredOuv'] = df['CredOuv'].astype(float)\n",
    " df['MtReal'] = df['MtReal'].astype(float)\n",
    " df['MtRAR3112'] = df['MtRAR3112'].astype(float)\n",
    " #df['ContOp'] = df['ContOp'].replace('', None).astype('Int16') #contient des '16 01'\n",
    " df['APVote'] = df['APVote'].astype(float)\n",
    " df['Brut'] = df['Brut'].astype(float)\n",
    " df['BudgetHorsRAR'] = df['BudgetHorsRAR'].astype(float)\n",
    " df['ICNE'] = df['ICNE'].astype(float)\n",
    " df['ICNEPrec'] = df['ICNEPrec'].astype(float)\n",
    " df['MtOpeCumul'] = df['MtOpeCumul'].astype(float)\n",
    " df['MtOpeInfo'] = df['MtOpeInfo'].astype(float)\n",
    " df['Net'] = df['Net'].astype(float)\n",
    " df['ProdChaRat'] = df['ProdChaRat'].astype(float)\n",
    " df['TypOpe'] = df['TypOpe'].astype('Int32')\n",
    " df['CodeRegion'] = df['CodeRegion'].astype('Int16')\n",
    " return df \n",
    "\n",
    "def nettoyage_doc_budg(df) : \n",
    " df = df.drop(columns=['NatCEPL', 'Departement'])\n",
    " df = df.rename(columns={'IdColl' : 'Siret', '@date' : 'date_precise',\n",
    "                    '@md5' : 'md5', '@sha1' : 'sha1'}) \n",
    " \n",
    " df['Id_Fichier'] = df['Id_Fichier'].astype('Int32')\n",
    " df['Exer'] = df['Exer'].astype('Int16')\n",
    " df['Siren'] = df['Siret'].str.slice(0,9)\n",
    " df['Siret'] = df['Siret'].astype('Int64')\n",
    " df['Siren'] = df['Siren'].astype('Int64')\n",
    " df['DteStr'] = pd.to_datetime(df['DteStr'])\n",
    " df['DteDec'] = pd.to_datetime(df['DteDec'], errors= 'coerce')\n",
    " df['date_precise'] = pd.to_datetime(df['date_precise'], format='ISO8601', utc= True)\n",
    " df['DteDecEx'] = pd.to_datetime(df['DteDecEx'])\n",
    " df['IdEtabPal'] = df['IdEtabPal'].astype('Int64')\n",
    " df['IdEtab'] = df['IdEtab'].astype('Int64')\n",
    " df['OpeEquip'] = df['OpeEquip'].replace(\n",
    "     {'0' : False, '1' : True, 'false' : False, \"true\" : True}).astype(bool)\n",
    " df['VoteFormelChap'] = df['VoteFormelChap'].replace(\n",
    "     {'0' : False, '1' : True, 'false' : False, \"true\" : True}).astype(bool)\n",
    " df['TypProv'] = df['TypProv'].astype('Int16')\n",
    " df['BudgPrec'] = df['BudgPrec'].astype('Int16')\n",
    " df['ReprRes'] = df['ReprRes'].astype('Int16')\n",
    " df['NatFonc'] = df['NatFonc'].astype('Int16')\n",
    " df['PresentationSimplifiee'] = df['PresentationSimplifiee'].replace(\n",
    "     {'0' : False, '1' : True, 'false' : False, \"true\" : True}).astype(bool)\n",
    " df['DepFoncN2'] = df['DepFoncN2'].astype(float)\n",
    " df['RecFoncN2'] = df['RecFoncN2'].astype(float)\n",
    " df['DepInvN2'] = df['DepInvN2'].astype(float)\n",
    " df['RecInvN2'] = df['RecInvN2'].astype(float)\n",
    " df['ProjetBudget'] = df['ProjetBudget'].replace(\n",
    "     {'0' : False, '1' : True, 'false' : False, \"true\" : True}).astype(bool)\n",
    " df['SpecifBudget'] = df['SpecifBudget'].astype('Int64')\n",
    " df['FinJur'] = df['FinJur'].astype('Int64')\n",
    " return df  \n",
    "\n",
    " "
   ]
  },
  {
   "cell_type": "markdown",
   "metadata": {},
   "source": [
    "--------------------------------------------------------------\n",
    "\n",
    "Optionnel, explo : "
   ]
  },
  {
   "cell_type": "code",
   "execution_count": 123,
   "metadata": {},
   "outputs": [],
   "source": [
    "def multi_document(chemin_des_xml) :\n",
    " ''' Changement à faire : \n",
    " Faire extraire l'Id_Fichier'''\n",
    " chemin_xml_entree_glob = glob.glob(os.path.join(chemin_des_xml, \"*.gz\"))\n",
    " #connection à la table\n",
    " liste_df = []\n",
    "\n",
    " for fichier in chemin_xml_entree_glob : \n",
    "  id_fichier = _isolement_id(fichier)\n",
    "  #print(id_fichier)\n",
    "  #Necessite verif dans tables\n",
    "  if id_fichier is None : \n",
    "   print('vide')\n",
    "   pass \n",
    "  else : \n",
    "   try : \n",
    "    #print('etape 2')\n",
    "    fichier_parse = parse_fichier(fichier)\n",
    "    dict_id = {'Id_Fichier' : id_fichier}\n",
    "    #print(dict_metadonnees)\n",
    "    df_doc = extraction_document_budgetaire(fichier_parse, dict_id)\n",
    "    liste_df.append(df_doc)\n",
    "    #insertion dans table\n",
    "   except Exception as e : \n",
    "     print(id_fichier, 'erreur')\n",
    "     print(e)\n",
    " \n",
    " df_mega = pd.concat(liste_df)\n",
    " return df_mega "
   ]
  },
  {
   "cell_type": "code",
   "execution_count": 103,
   "metadata": {},
   "outputs": [
    {
     "name": "stdout",
     "output_type": "stream",
     "text": [
      "775775 erreur\n",
      "no element found: line 1, column 0\n"
     ]
    }
   ],
   "source": [
    "df_doc1 = multi_document(chemin_20)"
   ]
  },
  {
   "cell_type": "code",
   "execution_count": 62,
   "metadata": {},
   "outputs": [
    {
     "data": {
      "text/plain": [
       "FinJur\n",
       "910811363         2\n",
       "9308127722        1\n",
       "05                1\n",
       "21590017600011    1\n",
       "380790386         1\n",
       "Name: count, dtype: int64"
      ]
     },
     "execution_count": 62,
     "metadata": {},
     "output_type": "execute_result"
    }
   ],
   "source": [
    "df_doc1['FinJur'].value_counts()"
   ]
  },
  {
   "cell_type": "code",
   "execution_count": 113,
   "metadata": {},
   "outputs": [],
   "source": [
    "#df_doc1 = df_doc1.drop(columns=['NatCEPL', 'Departement'])\n",
    "df_doc1 = df_doc1.rename(columns={'IdColl' : 'Siret'})"
   ]
  },
  {
   "cell_type": "code",
   "execution_count": null,
   "metadata": {},
   "outputs": [],
   "source": [
    "df_doc1['Id_Fichier'] = df_doc1['Id_Fichier'].astype('Int32')\n",
    "df_doc1['Exer'] = df_doc1['Exer'].astype('Int16')\n",
    "#df_doc1['Siren'] = df_doc1['Siret'].str.slice(0,9)\n",
    "#df_doc1['Siret'] = df_doc1['Siret'].astype('Int64')\n",
    "#df_doc1['Siren'] = df_doc1['Siren'].astype('Int64')\n",
    "df_doc1['DteStr'] = pd.to_datetime(df_doc1['DteStr'])\n",
    "df_doc1['DteDec'] = pd.to_datetime(df_doc1['DteDec'], errors= 'coerce')\n",
    "df_doc1['@date'] = pd.to_datetime(df_doc1['@date'], format='ISO8601', utc= True)\n",
    "df_doc1['DteDecEx'] = pd.to_datetime(df_doc1['DteDecEx'])\n",
    "df_doc1['IdEtabPal'] = df_doc1['IdEtabPal'].astype('Int64')\n",
    "df_doc1['IdEtab'] = df_doc1['IdEtab'].astype('Int64')\n",
    "df_doc1['OpeEquip'] = df_doc1['OpeEquip'].replace(\n",
    "    {'0' : False, '1' : True, 'false' : False, \"true\" : True}).astype(bool)\n",
    "df_doc1['VoteFormelChap'] = df_doc1['VoteFormelChap'].replace(\n",
    "    {'0' : False, '1' : True, 'false' : False, \"true\" : True}).astype(bool)\n",
    "df_doc1['TypProv'] = df_doc1['TypProv'].astype('Int16')\n",
    "df_doc1['BudgPrec'] = df_doc1['BudgPrec'].astype('Int16')\n",
    "df_doc1['ReprRes'] = df_doc1['ReprRes'].astype('Int16')\n",
    "df_doc1['NatFonc'] = df_doc1['NatFonc'].astype('Int16')\n",
    "df_doc1['PresentationSimplifiee'] = df_doc1['PresentationSimplifiee'].replace(\n",
    "    {'0' : False, '1' : True, 'false' : False, \"true\" : True}).astype(bool)\n",
    "df_doc1['DepFoncN2'] = df_doc1['DepFoncN2'].astype(float)\n",
    "df_doc1['RecFoncN2'] = df_doc1['RecFoncN2'].astype(float)\n",
    "df_doc1['DepInvN2'] = df_doc1['DepInvN2'].astype(float)\n",
    "df_doc1['RecInvN2'] = df_doc1['RecInvN2'].astype(float)\n",
    "df_doc1['ProjetBudget'] = df_doc1['ProjetBudget'].replace(\n",
    "    {'0' : False, '1' : True, 'false' : False, \"true\" : True}).astype(bool)\n",
    "df_doc1['SpecifBudget'] = df_doc1['SpecifBudget'].astype('Int64')\n",
    "df_doc1['FinJur'] = df_doc1['FinJur'].astype('Int64')\n",
    "\n",
    "\n",
    "df_doc1.head()"
   ]
  },
  {
   "cell_type": "code",
   "execution_count": 124,
   "metadata": {},
   "outputs": [
    {
     "data": {
      "text/plain": [
       "Id_Fichier                              Int32\n",
       "Nomenclature                           object\n",
       "Exer                                    Int16\n",
       "Siret                                   Int64\n",
       "Siren                                   Int64\n",
       "CodColl                                object\n",
       "LibelleColl                            object\n",
       "DteStr                         datetime64[ns]\n",
       "@date                     datetime64[ns, UTC]\n",
       "DteDec                         datetime64[ns]\n",
       "DteDecEx                       datetime64[ns]\n",
       "NumDec                                 object\n",
       "IdPost                                 object\n",
       "LibellePoste                           object\n",
       "LibelleEtabPal                         object\n",
       "IdEtabPal                               Int64\n",
       "LibelleEtab                            object\n",
       "IdEtab                                  Int64\n",
       "NatDec                                 object\n",
       "NatVote                                object\n",
       "OpeEquip                                 bool\n",
       "CodInseeColl                           object\n",
       "VoteFormelChap                           bool\n",
       "TypProv                                 Int16\n",
       "BudgPrec                                Int16\n",
       "RefProv                                object\n",
       "ReprRes                                 Int16\n",
       "NatFonc                                 Int16\n",
       "PresentationSimplifiee                   bool\n",
       "DepFoncN2                             float64\n",
       "RecFoncN2                             float64\n",
       "DepInvN2                              float64\n",
       "RecInvN2                              float64\n",
       "CodTypBud                              object\n",
       "CodBud                                 object\n",
       "ProjetBudget                             bool\n",
       "Affect                                 object\n",
       "SpecifBudget                            Int64\n",
       "FinJur                                  Int64\n",
       "@md5                                   object\n",
       "@sha1                                  object\n",
       "dtype: object"
      ]
     },
     "execution_count": 124,
     "metadata": {},
     "output_type": "execute_result"
    }
   ],
   "source": [
    "df_doc1.dtypes"
   ]
  },
  {
   "cell_type": "code",
   "execution_count": null,
   "metadata": {},
   "outputs": [],
   "source": [
    "df8['@date'] = pd.to_datetime(df8['@date'], format='ISO8601', utc= True)\n",
    "df8.head()"
   ]
  },
  {
   "cell_type": "code",
   "execution_count": 100,
   "metadata": {},
   "outputs": [
    {
     "data": {
      "text/plain": [
       "FinJur\n",
       "910811363         2\n",
       "9308127722        1\n",
       "05                1\n",
       "21590017600011    1\n",
       "380790386         1\n",
       "Name: count, dtype: int64"
      ]
     },
     "execution_count": 100,
     "metadata": {},
     "output_type": "execute_result"
    }
   ],
   "source": [
    "df_doc1['FinJur'].value_counts()"
   ]
  },
  {
   "cell_type": "code",
   "execution_count": 105,
   "metadata": {},
   "outputs": [],
   "source": []
  },
  {
   "cell_type": "code",
   "execution_count": 126,
   "metadata": {},
   "outputs": [],
   "source": [
    "chemin_20 = '../../fichiers20/todo_xml_20/'\n",
    "\n",
    "def multi_budget(chemin_des_xml) :\n",
    " ''' Changement à faire : \n",
    " - Enlever la liste, ne plus faire de concat\n",
    " - Faire une fonction de select dans la table \n",
    " - Faire une fonction d'insertion dans la table\n",
    " - Voir les 7 erreurs '''  \n",
    " chemin_xml_entree_glob = glob.glob(os.path.join(chemin_des_xml, \"*.gz\"))\n",
    " #connection à la table\n",
    " liste_df = []\n",
    "\n",
    " for fichier in chemin_xml_entree_glob : \n",
    "  id_fichier = _isolement_id(fichier)\n",
    "  #print(id_fichier)\n",
    "  #Necessite verif dans tables\n",
    "  if id_fichier is None : \n",
    "   print('vide')\n",
    "   pass \n",
    "  else : \n",
    "   try : \n",
    "    #print('etape 2')\n",
    "    fichier_parse = parse_fichier(fichier)\n",
    "    chemin_exer = fichier_parse['DocumentBudgetaire']['Budget']['BlocBudget']['Exer']\n",
    "    chemin_nomenclature = fichier_parse['DocumentBudgetaire']['Budget']['EnTeteBudget']['Nomenclature']\n",
    "    dict_metadonnees = {'Id_Fichier' : id_fichier, \n",
    "                        'Nomenclature' : chemin_nomenclature.get('@V'),\n",
    "                        'Exer' : chemin_exer.get('@V')}\n",
    "    #print(dict_metadonnees)\n",
    "    df_budget = extraction_budget(fichier_parse, dict_metadonnees)\n",
    "    liste_df.append(df_budget)\n",
    "    #insertion dans table\n",
    "   except Exception as e : \n",
    "     print(id_fichier, 'erreur')\n",
    "     print(e)\n",
    " \n",
    " df_mega = pd.concat(liste_df)\n",
    " return df_mega "
   ]
  },
  {
   "cell_type": "code",
   "execution_count": 6,
   "metadata": {},
   "outputs": [
    {
     "name": "stdout",
     "output_type": "stream",
     "text": [
      "775775 erreur\n",
      "no element found: line 1, column 0\n"
     ]
    }
   ],
   "source": [
    "der = multi_budget(chemin_20)"
   ]
  },
  {
   "cell_type": "code",
   "execution_count": null,
   "metadata": {},
   "outputs": [],
   "source": [
    "der.head()"
   ]
  },
  {
   "cell_type": "code",
   "execution_count": 128,
   "metadata": {},
   "outputs": [
    {
     "data": {
      "text/plain": [
       "Comp\n",
       "0    22\n",
       "Name: count, dtype: int64"
      ]
     },
     "execution_count": 128,
     "metadata": {},
     "output_type": "execute_result"
    }
   ],
   "source": [
    "der['Comp'].value_counts()"
   ]
  },
  {
   "cell_type": "code",
   "execution_count": null,
   "metadata": {},
   "outputs": [],
   "source": [
    "der[(~der['RARPrec'].isna()) | (~der['RARprec'].isna()) ][['Id_Fichier','RARPrec', 'RARPrec']]"
   ]
  },
  {
   "cell_type": "code",
   "execution_count": 23,
   "metadata": {},
   "outputs": [
    {
     "data": {
      "text/plain": [
       "CodeRegion\n",
       "1    1427\n",
       "2     733\n",
       "4     663\n",
       "3     525\n",
       "5     140\n",
       "Name: count, dtype: int64"
      ]
     },
     "execution_count": 23,
     "metadata": {},
     "output_type": "execute_result"
    }
   ],
   "source": [
    "der['CodeRegion'].value_counts()"
   ]
  },
  {
   "cell_type": "code",
   "execution_count": null,
   "metadata": {},
   "outputs": [],
   "source": [
    "der[~der['APVote'].isna()]"
   ]
  },
  {
   "cell_type": "code",
   "execution_count": null,
   "metadata": {},
   "outputs": [],
   "source": [
    "f719853 = '../../fichiers20/todo_xml_20/760357.xml.gz'\n",
    "parse_fichier(f719853)"
   ]
  },
  {
   "cell_type": "markdown",
   "metadata": {},
   "source": [
    "# Passage bdd <a class=\"anchor\" id=\"bdd\"></a>"
   ]
  },
  {
   "cell_type": "markdown",
   "metadata": {},
   "source": [
    "Objectif actuel : \n",
    "\n",
    "- Selectionner un fichier\n",
    "- Extraire son ID\n",
    "- L'ouvrir \n",
    "- Chercher les métadonnées\n",
    "- S'il n'y a pas d'erreurs (fichier corrompu par exemple) chercher les données budgets\n",
    "\n",
    "- Traiter les deux blocs, préparer les données\n",
    "- Insérer ces données dans la bdd "
   ]
  },
  {
   "cell_type": "markdown",
   "metadata": {},
   "source": [
    "Objectifs plus tardif : \n",
    "\n",
    "- Les annexes (boucle par annexe dans le fichier ? Systeme de dictionnaires ? )\n",
    "- Ajouter le transcodage dans le github "
   ]
  },
  {
   "cell_type": "code",
   "execution_count": 1,
   "metadata": {},
   "outputs": [],
   "source": [
    "import psycopg2\n",
    "from psycopg2 import sql\n",
    "\n",
    "con = psycopg2.connect(dbname='db_v1',\n",
    "      user= 'postgres',\n",
    "       host='',\n",
    "       port = '5432')"
   ]
  },
  {
   "cell_type": "code",
   "execution_count": 5,
   "metadata": {},
   "outputs": [],
   "source": [
    "def verification_fichier_dans_bdd(conn, id_fichier) : \n",
    " ''' Renvoie le nombre de fois où l'ID Fichier est dans Doc_Budgetaire.\n",
    " Autrement dit, si 0, on envoie, si 1+ on annule.'''\n",
    "\n",
    " try : \n",
    "  conn = con\n",
    "  cursor = conn.cursor()\n",
    "  id_fichier_int = int(id_fichier)\n",
    "  demande_verif = f'''SELECT COUNT(*) FROM doc_budget WHERE Id_Fichier = {id_fichier_int}'''\n",
    "  cursor.execute(demande_verif)\n",
    "  resultat = cursor.fetchone()[0]\n",
    "\n",
    " except psycopg2.Error as e : \n",
    "    print('erreur, rollback en cours')\n",
    "    conn.rollback()\n",
    "\n",
    " finally : \n",
    "    cursor.close()\n",
    "\n",
    " return resultat"
   ]
  },
  {
   "cell_type": "code",
   "execution_count": null,
   "metadata": {},
   "outputs": [],
   "source": [
    "def creation_dict_metadonnees_basiques(fichier_parse, id_fichier) : \n",
    " ''' Crée un dictionnaire comportant les métadonnées du fichier nécessaire à la table\n",
    " Budget et aux annexes, ça permet de faciliter les join avec les libelle comptable'''\n",
    " chemin_exer = fichier_parse['DocumentBudgetaire']['Budget']['BlocBudget']['Exer']\n",
    " chemin_nomenclature = fichier_parse['DocumentBudgetaire']['Budget']['EnTeteBudget']['Nomenclature']\n",
    " dict_metadonnees = {'Id_Fichier' : id_fichier, \n",
    "                    'Nomenclature' : chemin_nomenclature.get('@V'),\n",
    "                    'Exer' : chemin_exer.get('@V')}\n",
    "\n",
    "return dict_metadonnees\n",
    " "
   ]
  },
  {
   "cell_type": "code",
   "execution_count": null,
   "metadata": {},
   "outputs": [],
   "source": [
    "chemin_20 = '../../fichiers20/todo_xml_20/'\n",
    "\n",
    "def xml_to_bdd(chemin_des_xml) :\n",
    " ''' Ajouts requis : les 30 annexes'''\n",
    "\n",
    " #Connect\n",
    " conn = psycopg2.connect(dbname='db_v1',\n",
    "      user= 'postgres',\n",
    "       host='',\n",
    "       port = '5432')\n",
    " \n",
    " chemin_xml_entree_glob = glob.glob(os.path.join(chemin_des_xml, \"*.gz\"))\n",
    "\n",
    " #Travail individuel\n",
    " for fichier in chemin_xml_entree_glob : \n",
    "  id_fichier = _isolement_id(fichier)\n",
    "\n",
    "  if id_fichier is None : \n",
    "   print('vide')\n",
    "   pass \n",
    "\n",
    "  else : \n",
    "   presence_id_bdd = verification_fichier_dans_bdd(int(i))\n",
    "\n",
    "   if presence_id_bdd > 0 :\n",
    "    print(id_fichier, ', déjà présent dans bdd')\n",
    "    pass \n",
    "\n",
    "   elif presence_id_bdd == 0 : \n",
    "    try : \n",
    "     fichier_parse = parse_fichier(fichier)\n",
    "     dict_id = {'Id_Fichier' : id_fichier}\n",
    "     dict_metadonnees = creation_dict_metadonnees_basiques(fichier_parse, id_fichier)\n",
    "\n",
    "     df_doc_budget = extraction_document_budgetaire(fichier_parse, dict_id)\n",
    "     df_budget = extraction_budget(fichier_parse, dict_metadonnees)\n",
    "\n",
    "     #Insertion, ajouter un try ?\n",
    "     df_doc_budget.to_sql('doc_budget', conn, if_exists = 'append', index = False)\n",
    "     df_budget.to_sql('bloc_budget', conn, if_exists = 'append', index = False)\n",
    "    except Exception as e : \n",
    "      print(id_fichier, 'erreur')\n",
    "      print(e)\n",
    " \n"
   ]
  },
  {
   "cell_type": "code",
   "execution_count": null,
   "metadata": {},
   "outputs": [],
   "source": []
  },
  {
   "cell_type": "code",
   "execution_count": null,
   "metadata": {},
   "outputs": [],
   "source": []
  }
 ],
 "metadata": {
  "kernelspec": {
   "display_name": ".venv",
   "language": "python",
   "name": "python3"
  },
  "language_info": {
   "codemirror_mode": {
    "name": "ipython",
    "version": 3
   },
   "file_extension": ".py",
   "mimetype": "text/x-python",
   "name": "python",
   "nbconvert_exporter": "python",
   "pygments_lexer": "ipython3",
   "version": "3.9.2"
  },
  "orig_nbformat": 4
 },
 "nbformat": 4,
 "nbformat_minor": 2
}
