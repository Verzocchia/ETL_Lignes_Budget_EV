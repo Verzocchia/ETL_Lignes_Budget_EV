{
 "cells": [
  {
   "cell_type": "code",
   "execution_count": 1,
   "metadata": {},
   "outputs": [
    {
     "name": "stdout",
     "output_type": "stream",
     "text": [
      "--2024-02-19 22:01:55--  http://odm-budgetaire.org/composants/schemas/schema_doc_budg_V113.zip\n",
      "Connecting to 192.168.112.24:8888... connected.\n",
      "Proxy request sent, awaiting response... 200 OK\n",
      "Length: 101783 (99K) [application/zip]\n",
      "Saving to: ‘schema_doc_budg_V113.zip’\n",
      "\n",
      "schema_doc_budg_V11 100%[===================>]  99.40K  --.-KB/s    in 0s      \n",
      "\n",
      "2024-02-19 22:01:55 (378 MB/s) - ‘schema_doc_budg_V113.zip’ saved [101783/101783]\n",
      "\n"
     ]
    }
   ],
   "source": [
    "!wget http://odm-budgetaire.org/composants/schemas/schema_doc_budg_V113.zip\n"
   ]
  },
  {
   "cell_type": "code",
   "execution_count": 2,
   "metadata": {},
   "outputs": [],
   "source": [
    "import zipfile\n",
    "import os \n",
    "\n",
    "VERSION_SCHEMA = \"V113\"\n",
    "\n",
    "path_to_zip = f\"./schema_doc_budg_{VERSION_SCHEMA}.zip\"\n",
    "schema_directory = f'./schema_doc_budg/{VERSION_SCHEMA}'\n",
    "\n",
    "with zipfile.ZipFile(path_to_zip, 'r') as zip_ref:\n",
    "    try:\n",
    "       os.makedirs(schema_directory)\n",
    "    except FileExistsError:\n",
    "       pass\n",
    "    zip_ref.extractall(schema_directory)\n",
    "os.remove(path_to_zip) \n"
   ]
  },
  {
   "cell_type": "markdown",
   "metadata": {},
   "source": [
    "# Début du traitement"
   ]
  },
  {
   "cell_type": "code",
   "execution_count": 3,
   "metadata": {},
   "outputs": [],
   "source": [
    "import xmltodict\n",
    "import pandas as pd\n",
    "\n",
    "VERSION_SCHEMA = \"V113\""
   ]
  },
  {
   "cell_type": "code",
   "execution_count": 4,
   "metadata": {},
   "outputs": [],
   "source": [
    "def create_dict_from_xml(chemin_fichier: str) -> dict:\n",
    "    \"\"\"\n",
    "        Créer un dictionnaire à partir d'un chemin de fichier XML\n",
    "    \"\"\"\n",
    "    with open(chemin_fichier, encoding='utf8') as fd:\n",
    "        doc = xmltodict.parse(fd.read(), dict_constructor=dict)\n",
    "    return doc"
   ]
  },
  {
   "cell_type": "markdown",
   "metadata": {
    "scrolled": true
   },
   "source": [
    "#### Parsing des différentes annexes existantes pour générer un dictionnaire des donnéesTypes de données présents dans les documents budgétaires (budgets et annexes)"
   ]
  },
  {
   "cell_type": "code",
   "execution_count": 5,
   "metadata": {},
   "outputs": [],
   "source": [
    "def _dict_complex_type(annexe_type : dict, isTypeBudget=False) -> pd.DataFrame:\n",
    "    \"\"\"\n",
    "    \"\"\"\n",
    "    list_records = []\n",
    "    all_complex_type = annexe_type['xs:schema']['xs:complexType']\n",
    "    if isTypeBudget:\n",
    "        #Rustine pour gérer la documentation de TNomenclature qui est a un dictionnaire sans être un type complexe\n",
    "        all_complex_type.pop(3)\n",
    "    types_complexe = dict()\n",
    "    for complex_type in all_complex_type:\n",
    "        temp_dict = dict()\n",
    "        nom_type_complexe = complex_type['@name']\n",
    "        if isinstance(complex_type['xs:attribute'], dict):\n",
    "            for element in complex_type['xs:attribute']['xs:simpleType']['xs:restriction']['xs:enumeration']:\n",
    "                temp_dict[element['@value']] = element.get('xs:annotation', {}).get('xs:documentation', element['@value'])\n",
    "\n",
    "        result_dict = {\n",
    "            \"type\" : nom_type_complexe,\n",
    "            \"enum\" : temp_dict\n",
    "        }\n",
    "        list_records.append(result_dict)\n",
    "    \n",
    "    df = pd.DataFrame.from_records(list_records)\n",
    "\n",
    "    return df\n",
    "    \n",
    "def generate_complex_type_df(chemin : str) -> pd.DataFrame:\n",
    "    \"\"\"\n",
    "       Créer un dataframe des différents types présent dans les documents budgétaires (Annexes et budget)\n",
    "       Un travail similaire devra être fait sur les CFU\n",
    "    \"\"\"\n",
    "    annexe_type = create_dict_from_xml(chemin)\n",
    "    # condition pour gérer les annexes budget ?\n",
    "    if chemin.split(\"/\")[-1] == \"CommunBudget.xsd\":\n",
    "        complexe_types_df = _dict_complex_type(annexe_type, isTypeBudget=True)\n",
    "    else:\n",
    "        complexe_types_df = _dict_complex_type(annexe_type)\n",
    "    return complexe_types_df"
   ]
  },
  {
   "cell_type": "markdown",
   "metadata": {},
   "source": [
    "#### Parsing des différentes annexes existantes pour générer un dictionnaire des données"
   ]
  },
  {
   "cell_type": "code",
   "execution_count": 6,
   "metadata": {},
   "outputs": [],
   "source": [
    "def _init_annexe_data_dictionnary(class_annexe : dict) -> pd.DataFrame:\n",
    "    elements = class_annexe['xs:sequence']['xs:element']\n",
    "    list_records = []\n",
    "    dict_champs = dict()\n",
    "    nom_annexe = class_annexe[\"@name\"][1:]\n",
    "    for element in elements:\n",
    "        documentation = element['xs:annotation']['xs:documentation']\n",
    "        if isinstance(documentation, str):  \n",
    "            libelle = documentation\n",
    "            description = documentation\n",
    "        elif isinstance(documentation, list):\n",
    "            libelle = documentation[0]['z:libelle']\n",
    "            description = documentation[0]['z:description']\n",
    "        else:\n",
    "            libelle = element['xs:annotation']['xs:documentation']['z:libelle']\n",
    "            description = element['xs:annotation']['xs:documentation'].get('z:description')\n",
    "        dict_champs = {\n",
    "            \"nom_annexe\" : nom_annexe,\n",
    "            \"nom_champ\" : element[\"@name\"],\n",
    "            \"type\" : element[\"@type\"],\n",
    "            \"libelle\" : libelle,\n",
    "            \"description\" : description,\n",
    "        }\n",
    "        list_records.append(dict_champs)\n",
    "\n",
    "    \n",
    "    df = pd.DataFrame.from_records(list_records)\n",
    "    df[\"description\"] = df[\"description\"].str.replace(r'^<[^<>]*>', '', regex=True)\n",
    "    df[\"description\"] = df[\"description\"].str.replace(r'^\\s*<ul>', '', regex=True)\n",
    "    df[\"description\"] = df[\"description\"].str.replace(r'^\\s*<li>', '', regex=True)\n",
    "    df[\"description\"] = df[\"description\"].str.replace(r'<ul>', ' : ', regex=True)\n",
    "    df[\"description\"] = df[\"description\"].str.replace(r'<li>', ' - ', regex=True)\n",
    "    df[\"description\"] = df[\"description\"].str.replace(r'<[^<>]*>', ' ', regex=True)\n",
    "    df[\"description\"] = df[\"description\"].str.replace(r'\\s\\s+', ' ', regex=True) \n",
    "    \n",
    "    return df\n",
    "\n",
    "\n",
    "def generate_annexe_data_document(chemin_annexe: str, complex_type_df: pd.DataFrame) -> pd.DataFrame:\n",
    "    if chemin_annexe.split(\"/\")[-1] == \"Class_Signatures.xsd\":\n",
    "        class_to_generate = create_dict_from_xml(chemin_annexe)['xs:schema']['xs:complexType'][0]\n",
    "    else:\n",
    "        class_to_generate = create_dict_from_xml(chemin_annexe)['xs:schema']['xs:complexType'][1]\n",
    "    init_df = _init_annexe_data_dictionnary(class_to_generate)\n",
    "    init_df = init_df.merge(complex_type_df, how='left')\n",
    "    return init_df"
   ]
  },
  {
   "cell_type": "code",
   "execution_count": 7,
   "metadata": {},
   "outputs": [],
   "source": [
    "def create_annexe_data_dictionnary() -> pd.DataFrame:\n",
    "    # Création du dictionnaire sur les annexes\n",
    "    annexe_complexe_types = generate_complex_type_df(f\"./schema_doc_budg/{VERSION_SCHEMA}/SchemaDocBudg/CommunAnnexe.xsd\")\n",
    "    # Récupération du nom du fichier xsd de l'ensemble des annexes existantes dans le schéma\n",
    "    dict_annexe = create_dict_from_xml(f\"./schema_doc_budg/{VERSION_SCHEMA}/SchemaDocBudg/Class_Annexes.xsd\")[\"xs:schema\"]['xs:include']\n",
    "    #Suppression du budget qui sera traité à part\n",
    "    dict_annexe.pop(0)\n",
    "    \n",
    "    class_annexe_paths = []\n",
    "    df_result = pd.DataFrame()\n",
    "\n",
    "    for annexe in dict_annexe: \n",
    "        class_annexe_paths.append(f\"./schema_doc_budg/{VERSION_SCHEMA}/SchemaDocBudg/{annexe['@schemaLocation']}\")\n",
    "    \n",
    "    for annexe_path in class_annexe_paths:\n",
    "        df = generate_annexe_data_document(annexe_path, annexe_complexe_types)\n",
    "        df_result = pd.concat([df, df_result])\n",
    "\n",
    "    return df_result\n",
    "\n",
    "def create_budget_data_dictionnary() -> pd.DataFrame:\n",
    "    complex_type_df = generate_complex_type_df(f\"./schema_doc_budg/{VERSION_SCHEMA}/SchemaDocBudg/CommunBudget.xsd\")\n",
    "\n",
    "    chemin_annexe = f\"./schema_doc_budg/{VERSION_SCHEMA}/SchemaDocBudg/Class_LigneBudget.xsd\"\n",
    "    class_to_generate = create_dict_from_xml(chemin_annexe)\n",
    "    df_ligne_budget = _init_annexe_data_dictionnary(class_to_generate['xs:schema']['xs:complexType'])\n",
    "    df_ligne_budget = df_ligne_budget.merge(complex_type_df, how='left')\n",
    "    \n",
    "    chemin_annexe = f\"./schema_doc_budg/{VERSION_SCHEMA}/SchemaDocBudg/Class_Budget.xsd\"\n",
    "    class_to_generate = create_dict_from_xml(chemin_annexe)\n",
    "    df_budget = _init_annexe_data_dictionnary(class_to_generate['xs:schema']['xs:complexType'][1])\n",
    "    df_budget = df_budget.merge(complex_type_df, how='left')\n",
    "    \n",
    "    \n",
    "    chemin_annexe = f\"./schema_doc_budg/{VERSION_SCHEMA}/SchemaDocBudg/Class_DocumentBudgetaire.xsd\"\n",
    "    class_to_generate = create_dict_from_xml(chemin_annexe)\n",
    "    df_doc_budget = _init_annexe_data_dictionnary(class_to_generate['xs:schema']['xs:complexType'][1])\n",
    "    df_doc_budget = df_doc_budget.merge(complex_type_df, how='left')\n",
    "    df_doc_budget\n",
    "    \n",
    "    final_df = pd.concat([df_budget, df_ligne_budget, df_doc_budget])\n",
    "    return final_df\n",
    "        "
   ]
  },
  {
   "cell_type": "code",
   "execution_count": 14,
   "metadata": {},
   "outputs": [],
   "source": [
    "def main() -> pd.DataFrame:\n",
    "    df_annexe = create_annexe_data_dictionnary()\n",
    "    df_budget = create_budget_data_dictionnary()\n",
    "\n",
    "    df_final = pd.concat([df_annexe, df_budget])\n",
    "    \n",
    "    return df_final\n",
    "\n",
    "#generate_annexe_data_document(\"./schema_doc_budg/V113/SchemaDocBudg/Class_Fonds_Europeens.xsd\", annexe_complexe_types)"
   ]
  },
  {
   "cell_type": "code",
   "execution_count": 26,
   "metadata": {},
   "outputs": [],
   "source": [
    "df_final = main()\n",
    "\n",
    "df_final.to_csv(\"dictionnaire_donnees.csv\", index=False)"
   ]
  }
 ],
 "metadata": {
  "kernelspec": {
   "display_name": "Python 3 (ipykernel)",
   "language": "python",
   "name": "python3"
  },
  "language_info": {
   "codemirror_mode": {
    "name": "ipython",
    "version": 3
   },
   "file_extension": ".py",
   "mimetype": "text/x-python",
   "name": "python",
   "nbconvert_exporter": "python",
   "pygments_lexer": "ipython3",
   "version": "3.9.2"
  }
 },
 "nbformat": 4,
 "nbformat_minor": 4
}
