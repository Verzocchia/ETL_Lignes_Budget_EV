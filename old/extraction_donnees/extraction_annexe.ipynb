{
 "cells": [
  {
   "cell_type": "markdown",
   "metadata": {},
   "source": [
    "Travail temporaire : \n",
    "\n",
    "- La façon d'extraire les lignes remplacera celle de xml_to_parquet (pour extraire le bloc budget)\n",
    "- la boucle de recherche sera faite dans chaque fichier pour les ouvrir une fois au lieu de 31. \n"
   ]
  },
  {
   "cell_type": "code",
   "execution_count": null,
   "metadata": {},
   "outputs": [],
   "source": [
    "import glob \n",
    "import os \n",
    "import gzip\n",
    "import xmltodict \n",
    "import pandas as pd \n",
    "import polars as pl "
   ]
  },
  {
   "cell_type": "code",
   "execution_count": null,
   "metadata": {},
   "outputs": [],
   "source": [
    "LIST_ANNEXES = ['DATA_AMORTISSEMENT_METHODE', 'DATA_APCP', 'DATA_AUTRE_ENGAGEMENT',\n",
    "        'DATA_CHARGE', 'DATA_CONCOURS', 'DATA_CONSOLIDATION', 'DATA_CONTRAT_COUV', \n",
    "        \"DATA_CONTRAT_COUV_REFERENCE\", \"DATA_CREDIT_BAIL\", \"DATA_DETTE\", \"DATA_EMPRUNT\", \n",
    "        \"DATA_ETAB_SERVICE\", \"DATA_FISCALITE\", \"DATA_FOND_AIDES_ECO\", \"DATA_FOND_COMM_HEBERGEMENT\", \n",
    "        \"DATA_FOND_EUROPEEN\", \"DATA_FOND_EUROPEEN_PROGRAMMATION\", \"DATA_FORMATION\", \n",
    "        \"DATA_FORMATION_PRO_JEUNES\", \"DATA_MEMBRESASA\", \"DATA_ORGANISME_ENG\", \n",
    "        \"DATA_ORGANISME_GROUP\", \"DATA_PATRIMOINE\", \"DATA_PERSONNEL\", \"DATA_PERSONNEL_SOLDE\", \n",
    "        \"DATA_PPP\", \"DATA_PRET\", \"DATA_PROVISION\", \"DATA_RECETTE_AFFECTEE\", \n",
    "        \"DATA_SERVICE_FERROVIAIRE_BUD\", \"DATA_SERVICE_FERROVIAIRE_PATRIM\", \n",
    "        \"DATA_SERVICE_FERROVIAIRE_TER\", \"DATA_SIGNATAIRE\", \"DATA_SIGNATURE\", \n",
    "        \"DATA_SOMMAIRE\", \"DATA_TIERS\", \"DATA_TRESORERIE\", \"DATA_VENTILATION\", \"DATA_FLUX_CROISES\"]"
   ]
  },
  {
   "cell_type": "code",
   "execution_count": null,
   "metadata": {},
   "outputs": [],
   "source": [
    "def parse_fichier(chemin) : \n",
    " '''Ouvre et parse le fichier gzip'''\n",
    " with gzip.open(chemin, 'rb') as fichier_ouvert : \n",
    "  fichier_xml_gzip = fichier_ouvert.read()\n",
    "  fichier_xml = fichier_xml_gzip.decode('latin-1')\n",
    "  fichier_dict = xmltodict.parse(fichier_xml)\n",
    " return fichier_dict\n",
    "\n",
    "def _isolement_id(fichier) : \n",
    " '''Extrait l'id du nom du fichier pour la liste comprehension de securité\n",
    "\n",
    " ATTENTION, le premier split / va changer si on l'applique sur du minio '''\n",
    " val_id_fichier_source = fichier.split(\"/\")[-1].split('.')[0]\n",
    " if '-' in val_id_fichier_source : \n",
    "  val_id_fichier = val_id_fichier_source.split('-')[1]\n",
    " else : \n",
    "  val_id_fichier= val_id_fichier_source\n",
    " return val_id_fichier\n",
    "\n",
    "\n",
    " \n",
    "def extraction_annexe(chemin_annexe, dict_metadonnees) : \n",
    " liste_annexe = []\n",
    " for row in chemin_annexe : \n",
    "  liste_par_ligne = {}\n",
    "  for a, b in row.items() : \n",
    "   liste_par_ligne.update({a : b.get('@V')})\n",
    "   liste_par_ligne.update(dict_metadonnees)\n",
    "  liste_annexe.append(liste_par_ligne)\n",
    " return liste_annexe \n",
    "\n",
    "def recherche_dans_parse_depuis_data(dict_parse, data_annexe) : \n",
    " enfant = data_annexe.split('DATA_')[1]\n",
    " dict_annexe = dict_parse['DocumentBudgetaire']['Budget']['Annexes'][data_annexe][enfant]\n",
    " return dict_annexe \n",
    "\n",
    "def recherche_annexe(fichier_parse, annexe_voulue) : \n",
    " ''' A partir d'un nom d'annexe, comme emprunt ou concours, \n",
    " la fonction va simplement produire le chemin dans le dict du xml pour atteindre les données voulues '''\n",
    "\n",
    " annexe_maj = annexe_voulue.upper()\n",
    " dict_annexe = fichier_parse['DocumentBudgetaire']['Budget']['Annexes'][f'DATA_{annexe_maj}'][annexe_maj]\n",
    " return dict_annexe \n",
    "\n"
   ]
  },
  {
   "cell_type": "code",
   "execution_count": null,
   "metadata": {},
   "outputs": [],
   "source": [
    "def xml_to_annexe_specifique_stable(chemin_voulu, annexe):\n",
    "    chemin_via_glob = glob.glob(os.path.join(chemin_voulu, \"*.gz\"))\n",
    "    liste_vide = []\n",
    "\n",
    "    nb_nat09 = 0\n",
    "    valide = 0\n",
    "    non_valide = 0\n",
    "    for fichier in chemin_via_glob:\n",
    "        try:\n",
    "            fichier_parse = parse_fichier(fichier)\n",
    "            id_fichier = _isolement_id(fichier)\n",
    "\n",
    "            IdColl = fichier_parse['DocumentBudgetaire']['EnTeteDocBudgetaire']['IdColl']['@V']\n",
    "            Exer = fichier_parse['DocumentBudgetaire']['Budget']['BlocBudget']['Exer']['@V']\n",
    "            NatDec = fichier_parse['DocumentBudgetaire']['Budget']['BlocBudget']['NatDec']['@V']\n",
    "            \n",
    "            if NatDec == '09' :\n",
    "                nb_nat09 += 1\n",
    "                if Exer != '2020' : \n",
    "                    pass\n",
    "                else : \n",
    "                 valide += 1\n",
    "                 dict_metadonnees = {'Id_Fichier': id_fichier, 'Exer': Exer, 'NatDec': NatDec}\n",
    "                 dict_annexe = recherche_dans_parse_depuis_data(fichier_parse, annexe)\n",
    "                 recup_annexe = extraction_annexe(dict_annexe, dict_metadonnees)\n",
    "                 df_annexe = pl.DataFrame(recup_annexe)\n",
    "                 liste_vide.append(df_annexe)\n",
    "            else:\n",
    "                non_valide +=1\n",
    "                pass\n",
    "                \n",
    "        except Exception as e:\n",
    "            pass\n",
    "\n",
    "    print(valide, non_valide)\n",
    "    df_global = pl.concat(liste_vide, how = 'diagonal').lazy()\n",
    "    df_global.sink_parquet(f'../../../data/annexe/{annexe.upper()}_2020.parquet')\n"
   ]
  },
  {
   "cell_type": "code",
   "execution_count": null,
   "metadata": {},
   "outputs": [],
   "source": [
    "for i in LIST_ANNEXES[0:4] : \n",
    "    xml_to_annexe_specifique_stable('../../../data/todo_xml/', i)\n",
    "    print(i, \"terminé\")"
   ]
  },
  {
   "cell_type": "markdown",
   "metadata": {},
   "source": [
    "temps : long. "
   ]
  },
  {
   "cell_type": "code",
   "execution_count": null,
   "metadata": {},
   "outputs": [],
   "source": []
  }
 ],
 "metadata": {
  "language_info": {
   "name": "python"
  },
  "orig_nbformat": 4
 },
 "nbformat": 4,
 "nbformat_minor": 2
}
