{
 "cells": [
  {
   "cell_type": "markdown",
   "metadata": {},
   "source": [
    "Accompagne le script \"Transcodage_from_file_to_bdd\" \n",
    "\n",
    "Necessite d'avoir des fichiers dans \"stockage_plan_de_compte\", via le script \"script_scraping.py\""
   ]
  },
  {
   "cell_type": "markdown",
   "metadata": {},
   "source": [
    "\n",
    "Objectif : aller chercher les fichiers dans \"stockage_plan_de_compte\" et de les insérer dans la bdd après une légère préparation. \n",
    "\n",
    "- Entrée : les fichiers xml dans /stockage_plan_de_compte/\n",
    "- Sortie : Une table de transcodage dans la bdd avec une clef permettant la correspondance avec la table de lignes_budgets\n",
    "\n",
    "Stratégie naïve : \n",
    "- On va appliquer la même stratégie que pour l'extraction des lignes budges, de façon unitaire\n",
    "- Malgré la non standardisation des .xml, lxml devrait ne pas produire les \"@V\" \n",
    "- Peu de modifications seront nécessaire, si ce n'est une colonne année et une colonne nomenclature issues du nom du fichier\n",
    "\n"
   ]
  },
  {
   "cell_type": "markdown",
   "metadata": {},
   "source": [
    "Les dossiers ainsi que les COLONNES_TRANSCODAGE sont considérés comme des variables globales pour facilement les modifiers sans aller fouiller\n",
    "\n",
    "A terme il faudra passer par duckdb et pas sqlite3"
   ]
  },
  {
   "cell_type": "code",
   "execution_count": 2,
   "metadata": {},
   "outputs": [],
   "source": [
    "from lxml import etree\n",
    "import pandas as pd \n",
    "import os\n",
    "import sqlite3\n",
    "import glob \n",
    "\n",
    "DOSSIER_PARENT = \".\"\n",
    "BDD = './bdd_actes_budgetaires.db'\n",
    "DOSSIER_TRANSCODAGE = \"./csv_transcodage/\"\n",
    "DOSSIER_FICHIERS_TRANSCO = \"./stockage_plan_de_compte/\"\n",
    "CHEMIN_PLAN_DE_COMPTE = glob.glob(os.path.join(DOSSIER_FICHIERS_TRANSCO, \"*.xml\"))\n",
    "COLONNES_TRANSCODAGE = ['Nomenclature', 'Annee', 'Categorie', 'Code',       \n",
    "                        'Lib_court', 'Libelle', 'PourEtatSeul', \n",
    "                        'Section', 'Special', 'TypeChapitre', \n",
    "                        'DEquip', 'REquip', 'DOES', 'DOIS', \n",
    "                        'DR', 'ROES', 'ROIS', 'RR', \n",
    "                        'RegrTotalise', 'Supprime', 'SupprimeDepuis']"
   ]
  },
  {
   "cell_type": "markdown",
   "metadata": {},
   "source": [
    "Le parsing et les transformations se feront avec Lxml plutôt que xmltodict sur les lignes budgets.\n",
    "\n",
    "- Avantage : Permet de récupérer des lignes non reconnnues comme étant des enfants par xmltodict, ce qui est le cas de la grande majorité des données\n",
    "- Inconvénient : Incohérence entre les libs, va à terme créer de la dette, cependant, ce script n'est censé servir qu'une fois par an, quand de nouvelles nomenclatures sont ajoutées"
   ]
  },
  {
   "cell_type": "code",
   "execution_count": 4,
   "metadata": {},
   "outputs": [],
   "source": [
    "def parsing_fichier(chemin) : \n",
    " with open(chemin, \"rb\") as fichier_ouvert:\n",
    "  arbre = etree.parse(fichier_ouvert)\n",
    "  racine = arbre.getroot()\n",
    "  enfants = racine.getchildren()\n",
    " return enfants"
   ]
  },
  {
   "cell_type": "markdown",
   "metadata": {},
   "source": [
    "La vérification se fait de façon unitaire, ce serait plus rapide sous forme de liste comprehension mais la stratégie deviendrait mi-global, mi-unitaire"
   ]
  },
  {
   "cell_type": "code",
   "execution_count": 6,
   "metadata": {},
   "outputs": [],
   "source": [
    "def isolement_plan_de_compte(plan_de_compte) :\n",
    " plan_de_compte_propre = plan_de_compte.replace(\"\\\\\", '/').split('/')[2].split('.')[0]\n",
    " return plan_de_compte_propre\n",
    "\n",
    "def fusionner_annee_nomenclature(conn = 'connect') -> list:\n",
    " ''' Permet de récupérer l'année et la '''\n",
    " cursor = conn.cursor()\n",
    " cursor.execute('''SELECT DISTINCT Annee || '-' || Nomenclature \n",
    "                      FROM Transcodage''')\n",
    " annee_nomenclature = [x[0] for x in cursor.fetchall()]\n",
    " return annee_nomenclature"
   ]
  },
  {
   "cell_type": "markdown",
   "metadata": {},
   "source": [
    "Les fichiers récupérés via le script de scraping sont sous la forme \"ANNEE_NOMENCLATURE.xml\", permet de récupérer les élements qui seront injectés dans les colonnes correpondantes"
   ]
  },
  {
   "cell_type": "code",
   "execution_count": null,
   "metadata": {},
   "outputs": [],
   "source": [
    "def extraction_metadonnees(chemin) : \n",
    " chemin = chemin.replace(\"\\\\\", '/')\n",
    " annee = chemin.split('/')[2].split('-')[0]\n",
    " nomenclature = chemin.split('/')[2].split('-', 1)[1].split('.')[0]\n",
    " return annee, nomenclature\n"
   ]
  },
  {
   "cell_type": "markdown",
   "metadata": {},
   "source": [
    "Pour ne pas passer par les nombreux sous enfants, l'extraction va chercher toutes les lignes dans les sous ensemble NATURE et NATURE COMPTE.\n",
    "\n",
    "Pour ça, on va chercher tout ce qui comporte @Code, ensuite les lignes affiliées sont converties en df avec une colonne permettant de spécifier le type de code\n",
    "\n",
    "Deux df sont retournés car un pd.concat sera déjà fait lors de l'assemblage, on peut se questionner sur l'écart de vitesse entre l'appeller une fois ou deux. "
   ]
  },
  {
   "cell_type": "code",
   "execution_count": 5,
   "metadata": {},
   "outputs": [],
   "source": [
    "\n",
    "def extraction_nature(enfants) -> pd.DataFrame: \n",
    " ''' Permet de récupérer les lignes de la branche Nature ( Nature et ContNat )'''\n",
    " nature_chapitre = enfants[0].getchildren()[0].xpath(\".//*[@Code]\")\n",
    " nature_compte = enfants[0].getchildren()[1].xpath(\".//*[@Code]\")\n",
    " liste_nature_chapitre = []\n",
    " liste_nature_compte = []\n",
    "\n",
    " for i in nature_chapitre :\n",
    "  liste_nature_chapitre.append(i.attrib)\n",
    " df_nature_chapitre = pd.DataFrame(liste_nature_chapitre)\n",
    " df_nature_chapitre['Categorie'] = 'Nature'\n",
    "\n",
    " for i in nature_compte : \n",
    "  liste_nature_compte.append(i.attrib)\n",
    " df_nature_compte = pd.DataFrame(liste_nature_compte)\n",
    " df_nature_compte['Categorie'] = 'Nature_compte'\n",
    "\n",
    " return df_nature_chapitre, df_nature_compte\n"
   ]
  },
  {
   "cell_type": "markdown",
   "metadata": {},
   "source": [
    "Même fonctionnement que pour extraction_nature. Ce sont cependant deux fonctions différentes pour ne pas que ce soit trop lourd et permettre de corriger d'éventuels problèmes spécifiques aux sous ensemble Fonction, Fonction_Compte et Fonction_Referentielle. \n",
    "\n",
    "Ex : Dans plusieurs nomenclatures Fonction & Fonction_Compte sont parfois entièrement vides même dans des collectivités SUP_3500, ça ne pose cependant aucune difficulté ici, même si ça a provoqué une panique lors de l'exploration et de la découverte de cette absence"
   ]
  },
  {
   "cell_type": "code",
   "execution_count": null,
   "metadata": {},
   "outputs": [],
   "source": [
    "def extraction_fonction(enfants) -> pd.DataFrame:\n",
    " ''' Permet de récupérer les lignes de la branche Fonction ( Fonction et Fonction Compte et Fonction ref, ret, machin )'''\n",
    " fonction_chapitre = enfants[1].getchildren()[0].xpath(\".//*[@Code]\")\n",
    " fonction_compte = enfants[1].getchildren()[1].xpath(\".//*[@Code]\")\n",
    " fonction_ref = enfants[1].getchildren()[2].xpath(\".//*[@Code]\")\n",
    "\n",
    " liste_fonction_chapitre = []\n",
    " liste_fonction_compte = []\n",
    " liste_fonction_ref = []\n",
    "\n",
    " for i in fonction_chapitre:\n",
    "    liste_fonction_chapitre.append(i.attrib)\n",
    " df_fonction_chapitre = pd.DataFrame(liste_fonction_chapitre)\n",
    " df_fonction_chapitre['Categorie'] = 'Fonction'\n",
    "\n",
    " for i in fonction_compte:\n",
    "    liste_fonction_compte.append(i.attrib)\n",
    " df_fonction_compte = pd.DataFrame(liste_fonction_compte)\n",
    " df_fonction_compte['Categorie'] = 'Fonction_compte'\n",
    "\n",
    " for i in fonction_ref:\n",
    "    liste_fonction_ref.append(i.attrib)\n",
    " df_fonction_ref = pd.DataFrame(liste_fonction_ref)\n",
    " df_fonction_ref['Categorie'] = 'Fonction_Ref'\n",
    "\n",
    " return df_fonction_chapitre, df_fonction_compte, df_fonction_ref\n"
   ]
  },
  {
   "cell_type": "markdown",
   "metadata": {},
   "source": [
    "Note sur l'assemblage : \n",
    "- La liste COLONNES_TRANSCODAGE correspond au schéma de la table dans la bdd, elles doivent correpondre mais peuvent rapidement être modifié en cas de besoin\n",
    "- Un df vide est crée, ses colonnes sont celles de COLONNES_TRANSCODAGE pour bien correspondre au schéma de la bdd\n",
    "- La fonction creation_df_standard va recuperer les données du df initial est les insérer dans le df vide si les colonnes correspondent entre elles. \n",
    "- Ca nous permet d'éviter un drop columns qui peut provoquer des erreurs si les colonnes à supprimées ne sont pas présentes"
   ]
  },
  {
   "cell_type": "code",
   "execution_count": null,
   "metadata": {},
   "outputs": [],
   "source": [
    "def creation_df_standard(df_nature_chapitre, df_nature_compte, \n",
    "                       df_fonction_chapitre, df_fonction_compte,\n",
    "                       df_fonction_ref, annee, nomenclature) -> pd.DataFrame : \n",
    " ''' Assemble les différents df, ajoute annee et nomenclature et standardise le schema de col pour\n",
    " qu'il corresponde à celui de la bdd'''\n",
    " df_assemblage = pd.concat([df_nature_chapitre, df_nature_compte,\n",
    "                            df_fonction_chapitre, df_fonction_compte,\n",
    "                            df_fonction_ref], ignore_index= True)\n",
    " df_assemblage['Nomenclature'] = nomenclature\n",
    " df_assemblage['Annee'] = annee\n",
    " df_transco = pd.DataFrame(columns= COLONNES_TRANSCODAGE)\n",
    "\n",
    " for i in df_assemblage.columns : #Ne conserve que les colonnes qui nous intéressent,\n",
    "  if i in COLONNES_TRANSCODAGE :\n",
    "   df_transco[i] = df_assemblage[i]\n",
    " return df_transco"
   ]
  },
  {
   "cell_type": "code",
   "execution_count": null,
   "metadata": {},
   "outputs": [],
   "source": [
    "def insertion_dans_bdd(df_transco, conn = 'connect') : \n",
    " \"\"\" Insert dans une bdd les données maintenant transformées et en sort un csv à jour \"\"\"\n",
    " df_transco.to_sql('Transcodage', conn,\n",
    "                    if_exists='append', index=False)"
   ]
  },
  {
   "cell_type": "markdown",
   "metadata": {},
   "source": [
    "Pour chaque élement dans le dossier stockage_plan_de_compte le script va ainsi : \n",
    " 1. Ouvrir une connection à la bdd\n",
    " 2. Vérifier si le plan de compte est déjà dans la bdd\n",
    " 3. Si c'est le cas, alors on passe au plan de compte suivant\n",
    " 4. Si ce n'est pas le cas, on extrait et insert ses informations\n",
    " 5. Dans les deux situations, avant de passer au plan de compte suivant, on ferme la connection"
   ]
  },
  {
   "cell_type": "code",
   "execution_count": null,
   "metadata": {},
   "outputs": [],
   "source": [
    "def main() : \n",
    " for plan_de_compte in CHEMIN_PLAN_DE_COMPTE :\n",
    "  try :\n",
    "   connect = sqlite3.connect(BDD)\n",
    "   if isolement_plan_de_compte(plan_de_compte) not in fusionner_annee_nomenclature(connect) : \n",
    "    enfant = parsing_fichier(plan_de_compte)\n",
    "    annee, nomenclature = extraction_metadonnees(plan_de_compte)\n",
    "    df_nature1, df_nature2 = extraction_nature(enfant)\n",
    "    df_f1, df_f2, df_f3 =  extraction_fonction(enfant)\n",
    "    df_test = creation_df_standard(df_nature1, df_nature2, df_f1, df_f2, df_f3, annee, nomenclature)\n",
    "    insertion_dans_bdd(df_test, connect)\n",
    "   else : \n",
    "    pass \n",
    "  finally : \n",
    "   connect.commit()\n",
    "   connect.close()"
   ]
  }
 ],
 "metadata": {
  "kernelspec": {
   "display_name": "Python 3",
   "language": "python",
   "name": "python3"
  },
  "language_info": {
   "codemirror_mode": {
    "name": "ipython",
    "version": 3
   },
   "file_extension": ".py",
   "mimetype": "text/x-python",
   "name": "python",
   "nbconvert_exporter": "python",
   "pygments_lexer": "ipython3",
   "version": "3.11.5"
  }
 },
 "nbformat": 4,
 "nbformat_minor": 2
}
