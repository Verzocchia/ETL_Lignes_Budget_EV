{
 "cells": [
  {
   "cell_type": "markdown",
   "metadata": {},
   "source": [
    "Objectif : \n",
    "\n",
    "Recherche des doublons, explorer les lignes budgets liées et produire un csv lié (simple)\n",
    "\n",
    "Outil : \n",
    "Echantillon de 20k fichiers "
   ]
  },
  {
   "cell_type": "code",
   "execution_count": 1,
   "metadata": {},
   "outputs": [
    {
     "name": "stderr",
     "output_type": "stream",
     "text": [
      "/tmp/ipykernel_4394/2398582516.py:3: DtypeWarning: Columns (27) have mixed types. Specify dtype option on import or set low_memory=False.\n",
      "  df_doc = pd.read_csv('../data/explo/doc_doublon_1')\n"
     ]
    }
   ],
   "source": [
    "import pandas as pd \n",
    "\n",
    "df_doc = pd.read_csv('../data/explo/doc_doublon_1')\n",
    "df_budget = pd.read_parquet('../data/bloc_budget_20.parquet')"
   ]
  },
  {
   "cell_type": "code",
   "execution_count": 3,
   "metadata": {},
   "outputs": [
    {
     "data": {
      "text/html": [
       "<div>\n",
       "<style scoped>\n",
       "    .dataframe tbody tr th:only-of-type {\n",
       "        vertical-align: middle;\n",
       "    }\n",
       "\n",
       "    .dataframe tbody tr th {\n",
       "        vertical-align: top;\n",
       "    }\n",
       "\n",
       "    .dataframe thead th {\n",
       "        text-align: right;\n",
       "    }\n",
       "</style>\n",
       "<table border=\"1\" class=\"dataframe\">\n",
       "  <thead>\n",
       "    <tr style=\"text-align: right;\">\n",
       "      <th></th>\n",
       "      <th>Id_Fichier</th>\n",
       "      <th>Siret</th>\n",
       "      <th>NatDec</th>\n",
       "      <th>NumDec</th>\n",
       "      <th>CodTypBud</th>\n",
       "      <th>Date</th>\n",
       "    </tr>\n",
       "  </thead>\n",
       "  <tbody>\n",
       "    <tr>\n",
       "      <th>5104</th>\n",
       "      <td>790376</td>\n",
       "      <td>20000480200027</td>\n",
       "      <td>2</td>\n",
       "      <td>1.0</td>\n",
       "      <td>A</td>\n",
       "      <td>2021-11-03T08:23:51.768+01:00</td>\n",
       "    </tr>\n",
       "    <tr>\n",
       "      <th>10389</th>\n",
       "      <td>791034</td>\n",
       "      <td>20000480200027</td>\n",
       "      <td>2</td>\n",
       "      <td>1.0</td>\n",
       "      <td>A</td>\n",
       "      <td>2021-11-08T16:01:39.443+01:00</td>\n",
       "    </tr>\n",
       "    <tr>\n",
       "      <th>6262</th>\n",
       "      <td>681458</td>\n",
       "      <td>20000797900012</td>\n",
       "      <td>1</td>\n",
       "      <td>NaN</td>\n",
       "      <td>P</td>\n",
       "      <td>2021-04-01T12:43:44.440+02:00</td>\n",
       "    </tr>\n",
       "    <tr>\n",
       "      <th>19949</th>\n",
       "      <td>681423</td>\n",
       "      <td>20000797900012</td>\n",
       "      <td>1</td>\n",
       "      <td>NaN</td>\n",
       "      <td>P</td>\n",
       "      <td>2021-04-01T12:43:44.440+02:00</td>\n",
       "    </tr>\n",
       "    <tr>\n",
       "      <th>6154</th>\n",
       "      <td>804914</td>\n",
       "      <td>20002715900017</td>\n",
       "      <td>1</td>\n",
       "      <td>NaN</td>\n",
       "      <td>P</td>\n",
       "      <td>2021-12-22T16:15:22</td>\n",
       "    </tr>\n",
       "  </tbody>\n",
       "</table>\n",
       "</div>"
      ],
      "text/plain": [
       "       Id_Fichier           Siret  NatDec  NumDec CodTypBud  \\\n",
       "5104       790376  20000480200027       2     1.0         A   \n",
       "10389      791034  20000480200027       2     1.0         A   \n",
       "6262       681458  20000797900012       1     NaN         P   \n",
       "19949      681423  20000797900012       1     NaN         P   \n",
       "6154       804914  20002715900017       1     NaN         P   \n",
       "\n",
       "                                Date  \n",
       "5104   2021-11-03T08:23:51.768+01:00  \n",
       "10389  2021-11-08T16:01:39.443+01:00  \n",
       "6262   2021-04-01T12:43:44.440+02:00  \n",
       "19949  2021-04-01T12:43:44.440+02:00  \n",
       "6154             2021-12-22T16:15:22  "
      ]
     },
     "execution_count": 3,
     "metadata": {},
     "output_type": "execute_result"
    }
   ],
   "source": [
    "df_doc = df_doc.drop(columns='Unnamed: 0')\n",
    "doc_doublon = df_doc[df_doc.duplicated(subset=['Siret', 'Exer', 'NatDec', 'NumDec','CodTypBud'], keep = False)]\n",
    "doc_doublon[['Id_Fichier', 'Siret', 'NatDec','NumDec','CodTypBud', 'Date']].sort_values(['Siret', 'NumDec']).head(5)"
   ]
  },
  {
   "cell_type": "markdown",
   "metadata": {},
   "source": [
    "On va séparer en deux catégories : ceux qui ont la même date et ceux qui ont des dates différentes"
   ]
  },
  {
   "cell_type": "code",
   "execution_count": 5,
   "metadata": {},
   "outputs": [
    {
     "name": "stdout",
     "output_type": "stream",
     "text": [
      "pure doublon 141\n",
      "modif posteriori 201\n"
     ]
    }
   ],
   "source": [
    "doublon_meme_date = doc_doublon[doc_doublon.duplicated(subset= ['Date'], keep = False)].sort_values(['Siret', 'Date'])\n",
    "doublon_diff_date = doc_doublon[~doc_doublon.duplicated(subset= ['Date'], keep = False)].sort_values(['Siret', 'Date'])\n",
    "\n",
    "print('pure doublon',len(doublon_meme_date))\n",
    "print('modif posteriori', len(doublon_diff_date))"
   ]
  },
  {
   "cell_type": "code",
   "execution_count": 20,
   "metadata": {},
   "outputs": [],
   "source": [
    "doublon_diff_date['Plus_recent'] = (doublon_diff_date['Date'] == doublon_diff_date.groupby('Siret')['Date'].transform('max'))\n"
   ]
  },
  {
   "cell_type": "code",
   "execution_count": 15,
   "metadata": {},
   "outputs": [],
   "source": [
    "colonnes_doc_budgetaire_meme_date = [\n",
    " 'Id_Fichier',\n",
    " 'Nomenclature',\n",
    " 'Exer',\n",
    " 'Siret',\n",
    " 'Siren',\n",
    " 'CodColl',\n",
    " 'LibelleColl',\n",
    " 'DteStr',\n",
    " 'Date',\n",
    " 'DteDec',\n",
    " 'DteDecEx',\n",
    " 'NumDec',\n",
    " 'IdPost',\n",
    " 'LibellePoste',\n",
    " 'LibelleEtabPal',\n",
    " 'IdEtabPal',\n",
    " 'LibelleEtab',\n",
    " 'IdEtab',\n",
    " 'NatDec',\n",
    " 'NatVote', \t\n",
    " 'OpeEquip', \n",
    " 'CodInseeColl',\t\n",
    " 'VoteFormelChap', \t\n",
    " 'TypProv', \t\n",
    " 'BudgPrec',\n",
    " 'RefProv',\t\n",
    " 'ReprRes', \t\n",
    " 'NatFonc', \t\n",
    " 'PresentationSimplifiee', \t\n",
    " 'DepFoncN2',\t\n",
    " 'RecFoncN2' ,\t\n",
    " 'DepInvN2' ,\t\n",
    " 'RecInvN2' ,\t\n",
    " 'CodTypBud',\n",
    " 'CodBud',\n",
    " 'ProjetBudget',  \t\n",
    " 'Affect',\n",
    " 'SpecifBudget',\n",
    " 'FinJur',\n",
    " 'Md5',\n",
    " 'Sha1'\t \t\n",
    " ]\n",
    "\n",
    "colonnes_doc_budgetaire_diff_date = [\n",
    " 'Id_Fichier',\n",
    " 'Plus_recent',\n",
    " 'Nomenclature',\n",
    " 'Exer',\n",
    " 'Siret',\n",
    " 'Siren',\n",
    " 'CodColl',\n",
    " 'LibelleColl',\n",
    " 'DteStr',\n",
    " 'Date',\n",
    " 'DteDec',\n",
    " 'DteDecEx',\n",
    " 'NumDec',\n",
    " 'IdPost',\n",
    " 'LibellePoste',\n",
    " 'LibelleEtabPal',\n",
    " 'IdEtabPal',\n",
    " 'LibelleEtab',\n",
    " 'IdEtab',\n",
    " 'NatDec',\n",
    " 'NatVote', \t\n",
    " 'OpeEquip', \n",
    " 'CodInseeColl',\t\n",
    " 'VoteFormelChap', \t\n",
    " 'TypProv', \t\n",
    " 'BudgPrec',\n",
    " 'RefProv',\t\n",
    " 'ReprRes', \t\n",
    " 'NatFonc', \t\n",
    " 'PresentationSimplifiee', \t\n",
    " 'DepFoncN2',\t\n",
    " 'RecFoncN2' ,\t\n",
    " 'DepInvN2' ,\t\n",
    " 'RecInvN2' ,\t\n",
    " 'CodTypBud',\n",
    " 'CodBud',\n",
    " 'ProjetBudget',  \t\n",
    " 'Affect',\n",
    " 'SpecifBudget',\n",
    " 'FinJur',\n",
    " 'Md5',\n",
    " 'Sha1'\t \t\n",
    " ]\n"
   ]
  },
  {
   "cell_type": "code",
   "execution_count": 19,
   "metadata": {},
   "outputs": [],
   "source": [
    "doublon_meme_date = doublon_meme_date[colonnes_doc_budgetaire_meme_date]\n",
    "doublon_diff_date = doublon_diff_date[colonnes_doc_budgetaire_diff_date]"
   ]
  },
  {
   "cell_type": "code",
   "execution_count": 29,
   "metadata": {},
   "outputs": [],
   "source": [
    "doublon_meme_date.to_csv('../data/explo/doc_budgetaire_doublon_memes_dates')\n",
    "doublon_diff_date.to_csv('../data/explo/doc_budgetaire_doublon_diff_dates')\n",
    "doc_doublon.to_csv('../data/explo/doc_budgetaire_doublon')"
   ]
  },
  {
   "cell_type": "markdown",
   "metadata": {},
   "source": [
    "--------\n",
    "Explo des lignes budgets mêmes dates \n",
    "\n",
    "-------------"
   ]
  },
  {
   "cell_type": "markdown",
   "metadata": {},
   "source": [
    "Prenons l'exemple de 681458 et 681423"
   ]
  },
  {
   "cell_type": "code",
   "execution_count": 23,
   "metadata": {},
   "outputs": [
    {
     "name": "stdout",
     "output_type": "stream",
     "text": [
      "taille premier : 103\n",
      "taille seconnd : 103\n"
     ]
    }
   ],
   "source": [
    "budget_691458 = df_budget[df_budget['Id_Fichier'] == '681458']\n",
    "budget_681423 = df_budget[df_budget['Id_Fichier'] == '681423']\n",
    "\n",
    "budget_1er_doublon = df_budget[df_budget['Id_Fichier'].isin(['681458', '681423'])]\n",
    "\n",
    "print('taille premier :', budget_691458.shape[0])\n",
    "print('taille seconnd :', budget_681423.shape[0])\n"
   ]
  },
  {
   "cell_type": "markdown",
   "metadata": {},
   "source": [
    "Si les lignes sont les mêmes, on passera de 206 lignes à 103. \n",
    "\n",
    "On va d'avoir retirer l'Id_Fichier qui est évidemment différent (et qui devrait être la seule diff)"
   ]
  },
  {
   "cell_type": "code",
   "execution_count": 24,
   "metadata": {},
   "outputs": [
    {
     "name": "stdout",
     "output_type": "stream",
     "text": [
      "103 \n",
      "\n",
      "Id_Fichier\n",
      "681458    103\n",
      "Name: count, dtype: int64\n"
     ]
    }
   ],
   "source": [
    "col_autres_que_id = budget_1er_doublon.columns.difference(['Id_Fichier'])\n",
    "\n",
    "budget_test_unique = budget_1er_doublon.drop_duplicates(subset=col_autres_que_id, keep = 'first')\n",
    "print(budget_test_unique.shape[0], '\\n')\n",
    "print(budget_test_unique['Id_Fichier'].value_counts())"
   ]
  },
  {
   "cell_type": "markdown",
   "metadata": {},
   "source": [
    "Maintenant, il suffit de généraliser ça "
   ]
  },
  {
   "cell_type": "code",
   "execution_count": 25,
   "metadata": {},
   "outputs": [
    {
     "name": "stdout",
     "output_type": "stream",
     "text": [
      "doublon pure : 0 lignes budgets \n",
      "\n"
     ]
    }
   ],
   "source": [
    "liste_id_doublon_meme = doublon_meme_date['Id_Fichier'].to_list()\n",
    "\n",
    "df_budget_doublon_meme = df_budget[df_budget['Id_Fichier'].isin(liste_id_doublon_meme)]\n",
    "\n",
    "print('doublon pure :',df_budget_doublon_meme.shape[0], 'lignes budgets \\n')"
   ]
  },
  {
   "cell_type": "markdown",
   "metadata": {},
   "source": [
    "Certains sont en triples donc on peut pas juste diviser par deux"
   ]
  },
  {
   "cell_type": "code",
   "execution_count": 26,
   "metadata": {},
   "outputs": [
    {
     "name": "stdout",
     "output_type": "stream",
     "text": [
      "Il y a  0 lignes budgets unique dans les données budgets des documents doublons envoyés au même moment\n"
     ]
    }
   ],
   "source": [
    "df_budget_unique_meme_f = df_budget_doublon_meme.drop_duplicates(subset=col_autres_que_id, keep = False)\n",
    "\n",
    "print('Il y a ', df_budget_unique_meme_f.shape[0], 'lignes budgets unique \\\n",
    "dans les données budgets des documents doublons envoyés au même moment')\n"
   ]
  },
  {
   "cell_type": "markdown",
   "metadata": {},
   "source": [
    "--------------\n",
    "Maintenant, recherche chez ceux qui ont une diff \n",
    "\n",
    "-----------\n"
   ]
  },
  {
   "cell_type": "markdown",
   "metadata": {},
   "source": [
    "Prenons les id_fichier 790376 et 791034"
   ]
  },
  {
   "cell_type": "code",
   "execution_count": 27,
   "metadata": {},
   "outputs": [
    {
     "name": "stdout",
     "output_type": "stream",
     "text": [
      "131\n",
      "131\n"
     ]
    }
   ],
   "source": [
    "budget_790376 = df_budget[df_budget['Id_Fichier'] == '790376']\n",
    "budget_791034 = df_budget[df_budget['Id_Fichier'] == '791034']\n",
    "budget_test_diff = df_budget[df_budget['Id_Fichier'].isin(['791034', '790376'])]\n",
    "\n",
    "print(budget_790376.shape[0])\n",
    "print(budget_791034.shape[0])"
   ]
  },
  {
   "cell_type": "code",
   "execution_count": 28,
   "metadata": {},
   "outputs": [
    {
     "name": "stdout",
     "output_type": "stream",
     "text": [
      "172 \n",
      "\n",
      "Id_Fichier\n",
      "790376    131\n",
      "791034     41\n",
      "Name: count, dtype: int64\n"
     ]
    }
   ],
   "source": [
    "budget_dif_unique = budget_test_diff.drop_duplicates(subset=col_autres_que_id, keep = 'first')\n",
    "print(budget_dif_unique.shape[0], '\\n')\n",
    "print(budget_dif_unique['Id_Fichier'].value_counts())"
   ]
  }
 ],
 "metadata": {
  "kernelspec": {
   "display_name": ".venv",
   "language": "python",
   "name": "python3"
  },
  "language_info": {
   "codemirror_mode": {
    "name": "ipython",
    "version": 3
   },
   "file_extension": ".py",
   "mimetype": "text/x-python",
   "name": "python",
   "nbconvert_exporter": "python",
   "pygments_lexer": "ipython3",
   "version": "3.9.2"
  },
  "orig_nbformat": 4
 },
 "nbformat": 4,
 "nbformat_minor": 2
}
