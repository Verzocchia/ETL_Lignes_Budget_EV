{
 "cells": [
  {
   "cell_type": "markdown",
   "metadata": {},
   "source": [
    "L'objectif est de simplement scraper et stocker sous forme de fichiers xml les différents plans de comptes\n",
    "\n",
    "Entrée : rien\n",
    "\n",
    "Sortie : Fichiers xml stockés dans le dossier \"plan_compte\""
   ]
  },
  {
   "cell_type": "markdown",
   "metadata": {},
   "source": [
    "Stratégie naïve : \n",
    "\n",
    "- A partir de l'url mère, on va demander au plan de comptes d'aller chercher, pour commencer, dans l'année 2020. \n",
    "- Le script va aller chercher dans l'arborescence cette année les différentes nomenclature. \n",
    "- Dans chacune de ces nomenclatures, le script va récupérer le plan de compte xml lié\n",
    "- Le script va renommer le fichier par sa nomenclature\n",
    "- Le fichier renommer va être localement stocké dans un dossier \"plans_de_comptes/2020/...\""
   ]
  },
  {
   "cell_type": "markdown",
   "metadata": {},
   "source": [
    "Questionnements, limite et autres propositions : \n",
    "- Partant du principe que l'on aurait pas besoin de le découper pour airflow (script peu utilisé), \n",
    "je me suis permi de ne pas beaucoup le découper en fonctions (mais ce serait rapide à faire)\n",
    "- Stratégie plutôt globale, vu qu'elle consiste à faire une immense liste de tout les planDeCompte du site, on aurait pu imaginer un script qui va individuellement chercher les urls et téléchargé l'url dès qu'elle finie par planDeCompte.xml \n",
    "- Ce serait très rapide de faire une variante permettant de selectionner une seule année ou une seule nomenclature, c'est simplement du troncage sur le tronc du code"
   ]
  },
  {
   "cell_type": "code",
   "execution_count": 2,
   "metadata": {},
   "outputs": [],
   "source": [
    "import requests\n",
    "from bs4 import BeautifulSoup\n",
    "import os \n",
    "\n",
    "\n",
    "def url_to_soup(url) : \n",
    " requete = requests.get(url)\n",
    " requete_soupe = BeautifulSoup(requete.text, 'html.parser')\n",
    " return requete_soupe\n"
   ]
  },
  {
   "cell_type": "markdown",
   "metadata": {},
   "source": [
    "ce qu'on souhaite, en soi c'est reconstituer les différents url, donc commencons au plus simple, comme si on était déjà à l'étape \"année/nomenclature\" avec l'exemple de M14"
   ]
  },
  {
   "cell_type": "code",
   "execution_count": 3,
   "metadata": {},
   "outputs": [
    {
     "data": {
      "text/plain": [
       "['http://odm-budgetaire.org/composants/normes/2020/M14/M14_CCAS_INF3500/planDeCompte.xml',\n",
       " 'http://odm-budgetaire.org/composants/normes/2020/M14/M14_CCAS_SUP3500/planDeCompte.xml',\n",
       " 'http://odm-budgetaire.org/composants/normes/2020/M14/M14_CE/planDeCompte.xml',\n",
       " 'http://odm-budgetaire.org/composants/normes/2020/M14/M14_COM_500_3500/planDeCompte.xml',\n",
       " 'http://odm-budgetaire.org/composants/normes/2020/M14/M14_COM_INF500/planDeCompte.xml',\n",
       " 'http://odm-budgetaire.org/composants/normes/2020/M14/M14_COM_SUP3500/planDeCompte.xml']"
      ]
     },
     "execution_count": 3,
     "metadata": {},
     "output_type": "execute_result"
    }
   ],
   "source": [
    "url_exemple_m14 = \"http://odm-budgetaire.org/composants/normes/2020/M14\"\n",
    "soupe_m14 = url_to_soup(url_exemple_m14)\n",
    "soupe_m14 = soupe_m14.find_all('a', string=lambda texte: 'M' in texte)\n",
    "liste_new_url = []\n",
    "for nom in soupe_m14 :\n",
    " liste_new_url.append(f\"{url_exemple_m14}/{nom.text}planDeCompte.xml\")\n",
    "liste_new_url"
   ]
  },
  {
   "cell_type": "markdown",
   "metadata": {},
   "source": [
    "Les planDeCompte prendront toujours la même forme, donc on a pas besoin de les chercher, on les connait déjà ! \n",
    "On a accès à plusieurs planDeCompte, maintenant il faut généraliser cette méthode : "
   ]
  },
  {
   "cell_type": "code",
   "execution_count": 14,
   "metadata": {},
   "outputs": [
    {
     "data": {
      "text/plain": [
       "['http://odm-budgetaire.org/composants/normes/2013/',\n",
       " 'http://odm-budgetaire.org/composants/normes/2014/',\n",
       " 'http://odm-budgetaire.org/composants/normes/2015/',\n",
       " 'http://odm-budgetaire.org/composants/normes/2016/',\n",
       " 'http://odm-budgetaire.org/composants/normes/2017/',\n",
       " 'http://odm-budgetaire.org/composants/normes/2018/',\n",
       " 'http://odm-budgetaire.org/composants/normes/2019/',\n",
       " 'http://odm-budgetaire.org/composants/normes/2020/',\n",
       " 'http://odm-budgetaire.org/composants/normes/2021/',\n",
       " 'http://odm-budgetaire.org/composants/normes/2022/',\n",
       " 'http://odm-budgetaire.org/composants/normes/2023/',\n",
       " 'http://odm-budgetaire.org/composants/normes/2024/']"
      ]
     },
     "execution_count": 14,
     "metadata": {},
     "output_type": "execute_result"
    }
   ],
   "source": [
    "url_basique = 'http://odm-budgetaire.org/composants/normes/'\n",
    "\n",
    "soupe_mere = url_to_soup(url_basique)\n",
    "soupe_annees = soupe_mere.find_all('a', string=lambda texte: '20' in texte)\n",
    "\n",
    "url_annees = []\n",
    "for i in soupe_annees :\n",
    "    url_annees.append(f'{url_basique}{i.text}')\n",
    "\n",
    "annee_sans_plan_de_compte = ['http://odm-budgetaire.org/composants/normes/2010/', 'http://odm-budgetaire.org/composants/normes/2011/','http://odm-budgetaire.org/composants/normes/2012/']\n",
    "url_annees_propre = [year for year in url_annees if year not in annee_sans_plan_de_compte]\n",
    "url_annees_propre\n",
    " "
   ]
  },
  {
   "cell_type": "markdown",
   "metadata": {},
   "source": [
    "Les années 2010, 2011 et 2011 ne comportent pas de planDeCompte, ils nous sont donc inutiles, à partir de cette liste d'années on va pouvoir appliquer à chaque année la même méthode"
   ]
  },
  {
   "cell_type": "code",
   "execution_count": 5,
   "metadata": {},
   "outputs": [
    {
     "data": {
      "text/plain": [
       "['http://odm-budgetaire.org/composants/normes/2013/M14/',\n",
       " 'http://odm-budgetaire.org/composants/normes/2013/M4/',\n",
       " 'http://odm-budgetaire.org/composants/normes/2013/M52/',\n",
       " 'http://odm-budgetaire.org/composants/normes/2013/M61/',\n",
       " 'http://odm-budgetaire.org/composants/normes/2013/M71/',\n",
       " 'http://odm-budgetaire.org/composants/normes/2014/M14/',\n",
       " 'http://odm-budgetaire.org/composants/normes/2014/M4/',\n",
       " 'http://odm-budgetaire.org/composants/normes/2014/M52/',\n",
       " 'http://odm-budgetaire.org/composants/normes/2014/M61/',\n",
       " 'http://odm-budgetaire.org/composants/normes/2014/M71/',\n",
       " 'http://odm-budgetaire.org/composants/normes/2015/M14/',\n",
       " 'http://odm-budgetaire.org/composants/normes/2015/M4/',\n",
       " 'http://odm-budgetaire.org/composants/normes/2015/M52/',\n",
       " 'http://odm-budgetaire.org/composants/normes/2015/M57/',\n",
       " 'http://odm-budgetaire.org/composants/normes/2015/M61/',\n",
       " 'http://odm-budgetaire.org/composants/normes/2015/M71/',\n",
       " 'http://odm-budgetaire.org/composants/normes/2016/M14/',\n",
       " 'http://odm-budgetaire.org/composants/normes/2016/M4/',\n",
       " 'http://odm-budgetaire.org/composants/normes/2016/M52/',\n",
       " 'http://odm-budgetaire.org/composants/normes/2016/M57/',\n",
       " 'http://odm-budgetaire.org/composants/normes/2016/M61/',\n",
       " 'http://odm-budgetaire.org/composants/normes/2016/M71/',\n",
       " 'http://odm-budgetaire.org/composants/normes/2017/M14/',\n",
       " 'http://odm-budgetaire.org/composants/normes/2017/M4/',\n",
       " 'http://odm-budgetaire.org/composants/normes/2017/M52/',\n",
       " 'http://odm-budgetaire.org/composants/normes/2017/M57/',\n",
       " 'http://odm-budgetaire.org/composants/normes/2017/M61/',\n",
       " 'http://odm-budgetaire.org/composants/normes/2017/M71/',\n",
       " 'http://odm-budgetaire.org/composants/normes/2018/M14/',\n",
       " 'http://odm-budgetaire.org/composants/normes/2018/M4/',\n",
       " 'http://odm-budgetaire.org/composants/normes/2018/M52/',\n",
       " 'http://odm-budgetaire.org/composants/normes/2018/M57/',\n",
       " 'http://odm-budgetaire.org/composants/normes/2018/M61/',\n",
       " 'http://odm-budgetaire.org/composants/normes/2018/M71/',\n",
       " 'http://odm-budgetaire.org/composants/normes/2019/M14/',\n",
       " 'http://odm-budgetaire.org/composants/normes/2019/M4/',\n",
       " 'http://odm-budgetaire.org/composants/normes/2019/M52/',\n",
       " 'http://odm-budgetaire.org/composants/normes/2019/M57/',\n",
       " 'http://odm-budgetaire.org/composants/normes/2019/M61/',\n",
       " 'http://odm-budgetaire.org/composants/normes/2019/M71/',\n",
       " 'http://odm-budgetaire.org/composants/normes/2020/M14/',\n",
       " 'http://odm-budgetaire.org/composants/normes/2020/M4/',\n",
       " 'http://odm-budgetaire.org/composants/normes/2020/M52/',\n",
       " 'http://odm-budgetaire.org/composants/normes/2020/M57/',\n",
       " 'http://odm-budgetaire.org/composants/normes/2020/M61/',\n",
       " 'http://odm-budgetaire.org/composants/normes/2020/M71/',\n",
       " 'http://odm-budgetaire.org/composants/normes/2021/M14/',\n",
       " 'http://odm-budgetaire.org/composants/normes/2021/M4/',\n",
       " 'http://odm-budgetaire.org/composants/normes/2021/M52/',\n",
       " 'http://odm-budgetaire.org/composants/normes/2021/M57/',\n",
       " 'http://odm-budgetaire.org/composants/normes/2021/M61/',\n",
       " 'http://odm-budgetaire.org/composants/normes/2021/M71/',\n",
       " 'http://odm-budgetaire.org/composants/normes/2022/M14/',\n",
       " 'http://odm-budgetaire.org/composants/normes/2022/M4/',\n",
       " 'http://odm-budgetaire.org/composants/normes/2022/M52/',\n",
       " 'http://odm-budgetaire.org/composants/normes/2022/M57/',\n",
       " 'http://odm-budgetaire.org/composants/normes/2022/M61/',\n",
       " 'http://odm-budgetaire.org/composants/normes/2022/M71/',\n",
       " 'http://odm-budgetaire.org/composants/normes/2023/M14/',\n",
       " 'http://odm-budgetaire.org/composants/normes/2023/M4/',\n",
       " 'http://odm-budgetaire.org/composants/normes/2023/M52/',\n",
       " 'http://odm-budgetaire.org/composants/normes/2023/M57/',\n",
       " 'http://odm-budgetaire.org/composants/normes/2023/M61/',\n",
       " 'http://odm-budgetaire.org/composants/normes/2023/M71/',\n",
       " 'http://odm-budgetaire.org/composants/normes/2024/M14/',\n",
       " 'http://odm-budgetaire.org/composants/normes/2024/M4/',\n",
       " 'http://odm-budgetaire.org/composants/normes/2024/M52/',\n",
       " 'http://odm-budgetaire.org/composants/normes/2024/M57/',\n",
       " 'http://odm-budgetaire.org/composants/normes/2024/M61/',\n",
       " 'http://odm-budgetaire.org/composants/normes/2024/M71/']"
      ]
     },
     "execution_count": 5,
     "metadata": {},
     "output_type": "execute_result"
    }
   ],
   "source": [
    "liste_url_xml = []\n",
    "liste_url_nomenclature = []\n",
    "for i in url_annees_propre : \n",
    " sous_soupe = url_to_soup(i)\n",
    " ensemble_nomenclatures = sous_soupe.find_all('a', string=lambda texte: 'M' in texte)\n",
    " for nomenclature in ensemble_nomenclatures : \n",
    "  liste_url_nomenclature.append(f'{i}{nomenclature.text}')\n",
    "\n",
    "liste_url_nomenclature\n"
   ]
  },
  {
   "cell_type": "markdown",
   "metadata": {},
   "source": [
    "Et on execute le même principe pour trouver les secondes parties de nomenclatures : C'est évidemment long de façon exponentiel, heureusement on a pas trop de descendants "
   ]
  },
  {
   "cell_type": "code",
   "execution_count": 6,
   "metadata": {},
   "outputs": [
    {
     "data": {
      "text/plain": [
       "['http://odm-budgetaire.org/composants/normes/2013/M14/M14_CCAS_INF3500/planDeCompte.xml',\n",
       " 'http://odm-budgetaire.org/composants/normes/2013/M14/M14_CCAS_SUP3500/planDeCompte.xml',\n",
       " 'http://odm-budgetaire.org/composants/normes/2013/M14/M14_CE/planDeCompte.xml',\n",
       " 'http://odm-budgetaire.org/composants/normes/2013/M14/M14_COM_500_3500/planDeCompte.xml',\n",
       " 'http://odm-budgetaire.org/composants/normes/2013/M14/M14_COM_INF500/planDeCompte.xml',\n",
       " 'http://odm-budgetaire.org/composants/normes/2013/M14/M14_COM_SUP3500/planDeCompte.xml',\n",
       " 'http://odm-budgetaire.org/composants/normes/2013/M4/M4/planDeCompte.xml',\n",
       " 'http://odm-budgetaire.org/composants/normes/2013/M4/M41/planDeCompte.xml',\n",
       " 'http://odm-budgetaire.org/composants/normes/2013/M4/M42/planDeCompte.xml',\n",
       " 'http://odm-budgetaire.org/composants/normes/2013/M4/M43_A/planDeCompte.xml',\n",
       " 'http://odm-budgetaire.org/composants/normes/2013/M4/M43_D/planDeCompte.xml',\n",
       " 'http://odm-budgetaire.org/composants/normes/2013/M4/M44/planDeCompte.xml',\n",
       " 'http://odm-budgetaire.org/composants/normes/2013/M4/M49_A/planDeCompte.xml',\n",
       " 'http://odm-budgetaire.org/composants/normes/2013/M4/M49_D/planDeCompte.xml',\n",
       " 'http://odm-budgetaire.org/composants/normes/2013/M52/M52/planDeCompte.xml',\n",
       " 'http://odm-budgetaire.org/composants/normes/2013/M61/M61/planDeCompte.xml',\n",
       " 'http://odm-budgetaire.org/composants/normes/2013/M71/M71/planDeCompte.xml',\n",
       " 'http://odm-budgetaire.org/composants/normes/2014/M14/M14_CCAS_INF3500/planDeCompte.xml',\n",
       " 'http://odm-budgetaire.org/composants/normes/2014/M14/M14_CCAS_SUP3500/planDeCompte.xml',\n",
       " 'http://odm-budgetaire.org/composants/normes/2014/M14/M14_CE/planDeCompte.xml',\n",
       " 'http://odm-budgetaire.org/composants/normes/2014/M14/M14_COM_500_3500/planDeCompte.xml',\n",
       " 'http://odm-budgetaire.org/composants/normes/2014/M14/M14_COM_INF500/planDeCompte.xml',\n",
       " 'http://odm-budgetaire.org/composants/normes/2014/M14/M14_COM_SUP3500/planDeCompte.xml',\n",
       " 'http://odm-budgetaire.org/composants/normes/2014/M4/M4/planDeCompte.xml',\n",
       " 'http://odm-budgetaire.org/composants/normes/2014/M4/M41/planDeCompte.xml',\n",
       " 'http://odm-budgetaire.org/composants/normes/2014/M4/M42/planDeCompte.xml',\n",
       " 'http://odm-budgetaire.org/composants/normes/2014/M4/M43_A/planDeCompte.xml',\n",
       " 'http://odm-budgetaire.org/composants/normes/2014/M4/M43_D/planDeCompte.xml',\n",
       " 'http://odm-budgetaire.org/composants/normes/2014/M4/M44/planDeCompte.xml',\n",
       " 'http://odm-budgetaire.org/composants/normes/2014/M4/M49_A/planDeCompte.xml',\n",
       " 'http://odm-budgetaire.org/composants/normes/2014/M4/M49_D/planDeCompte.xml',\n",
       " 'http://odm-budgetaire.org/composants/normes/2014/M52/M52/planDeCompte.xml',\n",
       " 'http://odm-budgetaire.org/composants/normes/2014/M61/M61/planDeCompte.xml',\n",
       " 'http://odm-budgetaire.org/composants/normes/2014/M71/M71/planDeCompte.xml',\n",
       " 'http://odm-budgetaire.org/composants/normes/2015/M14/M14_CCAS_INF3500/planDeCompte.xml',\n",
       " 'http://odm-budgetaire.org/composants/normes/2015/M14/M14_CCAS_SUP3500/planDeCompte.xml',\n",
       " 'http://odm-budgetaire.org/composants/normes/2015/M14/M14_CE/planDeCompte.xml',\n",
       " 'http://odm-budgetaire.org/composants/normes/2015/M14/M14_COM_500_3500/planDeCompte.xml',\n",
       " 'http://odm-budgetaire.org/composants/normes/2015/M14/M14_COM_INF500/planDeCompte.xml',\n",
       " 'http://odm-budgetaire.org/composants/normes/2015/M14/M14_COM_SUP3500/planDeCompte.xml',\n",
       " 'http://odm-budgetaire.org/composants/normes/2015/M4/M4/planDeCompte.xml',\n",
       " 'http://odm-budgetaire.org/composants/normes/2015/M4/M41/planDeCompte.xml',\n",
       " 'http://odm-budgetaire.org/composants/normes/2015/M4/M42/planDeCompte.xml',\n",
       " 'http://odm-budgetaire.org/composants/normes/2015/M4/M43_A/planDeCompte.xml',\n",
       " 'http://odm-budgetaire.org/composants/normes/2015/M4/M43_D/planDeCompte.xml',\n",
       " 'http://odm-budgetaire.org/composants/normes/2015/M4/M44/planDeCompte.xml',\n",
       " 'http://odm-budgetaire.org/composants/normes/2015/M4/M49_A/planDeCompte.xml',\n",
       " 'http://odm-budgetaire.org/composants/normes/2015/M4/M49_D/planDeCompte.xml',\n",
       " 'http://odm-budgetaire.org/composants/normes/2015/M52/M52/planDeCompte.xml',\n",
       " 'http://odm-budgetaire.org/composants/normes/2015/M57/M57/planDeCompte.xml',\n",
       " 'http://odm-budgetaire.org/composants/normes/2015/M61/M61/planDeCompte.xml',\n",
       " 'http://odm-budgetaire.org/composants/normes/2015/M71/M71/planDeCompte.xml',\n",
       " 'http://odm-budgetaire.org/composants/normes/2016/M14/M14_CCAS_INF3500/planDeCompte.xml',\n",
       " 'http://odm-budgetaire.org/composants/normes/2016/M14/M14_CCAS_SUP3500/planDeCompte.xml',\n",
       " 'http://odm-budgetaire.org/composants/normes/2016/M14/M14_CE/planDeCompte.xml',\n",
       " 'http://odm-budgetaire.org/composants/normes/2016/M14/M14_COM_500_3500/planDeCompte.xml',\n",
       " 'http://odm-budgetaire.org/composants/normes/2016/M14/M14_COM_INF500/planDeCompte.xml',\n",
       " 'http://odm-budgetaire.org/composants/normes/2016/M14/M14_COM_SUP3500/planDeCompte.xml',\n",
       " 'http://odm-budgetaire.org/composants/normes/2016/M4/M4/planDeCompte.xml',\n",
       " 'http://odm-budgetaire.org/composants/normes/2016/M4/M41/planDeCompte.xml',\n",
       " 'http://odm-budgetaire.org/composants/normes/2016/M4/M42/planDeCompte.xml',\n",
       " 'http://odm-budgetaire.org/composants/normes/2016/M4/M43_A/planDeCompte.xml',\n",
       " 'http://odm-budgetaire.org/composants/normes/2016/M4/M43_D/planDeCompte.xml',\n",
       " 'http://odm-budgetaire.org/composants/normes/2016/M4/M44/planDeCompte.xml',\n",
       " 'http://odm-budgetaire.org/composants/normes/2016/M4/M49_A/planDeCompte.xml',\n",
       " 'http://odm-budgetaire.org/composants/normes/2016/M4/M49_D/planDeCompte.xml',\n",
       " 'http://odm-budgetaire.org/composants/normes/2016/M52/M52/planDeCompte.xml',\n",
       " 'http://odm-budgetaire.org/composants/normes/2016/M57/M57/planDeCompte.xml',\n",
       " 'http://odm-budgetaire.org/composants/normes/2016/M61/M61/planDeCompte.xml',\n",
       " 'http://odm-budgetaire.org/composants/normes/2016/M71/M71/planDeCompte.xml',\n",
       " 'http://odm-budgetaire.org/composants/normes/2017/M14/M14_CCAS_INF3500/planDeCompte.xml',\n",
       " 'http://odm-budgetaire.org/composants/normes/2017/M14/M14_CCAS_SUP3500/planDeCompte.xml',\n",
       " 'http://odm-budgetaire.org/composants/normes/2017/M14/M14_CE/planDeCompte.xml',\n",
       " 'http://odm-budgetaire.org/composants/normes/2017/M14/M14_COM_500_3500/planDeCompte.xml',\n",
       " 'http://odm-budgetaire.org/composants/normes/2017/M14/M14_COM_INF500/planDeCompte.xml',\n",
       " 'http://odm-budgetaire.org/composants/normes/2017/M14/M14_COM_SUP3500/planDeCompte.xml',\n",
       " 'http://odm-budgetaire.org/composants/normes/2017/M4/M4/planDeCompte.xml',\n",
       " 'http://odm-budgetaire.org/composants/normes/2017/M4/M41/planDeCompte.xml',\n",
       " 'http://odm-budgetaire.org/composants/normes/2017/M4/M42/planDeCompte.xml',\n",
       " 'http://odm-budgetaire.org/composants/normes/2017/M4/M43_A/planDeCompte.xml',\n",
       " 'http://odm-budgetaire.org/composants/normes/2017/M4/M43_D/planDeCompte.xml',\n",
       " 'http://odm-budgetaire.org/composants/normes/2017/M4/M44/planDeCompte.xml',\n",
       " 'http://odm-budgetaire.org/composants/normes/2017/M4/M49_A/planDeCompte.xml',\n",
       " 'http://odm-budgetaire.org/composants/normes/2017/M4/M49_D/planDeCompte.xml',\n",
       " 'http://odm-budgetaire.org/composants/normes/2017/M52/M52/planDeCompte.xml',\n",
       " 'http://odm-budgetaire.org/composants/normes/2017/M57/M57/planDeCompte.xml',\n",
       " 'http://odm-budgetaire.org/composants/normes/2017/M61/M61/planDeCompte.xml',\n",
       " 'http://odm-budgetaire.org/composants/normes/2017/M71/M71/planDeCompte.xml',\n",
       " 'http://odm-budgetaire.org/composants/normes/2018/M14/M14_CCAS_INF3500/planDeCompte.xml',\n",
       " 'http://odm-budgetaire.org/composants/normes/2018/M14/M14_CCAS_SUP3500/planDeCompte.xml',\n",
       " 'http://odm-budgetaire.org/composants/normes/2018/M14/M14_CE/planDeCompte.xml',\n",
       " 'http://odm-budgetaire.org/composants/normes/2018/M14/M14_COM_500_3500/planDeCompte.xml',\n",
       " 'http://odm-budgetaire.org/composants/normes/2018/M14/M14_COM_INF500/planDeCompte.xml',\n",
       " 'http://odm-budgetaire.org/composants/normes/2018/M14/M14_COM_SUP3500/planDeCompte.xml',\n",
       " 'http://odm-budgetaire.org/composants/normes/2018/M4/M4/planDeCompte.xml',\n",
       " 'http://odm-budgetaire.org/composants/normes/2018/M4/M41/planDeCompte.xml',\n",
       " 'http://odm-budgetaire.org/composants/normes/2018/M4/M42/planDeCompte.xml',\n",
       " 'http://odm-budgetaire.org/composants/normes/2018/M4/M43_A/planDeCompte.xml',\n",
       " 'http://odm-budgetaire.org/composants/normes/2018/M4/M43_D/planDeCompte.xml',\n",
       " 'http://odm-budgetaire.org/composants/normes/2018/M4/M44/planDeCompte.xml',\n",
       " 'http://odm-budgetaire.org/composants/normes/2018/M4/M49_A/planDeCompte.xml',\n",
       " 'http://odm-budgetaire.org/composants/normes/2018/M4/M49_D/planDeCompte.xml',\n",
       " 'http://odm-budgetaire.org/composants/normes/2018/M52/M52/planDeCompte.xml',\n",
       " 'http://odm-budgetaire.org/composants/normes/2018/M57/M57/planDeCompte.xml',\n",
       " 'http://odm-budgetaire.org/composants/normes/2018/M61/M61/planDeCompte.xml',\n",
       " 'http://odm-budgetaire.org/composants/normes/2018/M71/M71/planDeCompte.xml',\n",
       " 'http://odm-budgetaire.org/composants/normes/2019/M14/M14_CCAS_INF3500/planDeCompte.xml',\n",
       " 'http://odm-budgetaire.org/composants/normes/2019/M14/M14_CCAS_SUP3500/planDeCompte.xml',\n",
       " 'http://odm-budgetaire.org/composants/normes/2019/M14/M14_CE/planDeCompte.xml',\n",
       " 'http://odm-budgetaire.org/composants/normes/2019/M14/M14_COM_500_3500/planDeCompte.xml',\n",
       " 'http://odm-budgetaire.org/composants/normes/2019/M14/M14_COM_INF500/planDeCompte.xml',\n",
       " 'http://odm-budgetaire.org/composants/normes/2019/M14/M14_COM_SUP3500/planDeCompte.xml',\n",
       " 'http://odm-budgetaire.org/composants/normes/2019/M4/M4/planDeCompte.xml',\n",
       " 'http://odm-budgetaire.org/composants/normes/2019/M4/M41/planDeCompte.xml',\n",
       " 'http://odm-budgetaire.org/composants/normes/2019/M4/M42/planDeCompte.xml',\n",
       " 'http://odm-budgetaire.org/composants/normes/2019/M4/M43_A/planDeCompte.xml',\n",
       " 'http://odm-budgetaire.org/composants/normes/2019/M4/M43_D/planDeCompte.xml',\n",
       " 'http://odm-budgetaire.org/composants/normes/2019/M4/M44/planDeCompte.xml',\n",
       " 'http://odm-budgetaire.org/composants/normes/2019/M4/M49_A/planDeCompte.xml',\n",
       " 'http://odm-budgetaire.org/composants/normes/2019/M4/M49_D/planDeCompte.xml',\n",
       " 'http://odm-budgetaire.org/composants/normes/2019/M52/M52/planDeCompte.xml',\n",
       " 'http://odm-budgetaire.org/composants/normes/2019/M57/M57/planDeCompte.xml',\n",
       " 'http://odm-budgetaire.org/composants/normes/2019/M61/M61/planDeCompte.xml',\n",
       " 'http://odm-budgetaire.org/composants/normes/2019/M71/M71/planDeCompte.xml',\n",
       " 'http://odm-budgetaire.org/composants/normes/2020/M14/M14_CCAS_INF3500/planDeCompte.xml',\n",
       " 'http://odm-budgetaire.org/composants/normes/2020/M14/M14_CCAS_SUP3500/planDeCompte.xml',\n",
       " 'http://odm-budgetaire.org/composants/normes/2020/M14/M14_CE/planDeCompte.xml',\n",
       " 'http://odm-budgetaire.org/composants/normes/2020/M14/M14_COM_500_3500/planDeCompte.xml',\n",
       " 'http://odm-budgetaire.org/composants/normes/2020/M14/M14_COM_INF500/planDeCompte.xml',\n",
       " 'http://odm-budgetaire.org/composants/normes/2020/M14/M14_COM_SUP3500/planDeCompte.xml',\n",
       " 'http://odm-budgetaire.org/composants/normes/2020/M4/M4/planDeCompte.xml',\n",
       " 'http://odm-budgetaire.org/composants/normes/2020/M4/M41/planDeCompte.xml',\n",
       " 'http://odm-budgetaire.org/composants/normes/2020/M4/M42/planDeCompte.xml',\n",
       " 'http://odm-budgetaire.org/composants/normes/2020/M4/M43_A/planDeCompte.xml',\n",
       " 'http://odm-budgetaire.org/composants/normes/2020/M4/M43_D/planDeCompte.xml',\n",
       " 'http://odm-budgetaire.org/composants/normes/2020/M4/M44/planDeCompte.xml',\n",
       " 'http://odm-budgetaire.org/composants/normes/2020/M4/M49_A/planDeCompte.xml',\n",
       " 'http://odm-budgetaire.org/composants/normes/2020/M4/M49_D/planDeCompte.xml',\n",
       " 'http://odm-budgetaire.org/composants/normes/2020/M52/M52/planDeCompte.xml',\n",
       " 'http://odm-budgetaire.org/composants/normes/2020/M57/M57/planDeCompte.xml',\n",
       " 'http://odm-budgetaire.org/composants/normes/2020/M61/M61/planDeCompte.xml',\n",
       " 'http://odm-budgetaire.org/composants/normes/2020/M71/M71/planDeCompte.xml',\n",
       " 'http://odm-budgetaire.org/composants/normes/2021/M14/M14_CCAS_INF3500/planDeCompte.xml',\n",
       " 'http://odm-budgetaire.org/composants/normes/2021/M14/M14_CCAS_SUP3500/planDeCompte.xml',\n",
       " 'http://odm-budgetaire.org/composants/normes/2021/M14/M14_CE/planDeCompte.xml',\n",
       " 'http://odm-budgetaire.org/composants/normes/2021/M14/M14_COM_500_3500/planDeCompte.xml',\n",
       " 'http://odm-budgetaire.org/composants/normes/2021/M14/M14_COM_INF500/planDeCompte.xml',\n",
       " 'http://odm-budgetaire.org/composants/normes/2021/M14/M14_COM_SUP3500/planDeCompte.xml',\n",
       " 'http://odm-budgetaire.org/composants/normes/2021/M4/M4/planDeCompte.xml',\n",
       " 'http://odm-budgetaire.org/composants/normes/2021/M4/M41/planDeCompte.xml',\n",
       " 'http://odm-budgetaire.org/composants/normes/2021/M4/M42/planDeCompte.xml',\n",
       " 'http://odm-budgetaire.org/composants/normes/2021/M4/M43_A/planDeCompte.xml',\n",
       " 'http://odm-budgetaire.org/composants/normes/2021/M4/M43_D/planDeCompte.xml',\n",
       " 'http://odm-budgetaire.org/composants/normes/2021/M4/M44/planDeCompte.xml',\n",
       " 'http://odm-budgetaire.org/composants/normes/2021/M4/M49_A/planDeCompte.xml',\n",
       " 'http://odm-budgetaire.org/composants/normes/2021/M4/M49_D/planDeCompte.xml',\n",
       " 'http://odm-budgetaire.org/composants/normes/2021/M52/M52/planDeCompte.xml',\n",
       " 'http://odm-budgetaire.org/composants/normes/2021/M57/M57/planDeCompte.xml',\n",
       " 'http://odm-budgetaire.org/composants/normes/2021/M61/M61/planDeCompte.xml',\n",
       " 'http://odm-budgetaire.org/composants/normes/2021/M71/M71/planDeCompte.xml',\n",
       " 'http://odm-budgetaire.org/composants/normes/2022/M14/M14_CCAS_INF3500/planDeCompte.xml',\n",
       " 'http://odm-budgetaire.org/composants/normes/2022/M14/M14_CCAS_SUP3500/planDeCompte.xml',\n",
       " 'http://odm-budgetaire.org/composants/normes/2022/M14/M14_CE/planDeCompte.xml',\n",
       " 'http://odm-budgetaire.org/composants/normes/2022/M14/M14_COM_500_3500/planDeCompte.xml',\n",
       " 'http://odm-budgetaire.org/composants/normes/2022/M14/M14_COM_INF500/planDeCompte.xml',\n",
       " 'http://odm-budgetaire.org/composants/normes/2022/M14/M14_COM_SUP3500/planDeCompte.xml',\n",
       " 'http://odm-budgetaire.org/composants/normes/2022/M4/M4/planDeCompte.xml',\n",
       " 'http://odm-budgetaire.org/composants/normes/2022/M4/M41/planDeCompte.xml',\n",
       " 'http://odm-budgetaire.org/composants/normes/2022/M4/M43/planDeCompte.xml',\n",
       " 'http://odm-budgetaire.org/composants/normes/2022/M4/M44/planDeCompte.xml',\n",
       " 'http://odm-budgetaire.org/composants/normes/2022/M4/M49_A/planDeCompte.xml',\n",
       " 'http://odm-budgetaire.org/composants/normes/2022/M4/M49_D/planDeCompte.xml',\n",
       " 'http://odm-budgetaire.org/composants/normes/2022/M52/M52/planDeCompte.xml',\n",
       " 'http://odm-budgetaire.org/composants/normes/2022/M57/M57_A/planDeCompte.xml',\n",
       " 'http://odm-budgetaire.org/composants/normes/2022/M57/M57_D/planDeCompte.xml',\n",
       " 'http://odm-budgetaire.org/composants/normes/2022/M61/M61/planDeCompte.xml',\n",
       " 'http://odm-budgetaire.org/composants/normes/2022/M71/M71/planDeCompte.xml',\n",
       " 'http://odm-budgetaire.org/composants/normes/2023/M14/M14_CCAS_INF3500/planDeCompte.xml',\n",
       " 'http://odm-budgetaire.org/composants/normes/2023/M14/M14_CCAS_SUP3500/planDeCompte.xml',\n",
       " 'http://odm-budgetaire.org/composants/normes/2023/M14/M14_CE/planDeCompte.xml',\n",
       " 'http://odm-budgetaire.org/composants/normes/2023/M14/M14_COM_500_3500/planDeCompte.xml',\n",
       " 'http://odm-budgetaire.org/composants/normes/2023/M14/M14_COM_INF500/planDeCompte.xml',\n",
       " 'http://odm-budgetaire.org/composants/normes/2023/M14/M14_COM_SUP3500/planDeCompte.xml',\n",
       " 'http://odm-budgetaire.org/composants/normes/2023/M4/M4/planDeCompte.xml',\n",
       " 'http://odm-budgetaire.org/composants/normes/2023/M4/M41/planDeCompte.xml',\n",
       " 'http://odm-budgetaire.org/composants/normes/2023/M4/M43/planDeCompte.xml',\n",
       " 'http://odm-budgetaire.org/composants/normes/2023/M4/M49_A/planDeCompte.xml',\n",
       " 'http://odm-budgetaire.org/composants/normes/2023/M4/M49_D/planDeCompte.xml',\n",
       " 'http://odm-budgetaire.org/composants/normes/2023/M52/M52/planDeCompte.xml',\n",
       " 'http://odm-budgetaire.org/composants/normes/2023/M57/M57_A/planDeCompte.xml',\n",
       " 'http://odm-budgetaire.org/composants/normes/2023/M57/M57_D/planDeCompte.xml',\n",
       " 'http://odm-budgetaire.org/composants/normes/2023/M57/M57_P/planDeCompte.xml',\n",
       " 'http://odm-budgetaire.org/composants/normes/2023/M61/M61/planDeCompte.xml',\n",
       " 'http://odm-budgetaire.org/composants/normes/2023/M71/M71/planDeCompte.xml',\n",
       " 'http://odm-budgetaire.org/composants/normes/2024/M14/M14_CCAS_INF3500/planDeCompte.xml',\n",
       " 'http://odm-budgetaire.org/composants/normes/2024/M14/M14_CCAS_SUP3500/planDeCompte.xml',\n",
       " 'http://odm-budgetaire.org/composants/normes/2024/M14/M14_CE/planDeCompte.xml',\n",
       " 'http://odm-budgetaire.org/composants/normes/2024/M14/M14_COM_500_3500/planDeCompte.xml',\n",
       " 'http://odm-budgetaire.org/composants/normes/2024/M14/M14_COM_INF500/planDeCompte.xml',\n",
       " 'http://odm-budgetaire.org/composants/normes/2024/M14/M14_COM_SUP3500/planDeCompte.xml',\n",
       " 'http://odm-budgetaire.org/composants/normes/2024/M4/M4/planDeCompte.xml',\n",
       " 'http://odm-budgetaire.org/composants/normes/2024/M4/M41/planDeCompte.xml',\n",
       " 'http://odm-budgetaire.org/composants/normes/2024/M4/M43/planDeCompte.xml',\n",
       " 'http://odm-budgetaire.org/composants/normes/2024/M4/M49_A/planDeCompte.xml',\n",
       " 'http://odm-budgetaire.org/composants/normes/2024/M4/M49_D/planDeCompte.xml',\n",
       " 'http://odm-budgetaire.org/composants/normes/2024/M52/M52/planDeCompte.xml',\n",
       " 'http://odm-budgetaire.org/composants/normes/2024/M57/M57_A/planDeCompte.xml',\n",
       " 'http://odm-budgetaire.org/composants/normes/2024/M57/M57_D/planDeCompte.xml',\n",
       " 'http://odm-budgetaire.org/composants/normes/2024/M57/M57_P/planDeCompte.xml',\n",
       " 'http://odm-budgetaire.org/composants/normes/2024/M61/M61/planDeCompte.xml',\n",
       " 'http://odm-budgetaire.org/composants/normes/2024/M71/M71/planDeCompte.xml']"
      ]
     },
     "execution_count": 6,
     "metadata": {},
     "output_type": "execute_result"
    }
   ],
   "source": [
    "\n",
    "for nomen in liste_url_nomenclature : \n",
    " soup_nom = url_to_soup(nomen)\n",
    " soup_nom = soup_nom.find_all('a', string=lambda texte: 'M' in texte)\n",
    " for dernier_enfant in soup_nom :\n",
    "  liste_url_xml.append(f'{nomen}{dernier_enfant.text}planDeCompte.xml')\n",
    " \n",
    "\n",
    "liste_url_xml\n",
    " "
   ]
  },
  {
   "cell_type": "markdown",
   "metadata": {},
   "source": [
    "Maintenant que nous avons les url, il va falloir créer un endroit où les accueillir et les télécharger au bon endroit "
   ]
  },
  {
   "cell_type": "code",
   "execution_count": 8,
   "metadata": {},
   "outputs": [
    {
     "data": {
      "text/plain": [
       "'/stockage_plan_de_compte/2013/M14/M14_CCAS_SUP3500.xml'"
      ]
     },
     "execution_count": 8,
     "metadata": {},
     "output_type": "execute_result"
    }
   ],
   "source": [
    "\n",
    "def creation_chemin_temp(url_xml) : \n",
    " ''' Permet de créer les dossiers liés à l'url '''\n",
    " annee_xml_test = url_xml.split('/')[5]\n",
    " nomenclature_xml_test = url_xml.split('/')[6]\n",
    " sous_nom_text = url_xml.split('/')[7]\n",
    " chemin_fchier = f'/stockage_plan_de_compte/{annee_xml_test}/{nomenclature_xml_test}/{sous_nom_text}.xml'\n",
    " return chemin_fchier\n",
    "\n",
    "url_test_creation_chemin = liste_url_xml[1]\n",
    "chemin_test_crea = creation_chemin_temp(url_test_creation_chemin)\n",
    "chemin_test_crea"
   ]
  },
  {
   "cell_type": "markdown",
   "metadata": {},
   "source": [
    "Avec ça, on va créer les dossiers stockage_plan_de_compte, 2013 etc etc etc "
   ]
  },
  {
   "cell_type": "code",
   "execution_count": 9,
   "metadata": {},
   "outputs": [],
   "source": [
    "def _creation_des_dossiers(nom_chemin) : \n",
    " segments = nom_chemin.split(\"/\")\n",
    " chemin_base = \".\"\n",
    " for segment in segments[:-1]:  # Exclure le nom du fichier à la fin\n",
    "    chemin_base = os.path.join(chemin_base, segment)\n",
    "    if not os.path.exists(chemin_base):\n",
    "        os.mkdir(chemin_base)\n"
   ]
  },
  {
   "cell_type": "markdown",
   "metadata": {},
   "source": [
    "La fonction a été découpée pour faciliter sa comprehension, là voici en l'état : "
   ]
  },
  {
   "cell_type": "code",
   "execution_count": 64,
   "metadata": {},
   "outputs": [],
   "source": [
    "def creation_chemin(url_xml) : \n",
    " ''' Permet de créer les dossiers liés à l'url '''\n",
    " annee_xml_test = url_xml.split('/')[5]\n",
    " nomenclature_xml_test = url_xml.split('/')[6]\n",
    " sous_nom_text = url_xml.split('/')[7]\n",
    " chemin_fichier = f'./stockage_plan_de_compte/{annee_xml_test}/{nomenclature_xml_test}-{sous_nom_text}.xml'\n",
    " _creation_des_dossiers(chemin_fichier)\n",
    " return chemin_fichier"
   ]
  },
  {
   "cell_type": "markdown",
   "metadata": {},
   "source": [
    "Maintenant, le telechargement, quelque soit la fonction du chemin choisi : "
   ]
  },
  {
   "cell_type": "code",
   "execution_count": 12,
   "metadata": {},
   "outputs": [],
   "source": [
    "def telechargement_planDeCompte(url_du_xml, chemin_fichier) : \n",
    " requete = requests.get(url_du_xml)\n",
    " with open(chemin_fichier, 'w', encoding='utf-8') as dl_local : \n",
    "  dl_local.write(requete.text)"
   ]
  },
  {
   "cell_type": "markdown",
   "metadata": {},
   "source": [
    "La méthode complète nous donne ceci : (à ne pas lancer si on souhaite pas dl les plan de compte)"
   ]
  },
  {
   "cell_type": "code",
   "execution_count": 17,
   "metadata": {},
   "outputs": [],
   "source": [
    "def scraping_plan_de_compte() : \n",
    "\n",
    "  url_basique = 'http://odm-budgetaire.org/composants/normes/'\n",
    "  soupe_mere = url_to_soup(url_basique)\n",
    "  soupe_annees = soupe_mere.find_all('a', string=lambda texte: '20' in texte)\n",
    "  url_annees = []\n",
    "\n",
    "  for i in soupe_annees :\n",
    "      url_annees.append(f'{url_basique}{i.text}')\n",
    "  annee_sans_plan_de_compte = ['http://odm-budgetaire.org/composants/normes/2010/',\n",
    "              'http://odm-budgetaire.org/composants/normes/2011/',\n",
    "              'http://odm-budgetaire.org/composants/normes/2012/']\n",
    "\n",
    "  url_annees_propre = [year for year in url_annees if year not in annee_sans_plan_de_compte]\n",
    "  #Nous avons la liste des dossier avec les années \n",
    "\n",
    "  liste_url_xml = []\n",
    "  liste_url_nomenclature = []\n",
    "  for i in url_annees_propre : \n",
    "  sous_soupe = url_to_soup(i)\n",
    "  ensemble_nomenclatures = sous_soupe.find_all('a', string=lambda texte: 'M' in texte)\n",
    "  for nomenclature in ensemble_nomenclatures : \n",
    "    liste_url_nomenclature.append(f'{i}{nomenclature.text}')\n",
    "  #Nous avons maintenant la liste de la première partie des nomenclature : le premier M14 de M14-M14\n",
    "\n",
    "  for nomen in liste_url_nomenclature : \n",
    "  soup_nom = url_to_soup(nomen)\n",
    "  soup_nom = soup_nom.find_all('a', string=lambda texte: 'M' in texte)\n",
    "  for dernier_enfant in soup_nom :\n",
    "    liste_url_xml.append(f'{nomen}{dernier_enfant.text}planDeCompte.xml')\n",
    "  #Nous avons maintenant la liste entière des xml plan de compte de 2013 à 2024 ! \n",
    "\n",
    "  for i in liste_url_xml :\n",
    "  chemin_pour_dl = creation_chemin(i)\n",
    "  telechargement_planDeCompte(i, chemin_pour_dl)\n",
    "  #Nous avons maintenant les dossiers sous forme de : \n",
    "  #./stockage_plan_de_compte/année/\n",
    "\n",
    "  #Remplissons les. \n",
    "\n",
    "  for i in liste_url_xml :\n",
    "  chemin_pour_dl = creation_chemin(i)\n",
    "  telechargement_planDeCompte(i, chemin_pour_dl)\n",
    "\n",
    "  #Et voilà. "
   ]
  },
  {
   "cell_type": "markdown",
   "metadata": {},
   "source": [
    "Durée : 18.9 sec "
   ]
  },
  {
   "cell_type": "code",
   "execution_count": null,
   "metadata": {},
   "outputs": [],
   "source": []
  }
 ],
 "metadata": {
  "kernelspec": {
   "display_name": "Python 3",
   "language": "python",
   "name": "python3"
  },
  "language_info": {
   "codemirror_mode": {
    "name": "ipython",
    "version": 3
   },
   "file_extension": ".py",
   "mimetype": "text/x-python",
   "name": "python",
   "nbconvert_exporter": "python",
   "pygments_lexer": "ipython3",
   "version": "3.9.2"
  }
 },
 "nbformat": 4,
 "nbformat_minor": 2
}
