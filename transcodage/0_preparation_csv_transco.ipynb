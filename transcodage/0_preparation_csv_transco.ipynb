{
 "cells": [
  {
   "cell_type": "code",
   "execution_count": 1,
   "metadata": {},
   "outputs": [],
   "source": [
    "import pandas as pd \n",
    "\n",
    "df_transco_prep = pd.read_csv('../../data/explo/dictionnaire_donnees.csv')\n"
   ]
  },
  {
   "cell_type": "markdown",
   "metadata": {},
   "source": [
    "On retire les colonnes inutiles et les données enum vides"
   ]
  },
  {
   "cell_type": "code",
   "execution_count": 2,
   "metadata": {},
   "outputs": [
    {
     "name": "stdout",
     "output_type": "stream",
     "text": [
      "564\n",
      "108\n"
     ]
    }
   ],
   "source": [
    "df_transco_p1 = df_transco_prep[['nom_champ', 'enum']]\n",
    "df_transco_p2 = df_transco_p1.dropna(subset='enum')\n",
    "df_transco_p2 = df_transco_p2[~df_transco_p2['nom_champ'].isin(['MtSup', 'CaracSup', 'TypeEtab'])]\n",
    "\n",
    "\n",
    "print(df_transco_p1.shape[0])\n",
    "print(df_transco_p2.shape[0])"
   ]
  },
  {
   "cell_type": "code",
   "execution_count": 3,
   "metadata": {},
   "outputs": [
    {
     "data": {
      "text/html": [
       "<div>\n",
       "<style scoped>\n",
       "    .dataframe tbody tr th:only-of-type {\n",
       "        vertical-align: middle;\n",
       "    }\n",
       "\n",
       "    .dataframe tbody tr th {\n",
       "        vertical-align: top;\n",
       "    }\n",
       "\n",
       "    .dataframe thead th {\n",
       "        text-align: right;\n",
       "    }\n",
       "</style>\n",
       "<table border=\"1\" class=\"dataframe\">\n",
       "  <thead>\n",
       "    <tr style=\"text-align: right;\">\n",
       "      <th></th>\n",
       "      <th>nom_champ</th>\n",
       "      <th>enum</th>\n",
       "    </tr>\n",
       "  </thead>\n",
       "  <tbody>\n",
       "    <tr>\n",
       "      <th>2</th>\n",
       "      <td>CodNatOpe</td>\n",
       "      <td>{'14': 'Etudes et conduite de projet', '15': '...</td>\n",
       "    </tr>\n",
       "    <tr>\n",
       "      <th>8</th>\n",
       "      <td>CodRD</td>\n",
       "      <td>{'R': 'Recette', 'D': 'Dépense'}</td>\n",
       "    </tr>\n",
       "    <tr>\n",
       "      <th>14</th>\n",
       "      <td>CodTypFlux</td>\n",
       "      <td>{'01': 'Flux réciproques entre le groupement à...</td>\n",
       "    </tr>\n",
       "    <tr>\n",
       "      <th>15</th>\n",
       "      <td>CodInvFonc</td>\n",
       "      <td>{'I': 'Investissement', 'F': 'Fonctionnement'}</td>\n",
       "    </tr>\n",
       "    <tr>\n",
       "      <th>16</th>\n",
       "      <td>CodRD</td>\n",
       "      <td>{'R': 'Recette', 'D': 'Dépense'}</td>\n",
       "    </tr>\n",
       "    <tr>\n",
       "      <th>...</th>\n",
       "      <td>...</td>\n",
       "      <td>...</td>\n",
       "    </tr>\n",
       "    <tr>\n",
       "      <th>526</th>\n",
       "      <td>SpecifBudget</td>\n",
       "      <td>{'1': '(M14_COM_INF500, M14_COM_500_3500, M14_...</td>\n",
       "    </tr>\n",
       "    <tr>\n",
       "      <th>539</th>\n",
       "      <td>CodRD</td>\n",
       "      <td>{'R': 'Recette', 'D': 'Dépense'}</td>\n",
       "    </tr>\n",
       "    <tr>\n",
       "      <th>547</th>\n",
       "      <td>OpBudg</td>\n",
       "      <td>{'0': 'Opération réelle ou mixte', '1': \"Opéra...</td>\n",
       "    </tr>\n",
       "    <tr>\n",
       "      <th>548</th>\n",
       "      <td>TypOpBudg</td>\n",
       "      <td>{'1': \"Opération à l'intérieur d'une section\",...</td>\n",
       "    </tr>\n",
       "    <tr>\n",
       "      <th>562</th>\n",
       "      <td>CategColloc</td>\n",
       "      <td>{'Commune': 'Commune', 'Département': 'Départe...</td>\n",
       "    </tr>\n",
       "  </tbody>\n",
       "</table>\n",
       "<p>108 rows × 2 columns</p>\n",
       "</div>"
      ],
      "text/plain": [
       "        nom_champ                                               enum\n",
       "2       CodNatOpe  {'14': 'Etudes et conduite de projet', '15': '...\n",
       "8           CodRD                   {'R': 'Recette', 'D': 'Dépense'}\n",
       "14     CodTypFlux  {'01': 'Flux réciproques entre le groupement à...\n",
       "15     CodInvFonc     {'I': 'Investissement', 'F': 'Fonctionnement'}\n",
       "16          CodRD                   {'R': 'Recette', 'D': 'Dépense'}\n",
       "..            ...                                                ...\n",
       "526  SpecifBudget  {'1': '(M14_COM_INF500, M14_COM_500_3500, M14_...\n",
       "539         CodRD                   {'R': 'Recette', 'D': 'Dépense'}\n",
       "547        OpBudg  {'0': 'Opération réelle ou mixte', '1': \"Opéra...\n",
       "548     TypOpBudg  {'1': \"Opération à l'intérieur d'une section\",...\n",
       "562   CategColloc  {'Commune': 'Commune', 'Département': 'Départe...\n",
       "\n",
       "[108 rows x 2 columns]"
      ]
     },
     "execution_count": 3,
     "metadata": {},
     "output_type": "execute_result"
    }
   ],
   "source": [
    "df_transco_p2"
   ]
  },
  {
   "cell_type": "code",
   "execution_count": 6,
   "metadata": {},
   "outputs": [
    {
     "name": "stdout",
     "output_type": "stream",
     "text": [
      "108\n",
      "90\n"
     ]
    }
   ],
   "source": [
    "df_transcov3 = df_transco_p2.drop_duplicates()\n",
    "print(df_transco_p2.shape[0])\n",
    "print(df_transcov3.shape[0])"
   ]
  },
  {
   "cell_type": "code",
   "execution_count": 8,
   "metadata": {},
   "outputs": [],
   "source": [
    "df_transcov3.to_csv('../../data/explo/dictionnaire_v2.csv')"
   ]
  },
  {
   "cell_type": "code",
   "execution_count": 9,
   "metadata": {},
   "outputs": [
    {
     "data": {
      "text/html": [
       "<div>\n",
       "<style scoped>\n",
       "    .dataframe tbody tr th:only-of-type {\n",
       "        vertical-align: middle;\n",
       "    }\n",
       "\n",
       "    .dataframe tbody tr th {\n",
       "        vertical-align: top;\n",
       "    }\n",
       "\n",
       "    .dataframe thead th {\n",
       "        text-align: right;\n",
       "    }\n",
       "</style>\n",
       "<table border=\"1\" class=\"dataframe\">\n",
       "  <thead>\n",
       "    <tr style=\"text-align: right;\">\n",
       "      <th></th>\n",
       "      <th>nom_champ</th>\n",
       "      <th>enum</th>\n",
       "    </tr>\n",
       "  </thead>\n",
       "  <tbody>\n",
       "    <tr>\n",
       "      <th>14</th>\n",
       "      <td>CodTypFlux</td>\n",
       "      <td>{'01': 'Flux réciproques entre le groupement à...</td>\n",
       "    </tr>\n",
       "    <tr>\n",
       "      <th>15</th>\n",
       "      <td>CodInvFonc</td>\n",
       "      <td>{'I': 'Investissement', 'F': 'Fonctionnement'}</td>\n",
       "    </tr>\n",
       "    <tr>\n",
       "      <th>16</th>\n",
       "      <td>CodRD</td>\n",
       "      <td>{'R': 'Recette', 'D': 'Dépense'}</td>\n",
       "    </tr>\n",
       "    <tr>\n",
       "      <th>23</th>\n",
       "      <td>CodRDTot</td>\n",
       "      <td>{'R': 'Recette', 'D': 'Dépense'}</td>\n",
       "    </tr>\n",
       "    <tr>\n",
       "      <th>24</th>\n",
       "      <td>CodRessExt</td>\n",
       "      <td>{'O': 'Oui', 'N': 'Non'}</td>\n",
       "    </tr>\n",
       "    <tr>\n",
       "      <th>...</th>\n",
       "      <td>...</td>\n",
       "      <td>...</td>\n",
       "    </tr>\n",
       "    <tr>\n",
       "      <th>518</th>\n",
       "      <td>CodProfilAmortReneg</td>\n",
       "      <td>{'C': 'Amortissement constant', 'P': 'Amortiss...</td>\n",
       "    </tr>\n",
       "    <tr>\n",
       "      <th>526</th>\n",
       "      <td>SpecifBudget</td>\n",
       "      <td>{'1': '(M14_COM_INF500, M14_COM_500_3500, M14_...</td>\n",
       "    </tr>\n",
       "    <tr>\n",
       "      <th>547</th>\n",
       "      <td>OpBudg</td>\n",
       "      <td>{'0': 'Opération réelle ou mixte', '1': \"Opéra...</td>\n",
       "    </tr>\n",
       "    <tr>\n",
       "      <th>548</th>\n",
       "      <td>TypOpBudg</td>\n",
       "      <td>{'1': \"Opération à l'intérieur d'une section\",...</td>\n",
       "    </tr>\n",
       "    <tr>\n",
       "      <th>562</th>\n",
       "      <td>CategColloc</td>\n",
       "      <td>{'Commune': 'Commune', 'Département': 'Départe...</td>\n",
       "    </tr>\n",
       "  </tbody>\n",
       "</table>\n",
       "<p>89 rows × 2 columns</p>\n",
       "</div>"
      ],
      "text/plain": [
       "               nom_champ                                               enum\n",
       "14            CodTypFlux  {'01': 'Flux réciproques entre le groupement à...\n",
       "15            CodInvFonc     {'I': 'Investissement', 'F': 'Fonctionnement'}\n",
       "16                 CodRD                   {'R': 'Recette', 'D': 'Dépense'}\n",
       "23              CodRDTot                   {'R': 'Recette', 'D': 'Dépense'}\n",
       "24            CodRessExt                           {'O': 'Oui', 'N': 'Non'}\n",
       "..                   ...                                                ...\n",
       "518  CodProfilAmortReneg  {'C': 'Amortissement constant', 'P': 'Amortiss...\n",
       "526         SpecifBudget  {'1': '(M14_COM_INF500, M14_COM_500_3500, M14_...\n",
       "547               OpBudg  {'0': 'Opération réelle ou mixte', '1': \"Opéra...\n",
       "548            TypOpBudg  {'1': \"Opération à l'intérieur d'une section\",...\n",
       "562          CategColloc  {'Commune': 'Commune', 'Département': 'Départe...\n",
       "\n",
       "[89 rows x 2 columns]"
      ]
     },
     "execution_count": 9,
     "metadata": {},
     "output_type": "execute_result"
    }
   ],
   "source": [
    "df_transcov3"
   ]
  },
  {
   "cell_type": "markdown",
   "metadata": {},
   "source": [
    "Test pour l'intégration au script : \n",
    "\n",
    "Transformation du csv en dictionnaire "
   ]
  },
  {
   "cell_type": "code",
   "execution_count": 16,
   "metadata": {},
   "outputs": [
    {
     "name": "stdout",
     "output_type": "stream",
     "text": [
      "Sensible à la casse\n"
     ]
    }
   ],
   "source": [
    "dico_donnees = {j['nom_champ']: eval(j['enum']) for i, j in df_transcov3.iterrows()}\n",
    "dico_donnees.keys()\n",
    "\n",
    "if 'Codrd' in dico_donnees.keys() : \n",
    "    print('Pas victime de casse')\n",
    "elif 'CodRD' in dico_donnees.keys() : \n",
    "    print('Sensible à la casse')\n",
    "else :\n",
    "    print('Apprends à écrire ')"
   ]
  },
  {
   "cell_type": "markdown",
   "metadata": {},
   "source": [
    "Fonction qui servira dans le script : "
   ]
  },
  {
   "cell_type": "code",
   "execution_count": 7,
   "metadata": {},
   "outputs": [],
   "source": [
    "def transcodage_bloc(dataframe_bloc, dictionnaire_transcodage) : \n",
    "  'Exploite le dictionnaire de données déjà sous format dict'\n",
    "  for col in dataframe_bloc.columns : \n",
    "    if col in dictionnaire_transcodage.keys() : \n",
    "      dataframe_bloc[col] = dataframe_bloc[col].replace(dictionnaire_transcodage.get(col))\n",
    "  return dataframe_bloc\n"
   ]
  },
  {
   "cell_type": "code",
   "execution_count": null,
   "metadata": {},
   "outputs": [],
   "source": []
  }
 ],
 "metadata": {
  "kernelspec": {
   "display_name": ".venv",
   "language": "python",
   "name": "python3"
  },
  "language_info": {
   "codemirror_mode": {
    "name": "ipython",
    "version": 3
   },
   "file_extension": ".py",
   "mimetype": "text/x-python",
   "name": "python",
   "nbconvert_exporter": "python",
   "pygments_lexer": "ipython3",
   "version": "3.9.2"
  },
  "orig_nbformat": 4
 },
 "nbformat": 4,
 "nbformat_minor": 2
}
