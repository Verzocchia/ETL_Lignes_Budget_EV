{
 "cells": [
  {
   "cell_type": "markdown",
   "metadata": {},
   "source": [
    "Non complet : \n",
    "\n",
    "Vérifier d'où viennent les erreurs, à voir plus tard. "
   ]
  },
  {
   "cell_type": "code",
   "execution_count": 1,
   "metadata": {},
   "outputs": [],
   "source": [
    "import polars as pl \n",
    "import gzip \n",
    "import pandas as pd \n",
    "import xmltodict\n",
    "import glob\n",
    "import os \n",
    "import time \n",
    "import polars as pl \n",
    "import duckdb\n",
    "import shutil \n",
    "import pyarrow.parquet as pq\n",
    "import pyarrow as pa\n",
    "import traceback"
   ]
  },
  {
   "cell_type": "code",
   "execution_count": 3,
   "metadata": {},
   "outputs": [],
   "source": [
    "CHEMIN_ENTREE = './path/to/dossier_contenant_les_xml/'\n",
    "CHEMIN_SORTIE = './path/to/dossier_qui_contiendra_les_parquets/'"
   ]
  },
  {
   "cell_type": "code",
   "execution_count": 3,
   "metadata": {},
   "outputs": [],
   "source": [
    "\n",
    "def _recherche_id_dans_parquet(chemin_parquet_db):\n",
    " \n",
    " conduck = duckdb.connect(database=':memory:', read_only=False)\n",
    " source_duck = conduck.read_parquet(f'{chemin_parquet_db}')\n",
    " requete = conduck.execute(''' \n",
    "    SELECT DISTINCT Id_Fichier \n",
    "    FROM source_duck''')\n",
    " ligne_sql_int = [int(x[0]) for x in requete.fetchall()]\n",
    " conduck.close()\n",
    " return ligne_sql_int\n",
    "\n",
    "def parse_fichier(chemin) : \n",
    " '''Ouvre et parse le fichier gzip'''\n",
    " with gzip.open(chemin, 'rb') as fichier_ouvert : \n",
    "  fichier_xml_gzip = fichier_ouvert.read()\n",
    "  fichier_xml = fichier_xml_gzip.decode('latin-1')\n",
    "  fichier_dict = xmltodict.parse(fichier_xml)\n",
    " return fichier_dict\n",
    "\n",
    "def recherche_id_fichier(chemin_parquet) :\n",
    " ''' Pas encore utilisée, permet de récupérer les ID dans le parquet contenant les \n",
    " données déjà traitées '''\n",
    " conduck = duckdb.connect(database=':memory:', read_only=False)\n",
    " docubudg_t = conduck.read_parquet(chemin_parquet)\n",
    " requete_duckdb = ''' \n",
    " SELECT\n",
    "    DISTINCT Id_Fichier\n",
    " FROM \n",
    "    docubudg_t\n",
    " '''\n",
    " result_requete= conduck.execute(requete_duckdb).fetchdf()\n",
    " liste_id = result_requete['Id_Fichier'].to_list()\n",
    " conduck.close()\n",
    " return liste_id\n",
    "\n",
    "def _isolement_id(fichier) : \n",
    " '''Extrait l'id du nom du fichier pour la liste comprehension de securité\n",
    "\n",
    " ATTENTION, le premier split / va changer si on l'applique sur du minio '''\n",
    " val_id_fichier_source = fichier.split(\"/\")[-1].split('.')[0]\n",
    " if '-' in val_id_fichier_source : \n",
    "  val_id_fichier = val_id_fichier_source.split('-')[1]\n",
    " else : \n",
    "  val_id_fichier= val_id_fichier_source\n",
    " return val_id_fichier\n",
    "\n",
    "\n",
    "def nettoyage_V(dataframe : pd.DataFrame) -> pd.DataFrame :\n",
    " ''' Permet de supprimer les @V des colonnes à l'exception de MtSup et CaracSup'''\n",
    "\n",
    " nettoyage = lambda x : str(x).replace(\"{'@V': '\", \"\").replace(\"'}\", \"\")\n",
    " for col in dataframe.columns : \n",
    "  if col in ['MtSup', 'CaracSup'] : \n",
    "   dataframe[col] = dataframe[col].astype(str) \n",
    "  else :\n",
    "   dataframe[col] = dataframe[col].apply(nettoyage)\n",
    " dataframe_propre = dataframe.reset_index(drop=True)\n",
    " return dataframe_propre\n",
    "\n",
    "def extraction_annexe(chemin_annexe, dict_metadonnees) : \n",
    " liste_annexe = []\n",
    " for row in chemin_annexe : \n",
    "  liste_par_ligne = {}\n",
    "  for a, b in row.items() : \n",
    "   liste_par_ligne.update({a : b.get('@V')})\n",
    "   liste_par_ligne.update(dict_metadonnees)\n",
    "  liste_annexe.append(liste_par_ligne)\n",
    " return liste_annexe \n",
    "\n",
    "def travail_mtsup_ligne(ligne_budg) :\n",
    " type_m = ligne_budg.get('MtSup')\n",
    " if type_m is None : \n",
    "  pass \n",
    " else : \n",
    "  if isinstance(type_m, dict) : \n",
    "   ligne_budg[type_m.get('@Code', '')] = {'@V' : type_m.get('@V', '')}\n",
    "  elif isinstance(type_m, list) :\n",
    "    for z in type_m : #z c'est un dict contenant un V et un Code \n",
    "      ligne_budg[z.get('@Code', '')] = {'@V' : z.get('@V', '')}\n",
    " return ligne_budg\n",
    "\n",
    "def travail_caracsup_ligne(ligne_budg) : \n",
    " type_c = ligne_budg.get('CaracSup')\n",
    " if type_c is None : \n",
    "  pass \n",
    " else : \n",
    "  if isinstance(type_c, dict) : \n",
    "   ligne_budg[type_c.get('@Code', '')] = {'@V' : type_c.get('@V', '')}\n",
    "  elif isinstance(type_c, list) : \n",
    "   for ii in type_c : \n",
    "    ligne_budg[ii.get('@Code', '')] = {'@V' : ii.get('@V', '')}\n",
    " return ligne_budg\n",
    "\n",
    "\n",
    "def xml_to_parquet(chemin_xml_entree, chemin_sortie) : \n",
    " #\n",
    " #REMPLACER chemin_xml_entree_glob par liste_fichiers_safe\n",
    " #\n",
    " #\n",
    " chemin_xml_entree_glob = glob.glob(os.path.join(chemin_xml_entree, \"*.gz\"))\n",
    " #liste_verif_parquet = _recherche_id_dans_parquet(chemin_parquet_db= chemin_parquet_verif)\n",
    " #liste_fichiers_safe = [chemin_fichier for chemin_fichier in chemin_xml_entree_glob if int(_isolement_id(chemin_fichier)) not in liste_verif_parquet]\n",
    " for fichier in chemin_xml_entree_glob : \n",
    "  try : \n",
    "   id_fichier = _isolement_id(fichier)\n",
    "   dico = parse_fichier(fichier)\n",
    "   metadonnees = dico['DocumentBudgetaire']['EnTeteDocBudgetaire']\n",
    "   metadonnees.update(dico['DocumentBudgetaire']['Budget']['BlocBudget'])\n",
    "   metadonnees.update(dico['DocumentBudgetaire']['Budget']['EnTeteBudget'])\n",
    "   metadonnees['Id_Fichier'] = {'@V' : id_fichier}\n",
    "   docbase = dico['DocumentBudgetaire']['Budget']['LigneBudget']\n",
    "   if isinstance(docbase, list):\n",
    "    for i in docbase : \n",
    "      i.update(metadonnees)\n",
    "      i = travail_mtsup_ligne(i)\n",
    "      i = travail_caracsup_ligne(i)\n",
    "   elif isinstance(docbase, dict) : \n",
    "    docbase.update(metadonnees)\n",
    "    docbase = travail_mtsup_ligne(docbase)\n",
    "    docbase = travail_caracsup_ligne(docbase)\n",
    "   df_base = pd.DataFrame(docbase)\n",
    "   df_propre = nettoyage_V(df_base)\n",
    "   df_propre.to_parquet(f'{chemin_sortie}{id_fichier}_parquet', engine='pyarrow')\n",
    "   #shutil.move(fichier, './fichiers/done_xml/')\n",
    "  except Exception as e : \n",
    "    print(f'Erreur fichier {fichier}, extraction impossible')\n",
    "    #shutil.move(fichier, './fichiers/todo_xml/error/')\n",
    "    print(f'Erreur complète : {repr(e)}')\n",
    "    traceback.print_exc()\n",
    "    continue \n",
    "\n"
   ]
  },
  {
   "cell_type": "code",
   "execution_count": 4,
   "metadata": {},
   "outputs": [],
   "source": [
    "def travail_mtsup_ligne(ligne_budg) :\n",
    " type_m = ligne_budg.get('MtSup')\n",
    " if type_m is None : \n",
    "  pass \n",
    " else : \n",
    "  if isinstance(type_m, dict) : \n",
    "   ligne_budg[type_m.get('@Code', '')] = {'@V' : type_m.get('@V', '')}\n",
    "  elif isinstance(type_m, list) :\n",
    "    for z in type_m : #z c'est un dict contenant un V et un Code \n",
    "      ligne_budg[z.get('@Code', '')] = {'@V' : z.get('@V', '')}\n",
    " return ligne_budg\n",
    "\n",
    "def travail_caracsup_ligne(ligne_budg) : \n",
    " type_c = ligne_budg.get('CaracSup')\n",
    " if type_c is None : \n",
    "  pass \n",
    " else : \n",
    "  if isinstance(type_c, dict) : \n",
    "   ligne_budg[type_c.get('@Code', '')] = {'@V' : type_c.get('@V', '')}\n",
    "  elif isinstance(type_c, list) : \n",
    "   for ii in type_c : \n",
    "    ligne_budg[ii.get('@Code', '')] = {'@V' : ii.get('@V', '')}\n",
    " return ligne_budg\n",
    "\n",
    "\n",
    "def extration_ligne_budget_temp(chemi_bloc_budget, dict_metadonnees) : \n",
    " liste_budget = []\n",
    " for row in chemi_bloc_budget : \n",
    "  liste_par_ligne = {}\n",
    "  for a, b in row.items() : \n",
    "    if a in ['MtSup', 'CaracSup'] : \n",
    "      pass \n",
    "    else : \n",
    "     liste_par_ligne.update({a : b.get('@V')})\n",
    "     liste_par_ligne.update(dict_metadonnees)\n",
    "     liste_budget.append(liste_par_ligne)\n",
    " return liste_budget \n"
   ]
  },
  {
   "cell_type": "code",
   "execution_count": 5,
   "metadata": {},
   "outputs": [],
   "source": [
    "pars1 = parse_fichier('../../../fichiers20/todo_xml_20/t10/612013.xml.gz')\n",
    "budg1 = pars1['DocumentBudgetaire']['Budget']['LigneBudget']\n",
    "\n",
    "dict1 = {'A' : 'A'}"
   ]
  },
  {
   "cell_type": "code",
   "execution_count": 116,
   "metadata": {},
   "outputs": [],
   "source": [
    "l_liste = []\n",
    "for i in budg1 : \n",
    " for a,b in i.items() : \n",
    "    if isinstance(b, list) : \n",
    "        l_liste.append(i)"
   ]
  },
  {
   "cell_type": "code",
   "execution_count": 15,
   "metadata": {},
   "outputs": [
    {
     "name": "stdout",
     "output_type": "stream",
     "text": [
      "{'@V': '11962.00', '@Code': 'BudgetHorsRAR'}\n",
      "{'BudgetHorsRAR': '11962.00'}\n"
     ]
    }
   ],
   "source": [
    "for a,b in budg1[0].items() : \n",
    " dict_vide = {}\n",
    " if a == 'MtSup' :\n",
    "  type_m = budg1[0].get('MtSup')\n",
    "  if isinstance(type_m, dict) : \n",
    "    print(type_m)\n",
    "    dict_vide.update({type_m.get('@Code') : type_m.get('@V')})\n",
    "    print(dict_vide)"
   ]
  },
  {
   "cell_type": "markdown",
   "metadata": {},
   "source": [
    "Methode fonctionnelle, pré vérification. "
   ]
  },
  {
   "cell_type": "code",
   "execution_count": 138,
   "metadata": {},
   "outputs": [],
   "source": [
    "liste_ligne = []\n",
    "\n",
    "for ligne in budg1 : \n",
    " dict_temp = {}\n",
    " for a,b in ligne.items() :\n",
    "  if a == 'MtSup' :   \n",
    "   dict_temp.update({a : b})\n",
    "   if isinstance(b, dict) :  #Si MtSup est un dictionnaire\n",
    "     dict_temp.update({b.get('@Code') : b.get('@V')})\n",
    "   elif isinstance(b, list):  #Si MtSup est une liste \n",
    "     for j in b : \n",
    "       dict_temp.update({j.get('@Code') : j.get('@V')})\n",
    "   else :  #Si MtSup n'existe pas \n",
    "     pass  \n",
    "  elif a == 'CaracSup' : \n",
    "   dict_temp.update({a : b})\n",
    "   if isinstance(b, dict) : \n",
    "     pass \n",
    "     dict_temp.update({b.get('@Code') : b.get('@V')})\n",
    "   elif isinstance(b, list): \n",
    "     for j in b : \n",
    "       dict_temp.update({j.get('@Code') : j.get('@V')}) \n",
    "   else : \n",
    "     pass\n",
    "  else : \n",
    "   dict_temp.update({a : b.get('@V')})\n",
    " liste_ligne.append(dict_temp)\n",
    "\n"
   ]
  },
  {
   "cell_type": "markdown",
   "metadata": {},
   "source": [
    "Passage en fonction "
   ]
  },
  {
   "cell_type": "code",
   "execution_count": 167,
   "metadata": {},
   "outputs": [],
   "source": [
    "\n",
    "def extraction_ligne_budget_si_liste(dict_pars : list, dict_metadonnes : dict) -> list : \n",
    " ''' Retire les données propre des dictionnaires ligne budget\n",
    " pour les envoyer dans une liste de dictionnaires ''' \n",
    " liste_nouvelles_lignes = []\n",
    " for ligne in dict_pars : \n",
    "  dict_temp = {}\n",
    "  for a,b in ligne.items() :\n",
    "   if a == 'MtSup' :\n",
    "    dict_temp.update({a : b})  \n",
    "    if isinstance(b, dict) :  #Si MtSup est un dictionnaire\n",
    "      dict_temp.update({b.get('@Code') : b.get('@V')})\n",
    "    elif isinstance(b, list):  #Si MtSup est une liste \n",
    "      for j in b : \n",
    "        dict_temp.update({j.get('@Code') : j.get('@V')})\n",
    "    else :  #Si MtSup n'existe pas \n",
    "      pass  \n",
    "   elif a == 'CaracSup' : \n",
    "    dict_temp.update({a : b})  \n",
    "    if isinstance(b, dict) : \n",
    "      pass \n",
    "      dict_temp.update({b.get('@Code') : b.get('@V')})\n",
    "    elif isinstance(b, list): \n",
    "      for j in b : \n",
    "        dict_temp.update({j.get('@Code') : j.get('@V')}) \n",
    "    else : \n",
    "      pass\n",
    "   else : #Tout ce qui n'est pas MtSup ou CaracSup\n",
    "    dict_temp.update({a : b.get('@V')})\n",
    "  liste_nouvelles_lignes.append(dict_temp)\n",
    " return liste_nouvelles_lignes \n",
    "\n",
    "\n",
    "def extraction_ligne_budget_si_dict(dict_pars : dict, dict_metadonnes : dict) -> list : \n",
    " ''' Retire les données propre des dictionnaires ligne budget\n",
    " pour les envoyer dans une liste de dictionnaires ''' \n",
    " liste_nouvelles_lignes = []\n",
    " dict_temp = {}\n",
    " for a,b in dict_pars.items() :\n",
    "   if a == 'MtSup' :\n",
    "    dict_temp.update({a : b})  \n",
    "    if isinstance(b, dict) :  #Si MtSup est un dictionnaire\n",
    "      dict_temp.update({b.get('@Code') : b.get('@V')})\n",
    "    elif isinstance(b, list):  #Si MtSup est une liste \n",
    "      for j in b : \n",
    "        dict_temp.update({j.get('@Code') : j.get('@V')})\n",
    "    else :  #Si MtSup n'existe pas \n",
    "      pass  \n",
    "   elif a == 'CaracSup' : \n",
    "    dict_temp.update({a : b})  \n",
    "    if isinstance(b, dict) : \n",
    "      pass \n",
    "      dict_temp.update({b.get('@Code') : b.get('@V')})\n",
    "    elif isinstance(b, list): \n",
    "      for j in b : \n",
    "        dict_temp.update({j.get('@Code') : j.get('@V')}) \n",
    "    else : \n",
    "      pass\n",
    "   else : #Tout ce qui n'est pas MtSup ou CaracSup\n",
    "    dict_temp.update({a : b.get('@V')})\n",
    " liste_nouvelles_lignes.append(dict_temp)\n",
    " return liste_nouvelles_lignes \n"
   ]
  },
  {
   "cell_type": "code",
   "execution_count": 140,
   "metadata": {},
   "outputs": [
    {
     "data": {
      "text/plain": [
       "{'Nature': '60632',\n",
       " 'ContNat': '011',\n",
       " 'ArtSpe': 'false',\n",
       " 'CodRD': 'D',\n",
       " 'MtBudgPrec': '11962.00',\n",
       " 'MtPropNouv': '19335.00',\n",
       " 'MtPrev': '19335.00',\n",
       " 'CredOuv': '19335.00',\n",
       " 'OpBudg': '0',\n",
       " 'MtSup': {'@V': '11962.00', '@Code': 'BudgetHorsRAR'},\n",
       " 'BudgetHorsRAR': '11962.00',\n",
       " 'CaracSup': {'@V': 'F', '@Code': 'Section'},\n",
       " 'Section': 'F'}"
      ]
     },
     "execution_count": 140,
     "metadata": {},
     "output_type": "execute_result"
    }
   ],
   "source": [
    "liste_ligne[0]"
   ]
  },
  {
   "cell_type": "markdown",
   "metadata": {},
   "source": [
    "Donc, on a une nouvelle méthode d'extraction. Maintenant on va si ça a un impact "
   ]
  },
  {
   "cell_type": "code",
   "execution_count": 168,
   "metadata": {},
   "outputs": [],
   "source": [
    "\n",
    "def xml_to_parquet_v2(chemin_xml_entree, chemin_sortie) : \n",
    " #\n",
    " #REMPLACER chemin_xml_entree_glob par liste_fichiers_safe\n",
    " #\n",
    " #\n",
    " chemin_xml_entree_glob = glob.glob(os.path.join(chemin_xml_entree, \"*.gz\"))\n",
    " #liste_verif_parquet = _recherche_id_dans_parquet(chemin_parquet_db= chemin_parquet_verif)\n",
    " #liste_fichiers_safe = [chemin_fichier for chemin_fichier in chemin_xml_entree_glob if int(_isolement_id(chemin_fichier)) not in liste_verif_parquet]\n",
    " for fichier in chemin_xml_entree_glob : \n",
    "  try : \n",
    "   id_fichier = _isolement_id(fichier)\n",
    "   dico = parse_fichier(fichier)\n",
    "   metadonnees = dico['DocumentBudgetaire']['EnTeteDocBudgetaire']\n",
    "   metadonnees.update(dico['DocumentBudgetaire']['Budget']['BlocBudget'])\n",
    "   metadonnees.update(dico['DocumentBudgetaire']['Budget']['EnTeteBudget'])\n",
    "   metadonnees.update({'Id_Fichier' : id_fichier})\n",
    "   docbase = dico['DocumentBudgetaire']['Budget']['LigneBudget']\n",
    "\n",
    "   if isinstance(docbase, list) : \n",
    "    l_docbase = extraction_ligne_budget_si_liste(docbase, metadonnees)\n",
    "    df_base = pd.DataFrame(l_docbase)\n",
    "    df_propre = nettoyage_V(df_base)\n",
    "    df_propre.to_parquet(f'{chemin_sortie}{id_fichier}_parquet', engine='pyarrow')\n",
    "   else : \n",
    "    d_docbase = extraction_ligne_budget_si_dict(docbase, metadonnees)\n",
    "    df_base = pd.DataFrame(l_docbase)\n",
    "    df_propre = nettoyage_V(df_base)\n",
    "    df_propre.to_parquet(f'{chemin_sortie}{id_fichier}_parquet', engine='pyarrow')\n",
    "   #shutil.move(fichier, './fichiers/done_xml/')\n",
    "  except Exception as e : \n",
    "    print(f'Erreur fichier {fichier}, extraction impossible')\n",
    "    #shutil.move(fichier, './fichiers/todo_xml/error/')\n",
    "    print(f'Erreur complète : {repr(e)}')\n",
    "    traceback.print_exc()\n",
    "    continue \n"
   ]
  },
  {
   "cell_type": "code",
   "execution_count": 169,
   "metadata": {},
   "outputs": [
    {
     "name": "stdout",
     "output_type": "stream",
     "text": [
      "Erreur fichier ../../../data/todo_xml/824064.xml.gz, extraction impossible\n",
      "Erreur complète : AttributeError(\"'str' object has no attribute 'get'\")\n"
     ]
    },
    {
     "name": "stderr",
     "output_type": "stream",
     "text": [
      "Traceback (most recent call last):\n",
      "  File \"/tmp/ipykernel_42292/2743745175.py\", line 20, in xml_to_parquet_v2\n",
      "    l_docbase = extraction_ligne_budget_si_liste(docbase, metadonnees)\n",
      "  File \"/tmp/ipykernel_42292/1470142132.py\", line 28, in extraction_ligne_budget_si_liste\n",
      "    dict_temp.update({a : b.get('@V')})\n",
      "AttributeError: 'str' object has no attribute 'get'\n"
     ]
    },
    {
     "name": "stdout",
     "output_type": "stream",
     "text": [
      "Erreur fichier ../../../data/todo_xml/636984.xml.gz, extraction impossible\n",
      "Erreur complète : AttributeError(\"'str' object has no attribute 'get'\")\n"
     ]
    },
    {
     "name": "stderr",
     "output_type": "stream",
     "text": [
      "Traceback (most recent call last):\n",
      "  File \"/tmp/ipykernel_42292/2743745175.py\", line 20, in xml_to_parquet_v2\n",
      "    l_docbase = extraction_ligne_budget_si_liste(docbase, metadonnees)\n",
      "  File \"/tmp/ipykernel_42292/1470142132.py\", line 28, in extraction_ligne_budget_si_liste\n",
      "    dict_temp.update({a : b.get('@V')})\n",
      "AttributeError: 'str' object has no attribute 'get'\n"
     ]
    },
    {
     "name": "stdout",
     "output_type": "stream",
     "text": [
      "Erreur fichier ../../../data/todo_xml/788349.xml.gz, extraction impossible\n",
      "Erreur complète : AttributeError(\"'str' object has no attribute 'get'\")\n"
     ]
    },
    {
     "name": "stderr",
     "output_type": "stream",
     "text": [
      "Traceback (most recent call last):\n",
      "  File \"/tmp/ipykernel_42292/2743745175.py\", line 20, in xml_to_parquet_v2\n",
      "    l_docbase = extraction_ligne_budget_si_liste(docbase, metadonnees)\n",
      "  File \"/tmp/ipykernel_42292/1470142132.py\", line 28, in extraction_ligne_budget_si_liste\n",
      "    dict_temp.update({a : b.get('@V')})\n",
      "AttributeError: 'str' object has no attribute 'get'\n"
     ]
    },
    {
     "ename": "KeyboardInterrupt",
     "evalue": "",
     "output_type": "error",
     "traceback": [
      "\u001b[0;31m---------------------------------------------------------------------------\u001b[0m",
      "\u001b[0;31mKeyboardInterrupt\u001b[0m                         Traceback (most recent call last)",
      "Cell \u001b[0;32mIn[169], line 1\u001b[0m\n\u001b[0;32m----> 1\u001b[0m xml_to_parquet_v2(\u001b[39m'\u001b[39;49m\u001b[39m../../../data/todo_xml/\u001b[39;49m\u001b[39m'\u001b[39;49m, \u001b[39m'\u001b[39;49m\u001b[39m../../../data/temp_test/\u001b[39;49m\u001b[39m'\u001b[39;49m)\n",
      "Cell \u001b[0;32mIn[168], line 12\u001b[0m, in \u001b[0;36mxml_to_parquet_v2\u001b[0;34m(chemin_xml_entree, chemin_sortie)\u001b[0m\n\u001b[1;32m     10\u001b[0m \u001b[39mtry\u001b[39;00m : \n\u001b[1;32m     11\u001b[0m  id_fichier \u001b[39m=\u001b[39m _isolement_id(fichier)\n\u001b[0;32m---> 12\u001b[0m  dico \u001b[39m=\u001b[39m parse_fichier(fichier)\n\u001b[1;32m     13\u001b[0m  metadonnees \u001b[39m=\u001b[39m dico[\u001b[39m'\u001b[39m\u001b[39mDocumentBudgetaire\u001b[39m\u001b[39m'\u001b[39m][\u001b[39m'\u001b[39m\u001b[39mEnTeteDocBudgetaire\u001b[39m\u001b[39m'\u001b[39m]\n\u001b[1;32m     14\u001b[0m  metadonnees\u001b[39m.\u001b[39mupdate(dico[\u001b[39m'\u001b[39m\u001b[39mDocumentBudgetaire\u001b[39m\u001b[39m'\u001b[39m][\u001b[39m'\u001b[39m\u001b[39mBudget\u001b[39m\u001b[39m'\u001b[39m][\u001b[39m'\u001b[39m\u001b[39mBlocBudget\u001b[39m\u001b[39m'\u001b[39m])\n",
      "Cell \u001b[0;32mIn[149], line 17\u001b[0m, in \u001b[0;36mparse_fichier\u001b[0;34m(chemin)\u001b[0m\n\u001b[1;32m     15\u001b[0m  fichier_xml_gzip \u001b[39m=\u001b[39m fichier_ouvert\u001b[39m.\u001b[39mread()\n\u001b[1;32m     16\u001b[0m  fichier_xml \u001b[39m=\u001b[39m fichier_xml_gzip\u001b[39m.\u001b[39mdecode(\u001b[39m'\u001b[39m\u001b[39mlatin-1\u001b[39m\u001b[39m'\u001b[39m)\n\u001b[0;32m---> 17\u001b[0m  fichier_dict \u001b[39m=\u001b[39m xmltodict\u001b[39m.\u001b[39;49mparse(fichier_xml)\n\u001b[1;32m     18\u001b[0m \u001b[39mreturn\u001b[39;00m fichier_dict\n",
      "File \u001b[0;32m~/projets/.venv/lib/python3.9/site-packages/xmltodict.py:378\u001b[0m, in \u001b[0;36mparse\u001b[0;34m(xml_input, encoding, expat, process_namespaces, namespace_separator, disable_entities, process_comments, **kwargs)\u001b[0m\n\u001b[1;32m    376\u001b[0m     parser\u001b[39m.\u001b[39mParse(\u001b[39mb\u001b[39m\u001b[39m'\u001b[39m\u001b[39m'\u001b[39m,\u001b[39mTrue\u001b[39;00m)\n\u001b[1;32m    377\u001b[0m \u001b[39melse\u001b[39;00m:\n\u001b[0;32m--> 378\u001b[0m     parser\u001b[39m.\u001b[39;49mParse(xml_input, \u001b[39mTrue\u001b[39;49;00m)\n\u001b[1;32m    379\u001b[0m \u001b[39mreturn\u001b[39;00m handler\u001b[39m.\u001b[39mitem\n",
      "File \u001b[0;32m../Modules/pyexpat.c:407\u001b[0m, in \u001b[0;36mStartElement\u001b[0;34m()\u001b[0m\n",
      "File \u001b[0;32m~/projets/.venv/lib/python3.9/site-packages/xmltodict.py:126\u001b[0m, in \u001b[0;36m_DictSAXHandler.startElement\u001b[0;34m(self, full_name, attrs)\u001b[0m\n\u001b[1;32m    124\u001b[0m     attrs \u001b[39m=\u001b[39m \u001b[39mNone\u001b[39;00m\n\u001b[1;32m    125\u001b[0m \u001b[39mself\u001b[39m\u001b[39m.\u001b[39mitem \u001b[39m=\u001b[39m attrs \u001b[39mor\u001b[39;00m \u001b[39mNone\u001b[39;00m\n\u001b[0;32m--> 126\u001b[0m \u001b[39mself\u001b[39;49m\u001b[39m.\u001b[39;49mdata \u001b[39m=\u001b[39m []\n",
      "\u001b[0;31mKeyboardInterrupt\u001b[0m: "
     ]
    }
   ],
   "source": [
    "xml_to_parquet_v2('../../../data/todo_xml/', '../../../data/temp_test/')"
   ]
  },
  {
   "cell_type": "markdown",
   "metadata": {},
   "source": [
    "824064\n",
    "636984\n",
    "788349"
   ]
  },
  {
   "cell_type": "code",
   "execution_count": 151,
   "metadata": {},
   "outputs": [
    {
     "data": {
      "text/plain": [
       "{'Nature': {'@V': '002'},\n",
       " 'ArtSpe': {'@V': 'false'},\n",
       " 'CodRD': {'@V': 'R'},\n",
       " 'MtPrev': {'@V': '0.38'},\n",
       " 'CredOuv': {'@V': '0.38'},\n",
       " 'MtReal': {'@V': '0.38'},\n",
       " 'OpBudg': {'@V': '0'},\n",
       " 'CaracSup': {'@V': 'F', '@Code': 'Section'}}"
      ]
     },
     "execution_count": 151,
     "metadata": {},
     "output_type": "execute_result"
    }
   ],
   "source": [
    "parse_678365 = parse_fichier('../../../data/todo_xml/678365.xml.gz')\n",
    "budg_678365 = parse_678365['DocumentBudgetaire']['Budget']['LigneBudget']\n",
    "budg_678365"
   ]
  },
  {
   "cell_type": "code",
   "execution_count": 166,
   "metadata": {},
   "outputs": [
    {
     "data": {
      "text/plain": [
       "[{'Nature': '002',\n",
       "  'ArtSpe': 'false',\n",
       "  'CodRD': 'R',\n",
       "  'MtPrev': '0.38',\n",
       "  'CredOuv': '0.38',\n",
       "  'MtReal': '0.38',\n",
       "  'OpBudg': '0',\n",
       "  'CaracSup': {'@V': 'F', '@Code': 'Section'},\n",
       "  'Section': 'F'}]"
      ]
     },
     "execution_count": 166,
     "metadata": {},
     "output_type": "execute_result"
    }
   ],
   "source": [
    "fds = extraction_ligne_budget_si_dict(budg_678365, dict1 )\n",
    "fds "
   ]
  },
  {
   "cell_type": "code",
   "execution_count": null,
   "metadata": {},
   "outputs": [],
   "source": []
  }
 ],
 "metadata": {
  "kernelspec": {
   "display_name": ".venv",
   "language": "python",
   "name": "python3"
  },
  "language_info": {
   "codemirror_mode": {
    "name": "ipython",
    "version": 3
   },
   "file_extension": ".py",
   "mimetype": "text/x-python",
   "name": "python",
   "nbconvert_exporter": "python",
   "pygments_lexer": "ipython3",
   "version": "3.9.2"
  },
  "orig_nbformat": 4
 },
 "nbformat": 4,
 "nbformat_minor": 2
}
