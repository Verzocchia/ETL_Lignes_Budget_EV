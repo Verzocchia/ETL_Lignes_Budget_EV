{
 "cells": [
  {
   "cell_type": "markdown",
   "metadata": {},
   "source": [
    "L'objectif de la task 2 sera de récupérer les parquets individuels crée, de les assembler et de les envoyer dans un méga parquet"
   ]
  },
  {
   "cell_type": "code",
   "execution_count": 1,
   "metadata": {},
   "outputs": [],
   "source": [
    "import gzip \n",
    "from lxml import etree\n",
    "import pandas as pd \n",
    "import xmltodict\n",
    "import glob\n",
    "import os \n",
    "import time \n",
    "import polars as pl \n",
    "import duckdb\n",
    "import shutil \n",
    "import pyarrow.parquet as pq\n",
    "\n",
    "\n",
    "def timtim(fonction):\n",
    "    def wrapper(*args, **kwargs):\n",
    "        debut = time.time()\n",
    "        resultat = fonction(*args, **kwargs)\n",
    "        fin = time.time()\n",
    "        temps_execution = fin - debut\n",
    "        print(f\"La fonction {fonction.__name__} a pris {temps_execution:.5f} secondes pour s'exécuter.\")\n",
    "        return resultat\n",
    "    return wrapper"
   ]
  },
  {
   "cell_type": "code",
   "execution_count": 2,
   "metadata": {},
   "outputs": [],
   "source": [
    "DOSSIER_PARQUETS_INDIVIDUELS = './fichiers/todo_parquet/'"
   ]
  },
  {
   "cell_type": "code",
   "execution_count": 3,
   "metadata": {},
   "outputs": [],
   "source": [
    "liste_parquet_t = []\n",
    "for parquet in glob.glob(os.path.join(DOSSIER_PARQUETS_INDIVIDUELS, \"*\")) : \n",
    " liste_parquet_t.append(parquet)"
   ]
  },
  {
   "cell_type": "code",
   "execution_count": null,
   "metadata": {},
   "outputs": [],
   "source": [
    "liste_parquet_t "
   ]
  },
  {
   "cell_type": "markdown",
   "metadata": {},
   "source": [
    "['./fichiers/todo_parquet\\\\612019_pyarrow',\n",
    " './fichiers/todo_parquet\\\\612023_pyarrow',\n",
    " './fichiers/todo_parquet\\\\612027_pyarrow',\n",
    " './fichiers/todo_parquet\\\\612030_pyarrow',\n",
    " './fichiers/todo_parquet\\\\612038_pyarrow',\n",
    " './fichiers/todo_parquet\\\\612050_pyarrow',\n",
    " './fichiers/todo_parquet\\\\612057_pyarrow',\n",
    " './fichiers/todo_parquet\\\\612058_pyarrow',\n",
    " './fichiers/todo_parquet\\\\612069_pyarrow',\n",
    " './fichiers/todo_parquet\\\\612078_pyarrow',\n",
    " './fichiers/todo_parquet\\\\612117_pyarrow',\n",
    " './fichiers/todo_parquet\\\\612127_pyarrow',\n",
    " './fichiers/todo_parquet\\\\612128_pyarrow',\n",
    " './fichiers/todo_parquet\\\\612131_pyarrow',\n",
    " './fichiers/todo_parquet\\\\612136_pyarrow',\n",
    " './fichiers/todo_parquet\\\\612151_pyarrow',\n",
    " './fichiers/todo_parquet\\\\612159_pyarrow',\n",
    " './fichiers/todo_parquet\\\\612160_pyarrow',\n",
    " './fichiers/todo_parquet\\\\612172_pyarrow',\n",
    " './fichiers/todo_parquet\\\\612180_pyarrow',\n",
    " './fichiers/todo_parquet\\\\612188_pyarrow',\n",
    " './fichiers/todo_parquet\\\\612192_pyarrow',\n",
    " './fichiers/todo_parquet\\\\612220_pyarrow',\n",
    " './fichiers/todo_parquet\\\\612221_pyarrow',\n",
    " './fichiers/todo_parquet\\\\612223_pyarrow',\n",
    "..."
   ]
  },
  {
   "cell_type": "code",
   "execution_count": 5,
   "metadata": {},
   "outputs": [],
   "source": [
    "schema = pq.ParquetFile(liste_parquet_t[0]).schema_arrow\n",
    "with pq.ParquetWriter(\"grosparquet.parquet\", schema=schema) as writer:\n",
    "    for file in liste_parquet_t:\n",
    "        table = pq.read_table(file, schema=schema)\n",
    "        writer.write_table(table)\n"
   ]
  },
  {
   "cell_type": "code",
   "execution_count": null,
   "metadata": {},
   "outputs": [],
   "source": [
    "fichier_concatene = \"grosparquet.parquet\"\n",
    "table_polars = pl.read_parquet(fichier_concatene)\n",
    "print(table_polars)"
   ]
  },
  {
   "cell_type": "markdown",
   "metadata": {},
   "source": [
    "Gros parquet n'est pas stocké au bon endroit, mais c'est pas un vrai soucis, pour le moment. on va juste comparer avec pandas pour la vitesse d'execution"
   ]
  },
  {
   "cell_type": "code",
   "execution_count": null,
   "metadata": {},
   "outputs": [],
   "source": [
    "table_pandas = pd.read_parquet(fichier_concatene)\n",
    "table_pandas.head(5)"
   ]
  },
  {
   "cell_type": "code",
   "execution_count": 8,
   "metadata": {},
   "outputs": [
    {
     "name": "stdout",
     "output_type": "stream",
     "text": [
      "(59875, 23)\n",
      "(59875, 23)\n"
     ]
    }
   ],
   "source": [
    "print(table_pandas.shape)\n",
    "print(table_polars.shape)"
   ]
  },
  {
   "cell_type": "markdown",
   "metadata": {},
   "source": [
    "On va maintenant comparer les deux sur 20 000 fichiers "
   ]
  },
  {
   "cell_type": "markdown",
   "metadata": {},
   "source": [
    "Note : c'est bordélique, faudra mettre ça au propre (je me base sur le même dossier pour un test à 500 et à 20 000 fichiers)"
   ]
  },
  {
   "cell_type": "code",
   "execution_count": 12,
   "metadata": {},
   "outputs": [],
   "source": [
    "liste_parquet_20k = []\n",
    "for parquet_20 in glob.glob(os.path.join(DOSSIER_PARQUETS_INDIVIDUELS, \"*\")) : \n",
    " liste_parquet_20k.append(parquet_20)\n",
    "\n",
    "schema20 = pq.ParquetFile(liste_parquet_20k[0]).schema_arrow\n",
    "with pq.ParquetWriter(\"parquet20k.parquet\", schema=schema20) as writer20:\n",
    "    for file20 in liste_parquet_20k:\n",
    "        table20 = pq.read_table(file20, schema=schema20)\n",
    "        writer20.write_table(table20)"
   ]
  },
  {
   "cell_type": "code",
   "execution_count": 13,
   "metadata": {},
   "outputs": [
    {
     "data": {
      "text/plain": [
       "(2683082, 24)"
      ]
     },
     "execution_count": 13,
     "metadata": {},
     "output_type": "execute_result"
    }
   ],
   "source": [
    "parquet20k = 'parquet20k.parquet'\n",
    "table20_polars = pl.read_parquet(parquet20k)\n",
    "table20_polars.shape"
   ]
  },
  {
   "cell_type": "code",
   "execution_count": 14,
   "metadata": {},
   "outputs": [
    {
     "data": {
      "text/plain": [
       "(2683082, 24)"
      ]
     },
     "execution_count": 14,
     "metadata": {},
     "output_type": "execute_result"
    }
   ],
   "source": [
    "table20_pandas = pd.read_parquet(parquet20k)\n",
    "table20_pandas.shape"
   ]
  },
  {
   "cell_type": "markdown",
   "metadata": {},
   "source": [
    "Resultats sur 20k : \n",
    "\n",
    "Concatenage : 3min 3sec\n",
    "\n",
    "Ouverture polars : 1.5sec\n",
    "\n",
    "Ouverture pandas : 9.0sec "
   ]
  },
  {
   "cell_type": "code",
   "execution_count": null,
   "metadata": {},
   "outputs": [],
   "source": [
    "table20_pandas.head(5)"
   ]
  },
  {
   "cell_type": "code",
   "execution_count": null,
   "metadata": {},
   "outputs": [],
   "source": [
    "table20_polars.head(5)"
   ]
  },
  {
   "cell_type": "markdown",
   "metadata": {},
   "source": [
    "Evidemment, si j'avais un schema propre ce serait mieux. "
   ]
  },
  {
   "cell_type": "markdown",
   "metadata": {},
   "source": [
    "Et voici un schema, vraiment pas propre : \n"
   ]
  },
  {
   "cell_type": "code",
   "execution_count": null,
   "metadata": {},
   "outputs": [],
   "source": [
    "custom_schema = pa.schema([\n",
    "        ('Nature', pa.string()),\n",
    "        ('Fonction', pa.string()),\n",
    "        ('LibCpte', pa.string()),\n",
    "        ('ContNat', pa.string()),\n",
    "        ('ArtSpe', pa.string()), #Doit être corrigé en bool,\n",
    "        ('ContFon', pa.string()),\n",
    "        ('CodRD', pa.string()), #Val D ou R,\n",
    "        ('MtBudgPrec', pa.string()), #float32 #nullable = True\n",
    "        ('MtRARPrec', pa.string()), #float32\n",
    "        ('MtPropNouv', pa.string()), #float32\n",
    "        ('MtPrev', pa.string()), #float32\n",
    "        ('CredOuv', pa.string()), #int32\n",
    "        ('MtReal', pa.string()), #float32\n",
    "        ('MtRAR3112', pa.string()), #float32\n",
    "        ('OpBudg', pa.string()),\n",
    "        ('MtSup', pa.string()),\n",
    "        ('MtSup_1_Lib', pa.string()),\n",
    "        ('MtSup_1_Val', pa.string()),\n",
    "        ('MtSup_2_Lib', pa.string()),\n",
    "        ('MtSup_2_Val', pa.string()),\n",
    "        ('MtSup_3_Lib', pa.string()),\n",
    "        ('MtSup_3_Val', pa.string()),\n",
    "        ('MtSup_4_Lib', pa.string()),\n",
    "        ('MtSup_4_Val', pa.string()),\n",
    "        ('MtSup_5_Lib', pa.string()),\n",
    "        ('MtSup_5_Val', pa.string()),\n",
    "        ('MtSup_6_Lib', pa.string()),\n",
    "        ('MtSup_6_Val', pa.string()),\n",
    "        ('MtSup_7_Lib', pa.string()),\n",
    "        ('MtSup_7_Val', pa.string()),\n",
    "        ('MtSup_8_Lib', pa.string()),\n",
    "        ('MtSup_8_Val', pa.string()),\n",
    "        ('MtSup_9_Lib', pa.string()),\n",
    "        ('MtSup_9_Val', pa.string()),\n",
    "        ('MtSup_10_Lib', pa.string()),\n",
    "        ('MtSup_10_Val', pa.string()), #10\n",
    "        ('CaracSup_1_Lib', pa.string()),\n",
    "        ('CaracSup_1_Val', pa.string()),\n",
    "        ('CaracSup_2_Lib', pa.string()),\n",
    "        ('CaracSup_2_Val', pa.string()),\n",
    "        ('CaracSup_3_Lib', pa.string()),\n",
    "        ('CaracSup_3_Val', pa.string()),\n",
    "        ('CaracSup_4_Lib', pa.string()),\n",
    "        ('CaracSup_4_Val', pa.string()),\n",
    "        ('CaracSup_5_Lib', pa.string()),\n",
    "        ('CaracSup_5_Val', pa.string()),\n",
    "        ('CaracSup_6_Lib', pa.string()),\n",
    "        ('CaracSup_6_Val', pa.string()),\n",
    "        ('CaracSup_7_Lib', pa.string()), #7\n",
    "        ('CaracSup_7_Val', pa.string()),\n",
    "        ('TypOpBudg', pa.string()), #des 2 et des 1\n",
    "        ('OpeCpteTiers', pa.string()),\n",
    "        ('DteStr', pa.date32()),\n",
    "        ('LibellePoste', pa.string()),\n",
    "        ('IdPost', pa.string()),\n",
    "        ('LibelleColl', pa.string()),\n",
    "        ('IdColl', pa.string()),\n",
    "        ('NatCEPL', pa.string()),\n",
    "        ('Departement', pa.string()), #On oublie pas les 2A,\n",
    "        ('Id_Fichier', pa.int64())\n",
    "    ])"
   ]
  },
  {
   "cell_type": "code",
   "execution_count": null,
   "metadata": {},
   "outputs": [],
   "source": [
    "def task_2_1(dossier, nom_parquet, schema_cust) :\n",
    " liste_parquet_t = []\n",
    " for parquet in glob.glob(os.path.join(dossier, \"*\")) : \n",
    "  liste_parquet_t.append(parquet)\n",
    "\n",
    " schema = schema_cust\n",
    " #schema = pq.ParquetFile(liste_parquet_t[0]).schema_arrow\n",
    " with pq.ParquetWriter(f\"{nom_parquet}.parquet\", schema=schema) as writer:\n",
    "    for file in liste_parquet_t:\n",
    "        table = pq.read_table(file, schema=schema)\n",
    "        writer.write_table(table)"
   ]
  },
  {
   "cell_type": "markdown",
   "metadata": {},
   "source": []
  }
 ],
 "metadata": {
  "kernelspec": {
   "display_name": "Python 3",
   "language": "python",
   "name": "python3"
  },
  "language_info": {
   "codemirror_mode": {
    "name": "ipython",
    "version": 3
   },
   "file_extension": ".py",
   "mimetype": "text/x-python",
   "name": "python",
   "nbconvert_exporter": "python",
   "pygments_lexer": "ipython3",
   "version": "3.11.5"
  }
 },
 "nbformat": 4,
 "nbformat_minor": 2
}
