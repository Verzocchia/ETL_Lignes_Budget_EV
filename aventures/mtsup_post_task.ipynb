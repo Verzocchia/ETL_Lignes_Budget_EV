{
 "cells": [
  {
   "cell_type": "code",
   "execution_count": 2,
   "metadata": {},
   "outputs": [],
   "source": [
    "import polars as pl \n",
    "import gzip \n",
    "from lxml import etree\n",
    "import pandas as pd \n",
    "import xmltodict\n",
    "import glob\n",
    "import os \n",
    "import time \n",
    "import polars as pl \n",
    "import duckdb\n",
    "import shutil \n",
    "import pyarrow.parquet as pq\n",
    "import pyarrow as pa\n",
    "\n",
    "\n",
    "\n",
    "def timtim(fonction):\n",
    "    def wrapper(*args, **kwargs):\n",
    "        debut = time.time()\n",
    "        resultat = fonction(*args, **kwargs)\n",
    "        fin = time.time()\n",
    "        temps_execution = fin - debut\n",
    "        print(f\"La fonction {fonction.__name__} a pris {temps_execution:.5f} secondes pour s'exécuter.\")\n",
    "        return resultat\n",
    "    return wrapper\n",
    "\n",
    "def parse_fichier(chemin) : \n",
    " '''Ouvre et parse le fichier gzip'''\n",
    " with gzip.open(chemin, 'rb') as fichier_ouvert : \n",
    "  fichier_xml_gzip = fichier_ouvert.read()\n",
    "  fichier_xml = fichier_xml_gzip.decode('latin-1')\n",
    "  fichier_dict = xmltodict.parse(fichier_xml)\n",
    " return fichier_dict\n",
    "\n",
    "def recherche_id_fichier(chemin_parquet) :\n",
    " conduck = duckdb.connect(database=':memory:', read_only=False)\n",
    " docubudg_t = conduck.read_parquet(chemin_parquet)\n",
    " requete_duckdb = ''' \n",
    " SELECT\n",
    "    DISTINCT Id_Fichier\n",
    " FROM \n",
    "    docubudg_t\n",
    " '''\n",
    " result_requete= conduck.execute(requete_duckdb).fetchdf()\n",
    " liste_id = result_requete['Id_Fichier'].to_list()\n",
    " conduck.close()\n",
    " return liste_id\n",
    "\n",
    "\n",
    "def _isolement_id(fichier) : \n",
    " '''Extrait l'id du nom du fichier pour la liste comprehension de securité\n",
    "\n",
    " ATTENTION, le premier split / va changer si on l'applique sur du minio '''\n",
    " val_id_fichier_source = fichier.split(\"\\\\\")[-1].split('.')[0]\n",
    " if '-' in val_id_fichier_source : \n",
    "  val_id_fichier = val_id_fichier_source.split('-')[1]\n",
    " else : \n",
    "  val_id_fichier= val_id_fichier_source\n",
    " return val_id_fichier\n",
    "\n",
    "\n",
    "def nettoyage_adaptatif(dataframe : pd.DataFrame) -> pd.DataFrame :\n",
    " nettoyage = lambda x : str(x).replace(\"{'@V': '\", \"\").replace(\"'}\", \"\")\n",
    " for col in dataframe.columns : \n",
    "  if col in ['CaracSup', 'CaracSup'] : \n",
    "   dataframe[col] = dataframe[col].astype(str) \n",
    "  else :\n",
    "   dataframe[col] = dataframe[col].apply(nettoyage)\n",
    " dataframe_propre = dataframe.reset_index(drop=True)\n",
    " return dataframe_propre"
   ]
  },
  {
   "cell_type": "code",
   "execution_count": 3,
   "metadata": {},
   "outputs": [],
   "source": [
    "DOSSIER_PARQUETS_INDIVIDUELS = './fichiers/todo_parquet/'"
   ]
  },
  {
   "cell_type": "code",
   "execution_count": 10,
   "metadata": {},
   "outputs": [],
   "source": [
    "fichier_concatene = \"grosparquet.parquet\"\n",
    "table_polars = pl.read_parquet(fichier_concatene)\n",
    "table_test = table_polars.__copy__"
   ]
  },
  {
   "cell_type": "code",
   "execution_count": 39,
   "metadata": {},
   "outputs": [],
   "source": [
    "import pandas as pd \n",
    "\n",
    "table_pandas = pd.read_parquet(fichier_concatene)\n",
    "\n"
   ]
  },
  {
   "cell_type": "code",
   "execution_count": 41,
   "metadata": {},
   "outputs": [
    {
     "data": {
      "text/plain": [
       "0                 {'@Code': 'BudgetHorsRAR', '@V': '3000'}\n",
       "1                  {'@Code': 'BudgetHorsRAR', '@V': '350'}\n",
       "2                 {'@Code': 'BudgetHorsRAR', '@V': '5950'}\n",
       "3                 {'@Code': 'BudgetHorsRAR', '@V': '3800'}\n",
       "4                 {'@Code': 'BudgetHorsRAR', '@V': '8500'}\n",
       "                               ...                        \n",
       "59870    [{'@Code': 'ProdChaRat', '@V': '1172.27'}, {'@...\n",
       "59871    [{'@Code': 'ProdChaRat', '@V': '8723.85'}, {'@...\n",
       "59872                                                  nan\n",
       "59873                                                  nan\n",
       "59874         {'@Code': 'BudgetHorsRAR', '@V': '47340.00'}\n",
       "Name: MtSup, Length: 59875, dtype: object"
      ]
     },
     "execution_count": 41,
     "metadata": {},
     "output_type": "execute_result"
    }
   ],
   "source": [
    "table_pandas['CaracSup']"
   ]
  },
  {
   "cell_type": "code",
   "execution_count": 56,
   "metadata": {},
   "outputs": [
    {
     "data": {
      "text/plain": [
       "\"[{'@Code': 'ProdChaRat', '@V': '1172.27'}, {'@Code': 'BudgetHorsRAR', '@V': '5600.00'}]\""
      ]
     },
     "execution_count": 56,
     "metadata": {},
     "output_type": "execute_result"
    }
   ],
   "source": [
    "table_pandas.iloc[59870]['MtSup']"
   ]
  },
  {
   "cell_type": "code",
   "execution_count": 52,
   "metadata": {},
   "outputs": [
    {
     "data": {
      "text/html": [
       "<div>\n",
       "<style scoped>\n",
       "    .dataframe tbody tr th:only-of-type {\n",
       "        vertical-align: middle;\n",
       "    }\n",
       "\n",
       "    .dataframe tbody tr th {\n",
       "        vertical-align: top;\n",
       "    }\n",
       "\n",
       "    .dataframe thead th {\n",
       "        text-align: right;\n",
       "    }\n",
       "</style>\n",
       "<table border=\"1\" class=\"dataframe\">\n",
       "  <thead>\n",
       "    <tr style=\"text-align: right;\">\n",
       "      <th></th>\n",
       "      <th>@Code</th>\n",
       "      <th>@V</th>\n",
       "    </tr>\n",
       "  </thead>\n",
       "  <tbody>\n",
       "    <tr>\n",
       "      <th>0</th>\n",
       "      <td>BudgetHorsRAR</td>\n",
       "      <td>3000</td>\n",
       "    </tr>\n",
       "    <tr>\n",
       "      <th>1</th>\n",
       "      <td>BudgetHorsRAR</td>\n",
       "      <td>350</td>\n",
       "    </tr>\n",
       "    <tr>\n",
       "      <th>2</th>\n",
       "      <td>BudgetHorsRAR</td>\n",
       "      <td>5950</td>\n",
       "    </tr>\n",
       "    <tr>\n",
       "      <th>3</th>\n",
       "      <td>BudgetHorsRAR</td>\n",
       "      <td>3800</td>\n",
       "    </tr>\n",
       "    <tr>\n",
       "      <th>4</th>\n",
       "      <td>BudgetHorsRAR</td>\n",
       "      <td>8500</td>\n",
       "    </tr>\n",
       "  </tbody>\n",
       "</table>\n",
       "</div>"
      ],
      "text/plain": [
       "           @Code    @V\n",
       "0  BudgetHorsRAR  3000\n",
       "1  BudgetHorsRAR   350\n",
       "2  BudgetHorsRAR  5950\n",
       "3  BudgetHorsRAR  3800\n",
       "4  BudgetHorsRAR  8500"
      ]
     },
     "execution_count": 52,
     "metadata": {},
     "output_type": "execute_result"
    }
   ],
   "source": [
    "\n",
    "import pandas as pd\n",
    "\n",
    "# Création d'un DataFrame de test\n",
    "data = [{'@Code': 'BudgetHorsRAR', '@V': '3000'}, {'@Code': 'BudgetHorsRAR', '@V': '350'},\n",
    "         {'@Code': 'BudgetHorsRAR', '@V': '5950'}, {'@Code': 'BudgetHorsRAR', '@V': '3800'},\n",
    "         {'@Code': 'BudgetHorsRAR', '@V': '8500'}, [{'@Code': 'ProdChaRat', '@V': '1172.27'}, {'@Code': 'BudgetHorsRAR', '@V': '5600.00'}] ]\n",
    "\n",
    "df = pd.DataFrame(data)\n",
    "\n",
    "# Affichage du DataFrame d'origine\n",
    "df"
   ]
  },
  {
   "cell_type": "markdown",
   "metadata": {},
   "source": [
    "Option possible : On va tester d'intégrer les fonctions qui transforment MtSup et CaracSup dans la task1 "
   ]
  },
  {
   "cell_type": "code",
   "execution_count": 125,
   "metadata": {},
   "outputs": [],
   "source": [
    "def task_2(dossier, nom_parquet, schema_cust) :\n",
    " liste_parquet_t = []\n",
    " for parquet in glob.glob(os.path.join(dossier, \"*\")) : \n",
    "  liste_parquet_t.append(parquet)\n",
    "\n",
    " schema = schema_cust\n",
    " #schema = pq.ParquetFile(liste_parquet_t[0]).schema_arrow\n",
    " with pq.ParquetWriter(f\"{nom_parquet}.parquet\", schema=schema) as writer:\n",
    "    for file in liste_parquet_t:\n",
    "        table = pq.read_table(file, schema=schema)\n",
    "        writer.write_table(table)"
   ]
  },
  {
   "cell_type": "code",
   "execution_count": 4,
   "metadata": {},
   "outputs": [],
   "source": [
    "def _transformation_mtsup_original(lignes_budget: dict) -> dict:\n",
    " '''Grâce aux spaghettis, il y a deux types de MtSup dans les fichiers,\n",
    "       des dict et des listes de dict, permet de gérer les deux cas\n",
    "    '''\n",
    " for i in lignes_budget:\n",
    "  type_mtsup = i.get('MtSup')  # Permet de connaitre le type de MtSup\n",
    "  if type_mtsup is not None:  # Vérifie si la clé 'MtSup' existe\n",
    "    if isinstance(type_mtsup, dict):\n",
    "      dict_mtsup = type_mtsup\n",
    "      i['MtSup_1_Lib'] = {'@V': dict_mtsup.get('@Code', '')}\n",
    "      i['MtSup_1_Val'] = {'@V': dict_mtsup.get('@V', '')}\n",
    "    elif isinstance(type_mtsup, list):\n",
    "      dict_mtsup = i['MtSup']\n",
    "      mtsup_propre = {}\n",
    "      for z, entry in enumerate(dict_mtsup, start=1):\n",
    "        code = f'MtSup_{z}_Lib'\n",
    "        valeur = f'MtSup_{z}_Val'\n",
    "        mtsup_propre[code] = entry.get('@Code', '')\n",
    "        mtsup_propre[valeur] = entry.get('@V', '')\n",
    "        i.update(mtsup_propre)\n",
    "        \n",
    " return lignes_budget\n",
    "   \n",
    "def _transformation_caracsup_original(lignes_budget: dict) -> dict:\n",
    " '''Grâce aux spaghettis, il y a deux types de CaracSup dans les fichiers,\n",
    "       des dict et des listes de dict, permet de gérer les deux cas\n",
    "    '''\n",
    " for i in lignes_budget:\n",
    "  type_caracsup = i.get('CaracSup')  # Permet de connaitre le type de CaracSup\n",
    "  if type_caracsup is not None:  # Vérifie si la clé 'CaracSup' existe\n",
    "    if isinstance(type_caracsup, dict):\n",
    "      dict_caracsup = type_caracsup\n",
    "      i['CaracSup_1_Lib'] = {'@V': dict_caracsup.get('@Code', '')}\n",
    "      i['CaracSup_1_Val'] = {'@V': dict_caracsup.get('@V', '')}\n",
    "    elif isinstance(type_caracsup, list):\n",
    "      dict_caracsup = i['CaracSup']\n",
    "      caracsup_propre = {}\n",
    "      for z, entry in enumerate(dict_caracsup, start=1):\n",
    "        code = f'CaracSup_{z}_Lib'\n",
    "        valeur = f'CaracSup_{z}_Val'\n",
    "        caracsup_propre[code] = entry.get('@Code', '')\n",
    "        caracsup_propre[valeur] = entry.get('@V', '')\n",
    "        i.update(caracsup_propre)\n",
    "        \n",
    " return lignes_budget"
   ]
  },
  {
   "cell_type": "code",
   "execution_count": 88,
   "metadata": {},
   "outputs": [],
   "source": [
    "def Extraction_xml_to_parquet_v31(chemin) : \n",
    " ''' Traite les XML et les envoies sous format parquet,\n",
    "   le nettoyage des @V est fait à cette étape'''\n",
    " for fichier in glob.glob(os.path.join(chemin, \"*.gz\")) : \n",
    "  try : \n",
    "   id_fichier = _isolement_id(fichier)\n",
    "   dico = parse_fichier(fichier)\n",
    "   metadonnees = dico['DocumentBudgetaire']['EnTeteDocBudgetaire']\n",
    "   metadonnees['Id_Fichier'] = {'@V' : id_fichier}\n",
    "   docbase = dico['DocumentBudgetaire']['Budget']['LigneBudget']\n",
    "   if isinstance(docbase, list):\n",
    "    for i in docbase : \n",
    "      i.update(metadonnees)\n",
    "   elif isinstance(docbase, dict) : \n",
    "    docbase.update(metadonnees)\n",
    "   docbase = _transformation_caracsup_original(docbase)\n",
    "   docbase = _transformation_mtsup_original(docbase)\n",
    "   df_base = pd.DataFrame(docbase)\n",
    "   df_propre = nettoyage_adaptatif(df_base)\n",
    "   df_propre.to_parquet(f'./fichiers/todo_parquet/{id_fichier}_pyarrow', engine='pyarrow')\n",
    "   #shutil.move(fichier, './fichiers/done_xml/')\n",
    "  except Exception as e : \n",
    "    print(f'Erreur fichier {fichier}, extraction impossible')\n",
    "    #shutil.move(fichier, './fichiers/todo_xml/error/')\n",
    "    print(e)\n",
    "    continue  \n",
    "\n",
    "\n",
    "DOSSIER_TODO = './fichiers/todo_xml/'\n"
   ]
  },
  {
   "cell_type": "code",
   "execution_count": 6,
   "metadata": {},
   "outputs": [],
   "source": [
    "chemin_test_solo = './fichiers/todo_xml/612019.xml.gz'"
   ]
  },
  {
   "cell_type": "code",
   "execution_count": 7,
   "metadata": {},
   "outputs": [
    {
     "ename": "FileNotFoundError",
     "evalue": "[Errno 2] No such file or directory: './fichiers/todo_xml/612019.xml.gz'",
     "output_type": "error",
     "traceback": [
      "\u001b[1;31m---------------------------------------------------------------------------\u001b[0m",
      "\u001b[1;31mFileNotFoundError\u001b[0m                         Traceback (most recent call last)",
      "\u001b[1;32md:\\projets_data\\budget_communes\\etl_hub_coll\\aventures\\mtsup_post_task.ipynb Cell 13\u001b[0m line \u001b[0;36m2\n\u001b[0;32m      <a href='vscode-notebook-cell:/d%3A/projets_data/budget_communes/etl_hub_coll/aventures/mtsup_post_task.ipynb#X15sZmlsZQ%3D%3D?line=0'>1</a>\u001b[0m id_612019 \u001b[39m=\u001b[39m \u001b[39m'\u001b[39m\u001b[39m612019\u001b[39m\u001b[39m'\u001b[39m\n\u001b[1;32m----> <a href='vscode-notebook-cell:/d%3A/projets_data/budget_communes/etl_hub_coll/aventures/mtsup_post_task.ipynb#X15sZmlsZQ%3D%3D?line=1'>2</a>\u001b[0m dico_612019 \u001b[39m=\u001b[39m parse_fichier(chemin_test_solo)\n\u001b[0;32m      <a href='vscode-notebook-cell:/d%3A/projets_data/budget_communes/etl_hub_coll/aventures/mtsup_post_task.ipynb#X15sZmlsZQ%3D%3D?line=2'>3</a>\u001b[0m dict_612019 \u001b[39m=\u001b[39m dico_612019[\u001b[39m'\u001b[39m\u001b[39mDocumentBudgetaire\u001b[39m\u001b[39m'\u001b[39m][\u001b[39m'\u001b[39m\u001b[39mBudget\u001b[39m\u001b[39m'\u001b[39m][\u001b[39m'\u001b[39m\u001b[39mLigneBudget\u001b[39m\u001b[39m'\u001b[39m]\n\u001b[0;32m      <a href='vscode-notebook-cell:/d%3A/projets_data/budget_communes/etl_hub_coll/aventures/mtsup_post_task.ipynb#X15sZmlsZQ%3D%3D?line=3'>4</a>\u001b[0m dict_612019 \u001b[39m=\u001b[39m _transformation_mtsup_original(dict_612019)\n",
      "\u001b[1;32md:\\projets_data\\budget_communes\\etl_hub_coll\\aventures\\mtsup_post_task.ipynb Cell 13\u001b[0m line \u001b[0;36m2\n\u001b[0;32m     <a href='vscode-notebook-cell:/d%3A/projets_data/budget_communes/etl_hub_coll/aventures/mtsup_post_task.ipynb#X15sZmlsZQ%3D%3D?line=26'>27</a>\u001b[0m \u001b[39mdef\u001b[39;00m \u001b[39mparse_fichier\u001b[39m(chemin) : \n\u001b[0;32m     <a href='vscode-notebook-cell:/d%3A/projets_data/budget_communes/etl_hub_coll/aventures/mtsup_post_task.ipynb#X15sZmlsZQ%3D%3D?line=27'>28</a>\u001b[0m \u001b[39m \u001b[39m\u001b[39m'''Ouvre et parse le fichier gzip'''\u001b[39;00m\n\u001b[1;32m---> <a href='vscode-notebook-cell:/d%3A/projets_data/budget_communes/etl_hub_coll/aventures/mtsup_post_task.ipynb#X15sZmlsZQ%3D%3D?line=28'>29</a>\u001b[0m  \u001b[39mwith\u001b[39;00m gzip\u001b[39m.\u001b[39;49mopen(chemin, \u001b[39m'\u001b[39;49m\u001b[39mrb\u001b[39;49m\u001b[39m'\u001b[39;49m) \u001b[39mas\u001b[39;00m fichier_ouvert : \n\u001b[0;32m     <a href='vscode-notebook-cell:/d%3A/projets_data/budget_communes/etl_hub_coll/aventures/mtsup_post_task.ipynb#X15sZmlsZQ%3D%3D?line=29'>30</a>\u001b[0m   fichier_xml_gzip \u001b[39m=\u001b[39m fichier_ouvert\u001b[39m.\u001b[39mread()\n\u001b[0;32m     <a href='vscode-notebook-cell:/d%3A/projets_data/budget_communes/etl_hub_coll/aventures/mtsup_post_task.ipynb#X15sZmlsZQ%3D%3D?line=30'>31</a>\u001b[0m   fichier_xml \u001b[39m=\u001b[39m fichier_xml_gzip\u001b[39m.\u001b[39mdecode(\u001b[39m'\u001b[39m\u001b[39mlatin-1\u001b[39m\u001b[39m'\u001b[39m)\n",
      "File \u001b[1;32md:\\python\\Lib\\gzip.py:58\u001b[0m, in \u001b[0;36mopen\u001b[1;34m(filename, mode, compresslevel, encoding, errors, newline)\u001b[0m\n\u001b[0;32m     56\u001b[0m gz_mode \u001b[39m=\u001b[39m mode\u001b[39m.\u001b[39mreplace(\u001b[39m\"\u001b[39m\u001b[39mt\u001b[39m\u001b[39m\"\u001b[39m, \u001b[39m\"\u001b[39m\u001b[39m\"\u001b[39m)\n\u001b[0;32m     57\u001b[0m \u001b[39mif\u001b[39;00m \u001b[39misinstance\u001b[39m(filename, (\u001b[39mstr\u001b[39m, \u001b[39mbytes\u001b[39m, os\u001b[39m.\u001b[39mPathLike)):\n\u001b[1;32m---> 58\u001b[0m     binary_file \u001b[39m=\u001b[39m GzipFile(filename, gz_mode, compresslevel)\n\u001b[0;32m     59\u001b[0m \u001b[39melif\u001b[39;00m \u001b[39mhasattr\u001b[39m(filename, \u001b[39m\"\u001b[39m\u001b[39mread\u001b[39m\u001b[39m\"\u001b[39m) \u001b[39mor\u001b[39;00m \u001b[39mhasattr\u001b[39m(filename, \u001b[39m\"\u001b[39m\u001b[39mwrite\u001b[39m\u001b[39m\"\u001b[39m):\n\u001b[0;32m     60\u001b[0m     binary_file \u001b[39m=\u001b[39m GzipFile(\u001b[39mNone\u001b[39;00m, gz_mode, compresslevel, filename)\n",
      "File \u001b[1;32md:\\python\\Lib\\gzip.py:174\u001b[0m, in \u001b[0;36mGzipFile.__init__\u001b[1;34m(self, filename, mode, compresslevel, fileobj, mtime)\u001b[0m\n\u001b[0;32m    172\u001b[0m     mode \u001b[39m+\u001b[39m\u001b[39m=\u001b[39m \u001b[39m'\u001b[39m\u001b[39mb\u001b[39m\u001b[39m'\u001b[39m\n\u001b[0;32m    173\u001b[0m \u001b[39mif\u001b[39;00m fileobj \u001b[39mis\u001b[39;00m \u001b[39mNone\u001b[39;00m:\n\u001b[1;32m--> 174\u001b[0m     fileobj \u001b[39m=\u001b[39m \u001b[39mself\u001b[39m\u001b[39m.\u001b[39mmyfileobj \u001b[39m=\u001b[39m builtins\u001b[39m.\u001b[39;49mopen(filename, mode \u001b[39mor\u001b[39;49;00m \u001b[39m'\u001b[39;49m\u001b[39mrb\u001b[39;49m\u001b[39m'\u001b[39;49m)\n\u001b[0;32m    175\u001b[0m \u001b[39mif\u001b[39;00m filename \u001b[39mis\u001b[39;00m \u001b[39mNone\u001b[39;00m:\n\u001b[0;32m    176\u001b[0m     filename \u001b[39m=\u001b[39m \u001b[39mgetattr\u001b[39m(fileobj, \u001b[39m'\u001b[39m\u001b[39mname\u001b[39m\u001b[39m'\u001b[39m, \u001b[39m'\u001b[39m\u001b[39m'\u001b[39m)\n",
      "\u001b[1;31mFileNotFoundError\u001b[0m: [Errno 2] No such file or directory: './fichiers/todo_xml/612019.xml.gz'"
     ]
    }
   ],
   "source": [
    "id_612019 = '612019'\n",
    "dico_612019 = parse_fichier(chemin_test_solo)\n",
    "dict_612019 = dico_612019['DocumentBudgetaire']['Budget']['LigneBudget']\n",
    "dict_612019 = _transformation_mtsup_original(dict_612019)\n",
    "dict_612019 = _transformation_caracsup_original(dict_612019)\n",
    "df_612019 = pd.DataFrame(dict_612019)\n",
    "df_612019.head(5)"
   ]
  },
  {
   "cell_type": "code",
   "execution_count": 89,
   "metadata": {},
   "outputs": [
    {
     "name": "stdout",
     "output_type": "stream",
     "text": [
      "Erreur fichier ./fichiers/todo_xml\\619027.xml.gz, extraction impossible\n",
      "'str' object has no attribute 'get'\n",
      "Erreur fichier ./fichiers/todo_xml\\628857.xml.gz, extraction impossible\n",
      "'str' object has no attribute 'get'\n",
      "Erreur fichier ./fichiers/todo_xml\\682109.xml.gz, extraction impossible\n",
      "'str' object has no attribute 'get'\n",
      "Erreur fichier ./fichiers/todo_xml\\722795.xml.gz, extraction impossible\n",
      "'str' object has no attribute 'get'\n",
      "Erreur fichier ./fichiers/todo_xml\\730073.xml.gz, extraction impossible\n",
      "'str' object has no attribute 'get'\n",
      "Erreur fichier ./fichiers/todo_xml\\748147.xml.gz, extraction impossible\n",
      "'str' object has no attribute 'get'\n",
      "Erreur fichier ./fichiers/todo_xml\\756300.xml.gz, extraction impossible\n",
      "'str' object has no attribute 'get'\n",
      "Erreur fichier ./fichiers/todo_xml\\775775.xml.gz, extraction impossible\n",
      "no element found: line 1, column 0\n",
      "Erreur fichier ./fichiers/todo_xml\\807134.xml.gz, extraction impossible\n",
      "'str' object has no attribute 'get'\n",
      "Erreur fichier ./fichiers/todo_xml\\809162.xml.gz, extraction impossible\n",
      "'str' object has no attribute 'get'\n",
      "Erreur fichier ./fichiers/todo_xml\\809290.xml.gz, extraction impossible\n",
      "'str' object has no attribute 'get'\n",
      "Erreur fichier ./fichiers/todo_xml\\819789.xml.gz, extraction impossible\n",
      "'str' object has no attribute 'get'\n",
      "Erreur fichier ./fichiers/todo_xml\\821461.xml.gz, extraction impossible\n",
      "'str' object has no attribute 'get'\n",
      "Erreur fichier ./fichiers/todo_xml\\838663.xml.gz, extraction impossible\n",
      "'str' object has no attribute 'get'\n"
     ]
    }
   ],
   "source": [
    "Extraction_xml_to_parquet_v31(DOSSIER_TODO)"
   ]
  },
  {
   "cell_type": "code",
   "execution_count": 94,
   "metadata": {},
   "outputs": [],
   "source": [
    "task_2(DOSSIER_PARQUETS_INDIVIDUELS, 'test_mtsup_prefail')"
   ]
  },
  {
   "cell_type": "markdown",
   "metadata": {},
   "source": [
    "Nombre d'erreur (hors 775775 qui est corrompu) : 13"
   ]
  },
  {
   "cell_type": "code",
   "execution_count": 8,
   "metadata": {},
   "outputs": [
    {
     "ename": "AttributeError",
     "evalue": "'str' object has no attribute 'get'",
     "output_type": "error",
     "traceback": [
      "\u001b[1;31m---------------------------------------------------------------------------\u001b[0m",
      "\u001b[1;31mAttributeError\u001b[0m                            Traceback (most recent call last)",
      "\u001b[1;32md:\\projets_data\\budget_communes\\etl_hub_coll\\aventures\\mtsup_post_task.ipynb Cell 17\u001b[0m line \u001b[0;36m5\n\u001b[0;32m      <a href='vscode-notebook-cell:/d%3A/projets_data/budget_communes/etl_hub_coll/aventures/mtsup_post_task.ipynb#X22sZmlsZQ%3D%3D?line=2'>3</a>\u001b[0m dictfail_619027 \u001b[39m=\u001b[39m parsefail_619027[\u001b[39m'\u001b[39m\u001b[39mDocumentBudgetaire\u001b[39m\u001b[39m'\u001b[39m][\u001b[39m'\u001b[39m\u001b[39mBudget\u001b[39m\u001b[39m'\u001b[39m][\u001b[39m'\u001b[39m\u001b[39mLigneBudget\u001b[39m\u001b[39m'\u001b[39m]\n\u001b[0;32m      <a href='vscode-notebook-cell:/d%3A/projets_data/budget_communes/etl_hub_coll/aventures/mtsup_post_task.ipynb#X22sZmlsZQ%3D%3D?line=3'>4</a>\u001b[0m dfprefail_619027 \u001b[39m=\u001b[39m pd\u001b[39m.\u001b[39mDataFrame(dictfail_619027)\n\u001b[1;32m----> <a href='vscode-notebook-cell:/d%3A/projets_data/budget_communes/etl_hub_coll/aventures/mtsup_post_task.ipynb#X22sZmlsZQ%3D%3D?line=4'>5</a>\u001b[0m test_619027 \u001b[39m=\u001b[39m _transformation_mtsup_original(dictfail_619027)\n",
      "\u001b[1;32md:\\projets_data\\budget_communes\\etl_hub_coll\\aventures\\mtsup_post_task.ipynb Cell 17\u001b[0m line \u001b[0;36m6\n\u001b[0;32m      <a href='vscode-notebook-cell:/d%3A/projets_data/budget_communes/etl_hub_coll/aventures/mtsup_post_task.ipynb#X22sZmlsZQ%3D%3D?line=1'>2</a>\u001b[0m \u001b[39m\u001b[39m\u001b[39m'''Grâce aux spaghettis, il y a deux types de MtSup dans les fichiers,\u001b[39;00m\n\u001b[0;32m      <a href='vscode-notebook-cell:/d%3A/projets_data/budget_communes/etl_hub_coll/aventures/mtsup_post_task.ipynb#X22sZmlsZQ%3D%3D?line=2'>3</a>\u001b[0m \u001b[39m      des dict et des listes de dict, permet de gérer les deux cas\u001b[39;00m\n\u001b[0;32m      <a href='vscode-notebook-cell:/d%3A/projets_data/budget_communes/etl_hub_coll/aventures/mtsup_post_task.ipynb#X22sZmlsZQ%3D%3D?line=3'>4</a>\u001b[0m \u001b[39m   '''\u001b[39;00m\n\u001b[0;32m      <a href='vscode-notebook-cell:/d%3A/projets_data/budget_communes/etl_hub_coll/aventures/mtsup_post_task.ipynb#X22sZmlsZQ%3D%3D?line=4'>5</a>\u001b[0m \u001b[39mfor\u001b[39;00m i \u001b[39min\u001b[39;00m lignes_budget:\n\u001b[1;32m----> <a href='vscode-notebook-cell:/d%3A/projets_data/budget_communes/etl_hub_coll/aventures/mtsup_post_task.ipynb#X22sZmlsZQ%3D%3D?line=5'>6</a>\u001b[0m  type_mtsup \u001b[39m=\u001b[39m i\u001b[39m.\u001b[39;49mget(\u001b[39m'\u001b[39m\u001b[39mMtSup\u001b[39m\u001b[39m'\u001b[39m)  \u001b[39m# Permet de connaitre le type de MtSup\u001b[39;00m\n\u001b[0;32m      <a href='vscode-notebook-cell:/d%3A/projets_data/budget_communes/etl_hub_coll/aventures/mtsup_post_task.ipynb#X22sZmlsZQ%3D%3D?line=6'>7</a>\u001b[0m  \u001b[39mif\u001b[39;00m type_mtsup \u001b[39mis\u001b[39;00m \u001b[39mnot\u001b[39;00m \u001b[39mNone\u001b[39;00m:  \u001b[39m# Vérifie si la clé 'MtSup' existe\u001b[39;00m\n\u001b[0;32m      <a href='vscode-notebook-cell:/d%3A/projets_data/budget_communes/etl_hub_coll/aventures/mtsup_post_task.ipynb#X22sZmlsZQ%3D%3D?line=7'>8</a>\u001b[0m    \u001b[39mif\u001b[39;00m \u001b[39misinstance\u001b[39m(type_mtsup, \u001b[39mdict\u001b[39m):\n",
      "\u001b[1;31mAttributeError\u001b[0m: 'str' object has no attribute 'get'"
     ]
    }
   ],
   "source": [
    "idfail_619027 = '619027'\n",
    "parsefail_619027 = parse_fichier('..//fichiers/todo_xml/619027.xml.gz')  \n",
    "dictfail_619027 = parsefail_619027['DocumentBudgetaire']['Budget']['LigneBudget']\n",
    "dfprefail_619027 = pd.DataFrame(dictfail_619027)\n",
    "test_619027 = _transformation_mtsup_original(dictfail_619027)"
   ]
  },
  {
   "cell_type": "code",
   "execution_count": 93,
   "metadata": {},
   "outputs": [
    {
     "data": {
      "text/plain": [
       "Index(['Nature', 'ArtSpe', 'CodRD', 'MtReal', 'MtRAR3112', 'OpBudg'], dtype='object')"
      ]
     },
     "execution_count": 93,
     "metadata": {},
     "output_type": "execute_result"
    }
   ],
   "source": [
    "dfprefail_619027.columns"
   ]
  },
  {
   "cell_type": "markdown",
   "metadata": {},
   "source": [
    "On peut imaginer que c'est pareil pour les autres, on a déjà eu ça avant, il faut juste modifier la vérification, voir que ça existe. "
   ]
  },
  {
   "cell_type": "code",
   "execution_count": 95,
   "metadata": {},
   "outputs": [
    {
     "data": {
      "text/plain": [
       "['Nature',\n",
       " 'LibCpte',\n",
       " 'ContNat',\n",
       " 'ArtSpe',\n",
       " 'CodRD',\n",
       " 'MtBudgPrec',\n",
       " 'MtRARPrec',\n",
       " 'MtPropNouv',\n",
       " 'MtPrev',\n",
       " 'CredOuv',\n",
       " 'MtReal',\n",
       " 'MtRAR3112',\n",
       " 'OpBudg',\n",
       " 'MtSup',\n",
       " 'CaracSup',\n",
       " 'DteStr',\n",
       " 'LibellePoste',\n",
       " 'IdPost',\n",
       " 'LibelleColl',\n",
       " 'IdColl',\n",
       " 'NatCEPL',\n",
       " 'Departement',\n",
       " 'Id_Fichier']"
      ]
     },
     "execution_count": 95,
     "metadata": {},
     "output_type": "execute_result"
    }
   ],
   "source": [
    "parquet_concat = 'test_mtsup_prefail.parquet'\n",
    "table_test_polars = pl.read_parquet(fichier_concatene)\n",
    "table_test_polars.columns"
   ]
  },
  {
   "cell_type": "markdown",
   "metadata": {},
   "source": [
    "Il est temps de créer un schema"
   ]
  },
  {
   "cell_type": "code",
   "execution_count": 120,
   "metadata": {},
   "outputs": [
    {
     "data": {
      "text/plain": [
       "Index(['Nature', 'LibCpte', 'ContNat', 'ArtSpe', 'ContFon', 'CodRD',\n",
       "       'MtRARPrec', 'CredOuv', 'MtReal', 'MtRAR3112', 'OpBudg', 'CaracSup',\n",
       "       'DteStr', 'LibellePoste', 'IdPost', 'LibelleColl', 'IdColl', 'NatCEPL',\n",
       "       'Id_Fichier', 'CaracSup_1_Lib', 'CaracSup_1_Val', 'Fonction', 'MtSup',\n",
       "       'CaracSup_2_Lib', 'CaracSup_2_Val', 'MtSup_1_Lib', 'MtSup_1_Val',\n",
       "       'TypOpBudg', 'OpeCpteTiers', 'CaracSup_3_Lib', 'CaracSup_3_Val'],\n",
       "      dtype='object')"
      ]
     },
     "execution_count": 120,
     "metadata": {},
     "output_type": "execute_result"
    }
   ],
   "source": [
    "df_tt = pd.read_parquet('./fichiers/todo_parquet/766039_pyarrow')\n",
    "df_tt.columns"
   ]
  },
  {
   "cell_type": "code",
   "execution_count": 122,
   "metadata": {},
   "outputs": [
    {
     "data": {
      "text/plain": [
       "array(['nan', '2', '1'], dtype=object)"
      ]
     },
     "execution_count": 122,
     "metadata": {},
     "output_type": "execute_result"
    }
   ],
   "source": [
    "df_tt['TypOpBudg'].unique()"
   ]
  },
  {
   "cell_type": "code",
   "execution_count": 131,
   "metadata": {},
   "outputs": [],
   "source": [
    "custom_schema = pa.schema([\n",
    "        ('Nature', pa.string()),\n",
    "        ('Fonction', pa.string()),\n",
    "        ('LibCpte', pa.string()),\n",
    "        ('ContNat', pa.string()),\n",
    "        ('ArtSpe', pa.string()), #Doit être corrigé en bool,\n",
    "        ('ContFon', pa.string()),\n",
    "        ('CodRD', pa.string()), #Val D ou R,\n",
    "        ('MtBudgPrec', pa.string()), #float32 #nullable = True\n",
    "        ('MtRARPrec', pa.string()), #float32\n",
    "        ('MtPropNouv', pa.string()), #float32\n",
    "        ('MtPrev', pa.string()), #float32\n",
    "        ('CredOuv', pa.string()), #int32\n",
    "        ('MtReal', pa.string()), #float32\n",
    "        ('MtRAR3112', pa.string()), #float32\n",
    "        ('OpBudg', pa.string()),\n",
    "        ('MtSup', pa.string()),\n",
    "        ('MtSup_1_Lib', pa.string()),\n",
    "        ('MtSup_1_Val', pa.string()),\n",
    "        ('MtSup_2_Lib', pa.string()),\n",
    "        ('MtSup_2_Val', pa.string()),\n",
    "        ('MtSup_3_Lib', pa.string()),\n",
    "        ('MtSup_3_Val', pa.string()),\n",
    "        ('MtSup_4_Lib', pa.string()),\n",
    "        ('MtSup_4_Val', pa.string()),\n",
    "        ('MtSup_5_Lib', pa.string()),\n",
    "        ('MtSup_5_Val', pa.string()),\n",
    "        ('MtSup_6_Lib', pa.string()),\n",
    "        ('MtSup_6_Val', pa.string()),\n",
    "        ('MtSup_7_Lib', pa.string()),\n",
    "        ('MtSup_7_Val', pa.string()),\n",
    "        ('MtSup_8_Lib', pa.string()),\n",
    "        ('MtSup_8_Val', pa.string()),\n",
    "        ('MtSup_9_Lib', pa.string()),\n",
    "        ('MtSup_9_Val', pa.string()),\n",
    "        ('MtSup_10_Lib', pa.string()),\n",
    "        ('MtSup_10_Val', pa.string()), #10\n",
    "        ('CaracSup_1_Lib', pa.string()),\n",
    "        ('CaracSup_1_Val', pa.string()),\n",
    "        ('CaracSup_2_Lib', pa.string()),\n",
    "        ('CaracSup_2_Val', pa.string()),\n",
    "        ('CaracSup_3_Lib', pa.string()),\n",
    "        ('CaracSup_3_Val', pa.string()),\n",
    "        ('CaracSup_4_Lib', pa.string()),\n",
    "        ('CaracSup_4_Val', pa.string()),\n",
    "        ('CaracSup_5_Lib', pa.string()),\n",
    "        ('CaracSup_5_Val', pa.string()),\n",
    "        ('CaracSup_6_Lib', pa.string()),\n",
    "        ('CaracSup_6_Val', pa.string()),\n",
    "        ('CaracSup_7_Lib', pa.string()), #7\n",
    "        ('CaracSup_7_Val', pa.string()),\n",
    "        ('TypOpBudg', pa.string()), #des 2 et des 1\n",
    "        ('OpeCpteTiers', pa.string()),\n",
    "        ('DteStr', pa.date32()),\n",
    "        ('LibellePoste', pa.string()),\n",
    "        ('IdPost', pa.string()),\n",
    "        ('LibelleColl', pa.string()),\n",
    "        ('IdColl', pa.string()),\n",
    "        ('NatCEPL', pa.string()),\n",
    "        ('Departement', pa.string()), #On oublie pas les 2A,\n",
    "        ('Id_Fichier', pa.int64())\n",
    "    ])"
   ]
  },
  {
   "cell_type": "code",
   "execution_count": 112,
   "metadata": {},
   "outputs": [
    {
     "data": {
      "text/html": [
       "<div><style>\n",
       ".dataframe > thead > tr > th,\n",
       ".dataframe > tbody > tr > td {\n",
       "  text-align: right;\n",
       "  white-space: pre-wrap;\n",
       "}\n",
       "</style>\n",
       "<small>shape: (5, 23)</small><table border=\"1\" class=\"dataframe\"><thead><tr><th>Nature</th><th>LibCpte</th><th>ContNat</th><th>ArtSpe</th><th>CodRD</th><th>MtBudgPrec</th><th>MtRARPrec</th><th>MtPropNouv</th><th>MtPrev</th><th>CredOuv</th><th>MtReal</th><th>MtRAR3112</th><th>OpBudg</th><th>MtSup</th><th>CaracSup</th><th>DteStr</th><th>LibellePoste</th><th>IdPost</th><th>LibelleColl</th><th>IdColl</th><th>NatCEPL</th><th>Departement</th><th>Id_Fichier</th></tr><tr><td>str</td><td>str</td><td>str</td><td>str</td><td>str</td><td>str</td><td>str</td><td>str</td><td>str</td><td>str</td><td>str</td><td>str</td><td>str</td><td>str</td><td>str</td><td>str</td><td>str</td><td>str</td><td>str</td><td>str</td><td>str</td><td>str</td><td>str</td></tr></thead><tbody><tr><td>&quot;60623&quot;</td><td>&quot;Alimentation p…</td><td>&quot;011&quot;</td><td>&quot;false&quot;</td><td>&quot;D&quot;</td><td>&quot;6000&quot;</td><td>&quot;0&quot;</td><td>&quot;0&quot;</td><td>&quot;0&quot;</td><td>&quot;3000&quot;</td><td>&quot;2631.57&quot;</td><td>&quot;0&quot;</td><td>&quot;0&quot;</td><td>&quot;{&#x27;@Code&#x27;: &#x27;Bud…</td><td>&quot;{&#x27;@Code&#x27;: &#x27;Pro…</td><td>&quot;2019-01-01&quot;</td><td>&quot;CENTRE DES FIN…</td><td>&quot;078027&quot;</td><td>&quot;Caisse des Eco…</td><td>&quot;26780487000017…</td><td>&quot;Commune&quot;</td><td>&quot;78&quot;</td><td>&quot;612019&quot;</td></tr><tr><td>&quot;60628&quot;</td><td>&quot;Autres fournit…</td><td>&quot;011&quot;</td><td>&quot;false&quot;</td><td>&quot;D&quot;</td><td>&quot;750&quot;</td><td>&quot;0&quot;</td><td>&quot;0&quot;</td><td>&quot;0&quot;</td><td>&quot;350&quot;</td><td>&quot;303.24&quot;</td><td>&quot;0&quot;</td><td>&quot;0&quot;</td><td>&quot;{&#x27;@Code&#x27;: &#x27;Bud…</td><td>&quot;{&#x27;@Code&#x27;: &#x27;Pro…</td><td>&quot;2019-01-01&quot;</td><td>&quot;CENTRE DES FIN…</td><td>&quot;078027&quot;</td><td>&quot;Caisse des Eco…</td><td>&quot;26780487000017…</td><td>&quot;Commune&quot;</td><td>&quot;78&quot;</td><td>&quot;612019&quot;</td></tr><tr><td>&quot;6063&quot;</td><td>&quot;{&#x27;@V&#x27;: &quot;Fourni…</td><td>&quot;011&quot;</td><td>&quot;false&quot;</td><td>&quot;D&quot;</td><td>&quot;16580&quot;</td><td>&quot;0&quot;</td><td>&quot;0&quot;</td><td>&quot;0&quot;</td><td>&quot;5950&quot;</td><td>&quot;5185.9&quot;</td><td>&quot;0&quot;</td><td>&quot;0&quot;</td><td>&quot;{&#x27;@Code&#x27;: &#x27;Bud…</td><td>&quot;{&#x27;@Code&#x27;: &#x27;Pro…</td><td>&quot;2019-01-01&quot;</td><td>&quot;CENTRE DES FIN…</td><td>&quot;078027&quot;</td><td>&quot;Caisse des Eco…</td><td>&quot;26780487000017…</td><td>&quot;Commune&quot;</td><td>&quot;78&quot;</td><td>&quot;612019&quot;</td></tr><tr><td>&quot;6065&quot;</td><td>&quot;Livres, disque…</td><td>&quot;011&quot;</td><td>&quot;false&quot;</td><td>&quot;D&quot;</td><td>&quot;6050&quot;</td><td>&quot;0&quot;</td><td>&quot;0&quot;</td><td>&quot;0&quot;</td><td>&quot;3800&quot;</td><td>&quot;5082.13&quot;</td><td>&quot;0&quot;</td><td>&quot;0&quot;</td><td>&quot;{&#x27;@Code&#x27;: &#x27;Bud…</td><td>&quot;{&#x27;@Code&#x27;: &#x27;Pro…</td><td>&quot;2019-01-01&quot;</td><td>&quot;CENTRE DES FIN…</td><td>&quot;078027&quot;</td><td>&quot;Caisse des Eco…</td><td>&quot;26780487000017…</td><td>&quot;Commune&quot;</td><td>&quot;78&quot;</td><td>&quot;612019&quot;</td></tr><tr><td>&quot;6067&quot;</td><td>&quot;Fournitures sc…</td><td>&quot;011&quot;</td><td>&quot;false&quot;</td><td>&quot;D&quot;</td><td>&quot;17774&quot;</td><td>&quot;0&quot;</td><td>&quot;0&quot;</td><td>&quot;0&quot;</td><td>&quot;8500&quot;</td><td>&quot;6874.29&quot;</td><td>&quot;0&quot;</td><td>&quot;0&quot;</td><td>&quot;{&#x27;@Code&#x27;: &#x27;Bud…</td><td>&quot;{&#x27;@Code&#x27;: &#x27;Pro…</td><td>&quot;2019-01-01&quot;</td><td>&quot;CENTRE DES FIN…</td><td>&quot;078027&quot;</td><td>&quot;Caisse des Eco…</td><td>&quot;26780487000017…</td><td>&quot;Commune&quot;</td><td>&quot;78&quot;</td><td>&quot;612019&quot;</td></tr></tbody></table></div>"
      ],
      "text/plain": [
       "shape: (5, 23)\n",
       "┌────────┬──────────────┬─────────┬────────┬───┬──────────────┬─────────┬─────────────┬────────────┐\n",
       "│ Nature ┆ LibCpte      ┆ ContNat ┆ ArtSpe ┆ … ┆ IdColl       ┆ NatCEPL ┆ Departement ┆ Id_Fichier │\n",
       "│ ---    ┆ ---          ┆ ---     ┆ ---    ┆   ┆ ---          ┆ ---     ┆ ---         ┆ ---        │\n",
       "│ str    ┆ str          ┆ str     ┆ str    ┆   ┆ str          ┆ str     ┆ str         ┆ str        │\n",
       "╞════════╪══════════════╪═════════╪════════╪═══╪══════════════╪═════════╪═════════════╪════════════╡\n",
       "│ 60623  ┆ Alimentation ┆ 011     ┆ false  ┆ … ┆ 267804870000 ┆ Commune ┆ 78          ┆ 612019     │\n",
       "│        ┆ pour les     ┆         ┆        ┆   ┆ 17           ┆         ┆             ┆            │\n",
       "│        ┆ cantines e…  ┆         ┆        ┆   ┆              ┆         ┆             ┆            │\n",
       "│ 60628  ┆ Autres       ┆ 011     ┆ false  ┆ … ┆ 267804870000 ┆ Commune ┆ 78          ┆ 612019     │\n",
       "│        ┆ fournitures  ┆         ┆        ┆   ┆ 17           ┆         ┆             ┆            │\n",
       "│        ┆ non stockées ┆         ┆        ┆   ┆              ┆         ┆             ┆            │\n",
       "│ 6063   ┆ {'@V':       ┆ 011     ┆ false  ┆ … ┆ 267804870000 ┆ Commune ┆ 78          ┆ 612019     │\n",
       "│        ┆ \"Fournitures ┆         ┆        ┆   ┆ 17           ┆         ┆             ┆            │\n",
       "│        ┆ d'entretien  ┆         ┆        ┆   ┆              ┆         ┆             ┆            │\n",
       "│        ┆ …            ┆         ┆        ┆   ┆              ┆         ┆             ┆            │\n",
       "│ 6065   ┆ Livres,      ┆ 011     ┆ false  ┆ … ┆ 267804870000 ┆ Commune ┆ 78          ┆ 612019     │\n",
       "│        ┆ disques,     ┆         ┆        ┆   ┆ 17           ┆         ┆             ┆            │\n",
       "│        ┆ cassettes... ┆         ┆        ┆   ┆              ┆         ┆             ┆            │\n",
       "│        ┆ (b…          ┆         ┆        ┆   ┆              ┆         ┆             ┆            │\n",
       "│ 6067   ┆ Fournitures  ┆ 011     ┆ false  ┆ … ┆ 267804870000 ┆ Commune ┆ 78          ┆ 612019     │\n",
       "│        ┆ scolaires    ┆         ┆        ┆   ┆ 17           ┆         ┆             ┆            │\n",
       "└────────┴──────────────┴─────────┴────────┴───┴──────────────┴─────────┴─────────────┴────────────┘"
      ]
     },
     "execution_count": 112,
     "metadata": {},
     "output_type": "execute_result"
    }
   ],
   "source": [
    "table_polars.head()"
   ]
  },
  {
   "cell_type": "code",
   "execution_count": 111,
   "metadata": {},
   "outputs": [
    {
     "data": {
      "text/html": [
       "<div><style>\n",
       ".dataframe > thead > tr > th,\n",
       ".dataframe > tbody > tr > td {\n",
       "  text-align: right;\n",
       "  white-space: pre-wrap;\n",
       "}\n",
       "</style>\n",
       "<small>shape: (4,)</small><table border=\"1\" class=\"dataframe\"><thead><tr><th>ArtSpe</th></tr><tr><td>str</td></tr></thead><tbody><tr><td>&quot;true&quot;</td></tr><tr><td>&quot;false&quot;</td></tr><tr><td>null</td></tr><tr><td>&quot;0&quot;</td></tr></tbody></table></div>"
      ],
      "text/plain": [
       "shape: (4,)\n",
       "Series: 'ArtSpe' [str]\n",
       "[\n",
       "\t\"true\"\n",
       "\t\"false\"\n",
       "\tnull\n",
       "\t\"0\"\n",
       "]"
      ]
     },
     "execution_count": 111,
     "metadata": {},
     "output_type": "execute_result"
    }
   ],
   "source": [
    "table_polars['ArtSpe'].unique()"
   ]
  },
  {
   "cell_type": "code",
   "execution_count": 119,
   "metadata": {},
   "outputs": [
    {
     "data": {
      "text/html": [
       "<div><style>\n",
       ".dataframe > thead > tr > th,\n",
       ".dataframe > tbody > tr > td {\n",
       "  text-align: right;\n",
       "  white-space: pre-wrap;\n",
       "}\n",
       "</style>\n",
       "<small>shape: (2,)</small><table border=\"1\" class=\"dataframe\"><thead><tr><th>OpBudg</th></tr><tr><td>str</td></tr></thead><tbody><tr><td>&quot;1&quot;</td></tr><tr><td>&quot;0&quot;</td></tr></tbody></table></div>"
      ],
      "text/plain": [
       "shape: (2,)\n",
       "Series: 'OpBudg' [str]\n",
       "[\n",
       "\t\"1\"\n",
       "\t\"0\"\n",
       "]"
      ]
     },
     "execution_count": 119,
     "metadata": {},
     "output_type": "execute_result"
    }
   ],
   "source": [
    "table_polars['OpBudg'].unique()"
   ]
  },
  {
   "cell_type": "code",
   "execution_count": 110,
   "metadata": {},
   "outputs": [
    {
     "data": {
      "text/html": [
       "<div><style>\n",
       ".dataframe > thead > tr > th,\n",
       ".dataframe > tbody > tr > td {\n",
       "  text-align: right;\n",
       "  white-space: pre-wrap;\n",
       "}\n",
       "</style>\n",
       "<small>shape: (5, 23)</small><table border=\"1\" class=\"dataframe\"><thead><tr><th>Nature</th><th>LibCpte</th><th>ContNat</th><th>ArtSpe</th><th>CodRD</th><th>MtBudgPrec</th><th>MtRARPrec</th><th>MtPropNouv</th><th>MtPrev</th><th>CredOuv</th><th>MtReal</th><th>MtRAR3112</th><th>OpBudg</th><th>MtSup</th><th>CaracSup</th><th>DteStr</th><th>LibellePoste</th><th>IdPost</th><th>LibelleColl</th><th>IdColl</th><th>NatCEPL</th><th>Departement</th><th>Id_Fichier</th></tr><tr><td>str</td><td>str</td><td>str</td><td>str</td><td>str</td><td>str</td><td>str</td><td>str</td><td>str</td><td>str</td><td>str</td><td>str</td><td>str</td><td>str</td><td>str</td><td>str</td><td>str</td><td>str</td><td>str</td><td>str</td><td>str</td><td>str</td><td>str</td></tr></thead><tbody><tr><td>&quot;60623&quot;</td><td>&quot;Alimentation p…</td><td>&quot;011&quot;</td><td>&quot;false&quot;</td><td>&quot;D&quot;</td><td>&quot;6000&quot;</td><td>&quot;0&quot;</td><td>&quot;0&quot;</td><td>&quot;0&quot;</td><td>&quot;3000&quot;</td><td>&quot;2631.57&quot;</td><td>&quot;0&quot;</td><td>&quot;0&quot;</td><td>&quot;{&#x27;@Code&#x27;: &#x27;Bud…</td><td>&quot;{&#x27;@Code&#x27;: &#x27;Pro…</td><td>&quot;2019-01-01&quot;</td><td>&quot;CENTRE DES FIN…</td><td>&quot;078027&quot;</td><td>&quot;Caisse des Eco…</td><td>&quot;26780487000017…</td><td>&quot;Commune&quot;</td><td>&quot;78&quot;</td><td>&quot;612019&quot;</td></tr><tr><td>&quot;60628&quot;</td><td>&quot;Autres fournit…</td><td>&quot;011&quot;</td><td>&quot;false&quot;</td><td>&quot;D&quot;</td><td>&quot;750&quot;</td><td>&quot;0&quot;</td><td>&quot;0&quot;</td><td>&quot;0&quot;</td><td>&quot;350&quot;</td><td>&quot;303.24&quot;</td><td>&quot;0&quot;</td><td>&quot;0&quot;</td><td>&quot;{&#x27;@Code&#x27;: &#x27;Bud…</td><td>&quot;{&#x27;@Code&#x27;: &#x27;Pro…</td><td>&quot;2019-01-01&quot;</td><td>&quot;CENTRE DES FIN…</td><td>&quot;078027&quot;</td><td>&quot;Caisse des Eco…</td><td>&quot;26780487000017…</td><td>&quot;Commune&quot;</td><td>&quot;78&quot;</td><td>&quot;612019&quot;</td></tr><tr><td>&quot;6063&quot;</td><td>&quot;{&#x27;@V&#x27;: &quot;Fourni…</td><td>&quot;011&quot;</td><td>&quot;false&quot;</td><td>&quot;D&quot;</td><td>&quot;16580&quot;</td><td>&quot;0&quot;</td><td>&quot;0&quot;</td><td>&quot;0&quot;</td><td>&quot;5950&quot;</td><td>&quot;5185.9&quot;</td><td>&quot;0&quot;</td><td>&quot;0&quot;</td><td>&quot;{&#x27;@Code&#x27;: &#x27;Bud…</td><td>&quot;{&#x27;@Code&#x27;: &#x27;Pro…</td><td>&quot;2019-01-01&quot;</td><td>&quot;CENTRE DES FIN…</td><td>&quot;078027&quot;</td><td>&quot;Caisse des Eco…</td><td>&quot;26780487000017…</td><td>&quot;Commune&quot;</td><td>&quot;78&quot;</td><td>&quot;612019&quot;</td></tr><tr><td>&quot;6065&quot;</td><td>&quot;Livres, disque…</td><td>&quot;011&quot;</td><td>&quot;false&quot;</td><td>&quot;D&quot;</td><td>&quot;6050&quot;</td><td>&quot;0&quot;</td><td>&quot;0&quot;</td><td>&quot;0&quot;</td><td>&quot;3800&quot;</td><td>&quot;5082.13&quot;</td><td>&quot;0&quot;</td><td>&quot;0&quot;</td><td>&quot;{&#x27;@Code&#x27;: &#x27;Bud…</td><td>&quot;{&#x27;@Code&#x27;: &#x27;Pro…</td><td>&quot;2019-01-01&quot;</td><td>&quot;CENTRE DES FIN…</td><td>&quot;078027&quot;</td><td>&quot;Caisse des Eco…</td><td>&quot;26780487000017…</td><td>&quot;Commune&quot;</td><td>&quot;78&quot;</td><td>&quot;612019&quot;</td></tr><tr><td>&quot;6067&quot;</td><td>&quot;Fournitures sc…</td><td>&quot;011&quot;</td><td>&quot;false&quot;</td><td>&quot;D&quot;</td><td>&quot;17774&quot;</td><td>&quot;0&quot;</td><td>&quot;0&quot;</td><td>&quot;0&quot;</td><td>&quot;8500&quot;</td><td>&quot;6874.29&quot;</td><td>&quot;0&quot;</td><td>&quot;0&quot;</td><td>&quot;{&#x27;@Code&#x27;: &#x27;Bud…</td><td>&quot;{&#x27;@Code&#x27;: &#x27;Pro…</td><td>&quot;2019-01-01&quot;</td><td>&quot;CENTRE DES FIN…</td><td>&quot;078027&quot;</td><td>&quot;Caisse des Eco…</td><td>&quot;26780487000017…</td><td>&quot;Commune&quot;</td><td>&quot;78&quot;</td><td>&quot;612019&quot;</td></tr></tbody></table></div>"
      ],
      "text/plain": [
       "shape: (5, 23)\n",
       "┌────────┬──────────────┬─────────┬────────┬───┬──────────────┬─────────┬─────────────┬────────────┐\n",
       "│ Nature ┆ LibCpte      ┆ ContNat ┆ ArtSpe ┆ … ┆ IdColl       ┆ NatCEPL ┆ Departement ┆ Id_Fichier │\n",
       "│ ---    ┆ ---          ┆ ---     ┆ ---    ┆   ┆ ---          ┆ ---     ┆ ---         ┆ ---        │\n",
       "│ str    ┆ str          ┆ str     ┆ str    ┆   ┆ str          ┆ str     ┆ str         ┆ str        │\n",
       "╞════════╪══════════════╪═════════╪════════╪═══╪══════════════╪═════════╪═════════════╪════════════╡\n",
       "│ 60623  ┆ Alimentation ┆ 011     ┆ false  ┆ … ┆ 267804870000 ┆ Commune ┆ 78          ┆ 612019     │\n",
       "│        ┆ pour les     ┆         ┆        ┆   ┆ 17           ┆         ┆             ┆            │\n",
       "│        ┆ cantines e…  ┆         ┆        ┆   ┆              ┆         ┆             ┆            │\n",
       "│ 60628  ┆ Autres       ┆ 011     ┆ false  ┆ … ┆ 267804870000 ┆ Commune ┆ 78          ┆ 612019     │\n",
       "│        ┆ fournitures  ┆         ┆        ┆   ┆ 17           ┆         ┆             ┆            │\n",
       "│        ┆ non stockées ┆         ┆        ┆   ┆              ┆         ┆             ┆            │\n",
       "│ 6063   ┆ {'@V':       ┆ 011     ┆ false  ┆ … ┆ 267804870000 ┆ Commune ┆ 78          ┆ 612019     │\n",
       "│        ┆ \"Fournitures ┆         ┆        ┆   ┆ 17           ┆         ┆             ┆            │\n",
       "│        ┆ d'entretien  ┆         ┆        ┆   ┆              ┆         ┆             ┆            │\n",
       "│        ┆ …            ┆         ┆        ┆   ┆              ┆         ┆             ┆            │\n",
       "│ 6065   ┆ Livres,      ┆ 011     ┆ false  ┆ … ┆ 267804870000 ┆ Commune ┆ 78          ┆ 612019     │\n",
       "│        ┆ disques,     ┆         ┆        ┆   ┆ 17           ┆         ┆             ┆            │\n",
       "│        ┆ cassettes... ┆         ┆        ┆   ┆              ┆         ┆             ┆            │\n",
       "│        ┆ (b…          ┆         ┆        ┆   ┆              ┆         ┆             ┆            │\n",
       "│ 6067   ┆ Fournitures  ┆ 011     ┆ false  ┆ … ┆ 267804870000 ┆ Commune ┆ 78          ┆ 612019     │\n",
       "│        ┆ scolaires    ┆         ┆        ┆   ┆ 17           ┆         ┆             ┆            │\n",
       "└────────┴──────────────┴─────────┴────────┴───┴──────────────┴─────────┴─────────────┴────────────┘"
      ]
     },
     "execution_count": 110,
     "metadata": {},
     "output_type": "execute_result"
    }
   ],
   "source": [
    "table_polars.head()"
   ]
  },
  {
   "cell_type": "code",
   "execution_count": 132,
   "metadata": {},
   "outputs": [],
   "source": [
    "task_2(DOSSIER_PARQUETS_INDIVIDUELS, 'parquet_schema', schema_cust= custom_schema)"
   ]
  },
  {
   "cell_type": "code",
   "execution_count": 135,
   "metadata": {},
   "outputs": [
    {
     "data": {
      "text/html": [
       "<div><style>\n",
       ".dataframe > thead > tr > th,\n",
       ".dataframe > tbody > tr > td {\n",
       "  text-align: right;\n",
       "  white-space: pre-wrap;\n",
       "}\n",
       "</style>\n",
       "<small>shape: (5, 60)</small><table border=\"1\" class=\"dataframe\"><thead><tr><th>Nature</th><th>Fonction</th><th>LibCpte</th><th>ContNat</th><th>ArtSpe</th><th>ContFon</th><th>CodRD</th><th>MtBudgPrec</th><th>MtRARPrec</th><th>MtPropNouv</th><th>MtPrev</th><th>CredOuv</th><th>MtReal</th><th>MtRAR3112</th><th>OpBudg</th><th>MtSup</th><th>MtSup_1_Lib</th><th>MtSup_1_Val</th><th>MtSup_2_Lib</th><th>MtSup_2_Val</th><th>MtSup_3_Lib</th><th>MtSup_3_Val</th><th>MtSup_4_Lib</th><th>MtSup_4_Val</th><th>MtSup_5_Lib</th><th>MtSup_5_Val</th><th>MtSup_6_Lib</th><th>MtSup_6_Val</th><th>MtSup_7_Lib</th><th>MtSup_7_Val</th><th>MtSup_8_Lib</th><th>MtSup_8_Val</th><th>MtSup_9_Lib</th><th>MtSup_9_Val</th><th>MtSup_10_Lib</th><th>MtSup_10_Val</th><th>CaracSup_1_Lib</th><th>CaracSup_1_Val</th><th>CaracSup_2_Lib</th><th>CaracSup_2_Val</th><th>CaracSup_3_Lib</th><th>CaracSup_3_Val</th><th>CaracSup_4_Lib</th><th>CaracSup_4_Val</th><th>CaracSup_5_Lib</th><th>CaracSup_5_Val</th><th>CaracSup_6_Lib</th><th>CaracSup_6_Val</th><th>CaracSup_7_Lib</th><th>CaracSup_7_Val</th><th>TypOpBudg</th><th>OpeCpteTiers</th><th>DteStr</th><th>LibellePoste</th><th>IdPost</th><th>LibelleColl</th><th>IdColl</th><th>NatCEPL</th><th>Departement</th><th>Id_Fichier</th></tr><tr><td>str</td><td>str</td><td>str</td><td>str</td><td>str</td><td>str</td><td>str</td><td>str</td><td>str</td><td>str</td><td>str</td><td>str</td><td>str</td><td>str</td><td>str</td><td>str</td><td>str</td><td>str</td><td>str</td><td>str</td><td>str</td><td>str</td><td>str</td><td>str</td><td>str</td><td>str</td><td>str</td><td>str</td><td>str</td><td>str</td><td>str</td><td>str</td><td>str</td><td>str</td><td>str</td><td>str</td><td>str</td><td>str</td><td>str</td><td>str</td><td>str</td><td>str</td><td>str</td><td>str</td><td>str</td><td>str</td><td>str</td><td>str</td><td>str</td><td>str</td><td>str</td><td>str</td><td>date</td><td>str</td><td>str</td><td>str</td><td>str</td><td>str</td><td>str</td><td>i64</td></tr></thead><tbody><tr><td>&quot;60632&quot;</td><td>null</td><td>&quot;nan&quot;</td><td>&quot;011&quot;</td><td>&quot;false&quot;</td><td>null</td><td>&quot;D&quot;</td><td>&quot;11962.00&quot;</td><td>&quot;nan&quot;</td><td>&quot;19335.00&quot;</td><td>&quot;19335.00&quot;</td><td>&quot;19335.00&quot;</td><td>null</td><td>null</td><td>&quot;0&quot;</td><td>&quot;{&#x27;@V&#x27;: &#x27;11962.…</td><td>&quot;BudgetHorsRAR&quot;</td><td>&quot;11962.00&quot;</td><td>&quot;nan&quot;</td><td>&quot;nan&quot;</td><td>&quot;nan&quot;</td><td>&quot;nan&quot;</td><td>null</td><td>null</td><td>null</td><td>null</td><td>null</td><td>null</td><td>null</td><td>null</td><td>null</td><td>null</td><td>null</td><td>null</td><td>null</td><td>null</td><td>&quot;Section&quot;</td><td>&quot;F&quot;</td><td>&quot;nan&quot;</td><td>&quot;nan&quot;</td><td>null</td><td>null</td><td>null</td><td>null</td><td>null</td><td>null</td><td>null</td><td>null</td><td>null</td><td>null</td><td>&quot;nan&quot;</td><td>null</td><td>2020-08-01</td><td>&quot;TRESORERIE DE …</td><td>&quot;024003&quot;</td><td>&quot;AGONAC&quot;</td><td>&quot;21240002200019…</td><td>&quot;Commune&quot;</td><td>&quot;24&quot;</td><td>612013</td></tr><tr><td>&quot;6332&quot;</td><td>null</td><td>&quot;nan&quot;</td><td>&quot;012&quot;</td><td>&quot;false&quot;</td><td>null</td><td>&quot;D&quot;</td><td>&quot;450.00&quot;</td><td>&quot;nan&quot;</td><td>&quot;500.00&quot;</td><td>&quot;500.00&quot;</td><td>&quot;500.00&quot;</td><td>null</td><td>null</td><td>&quot;0&quot;</td><td>&quot;{&#x27;@V&#x27;: &#x27;450.00…</td><td>&quot;BudgetHorsRAR&quot;</td><td>&quot;450.00&quot;</td><td>&quot;nan&quot;</td><td>&quot;nan&quot;</td><td>&quot;nan&quot;</td><td>&quot;nan&quot;</td><td>null</td><td>null</td><td>null</td><td>null</td><td>null</td><td>null</td><td>null</td><td>null</td><td>null</td><td>null</td><td>null</td><td>null</td><td>null</td><td>null</td><td>&quot;Section&quot;</td><td>&quot;F&quot;</td><td>&quot;nan&quot;</td><td>&quot;nan&quot;</td><td>null</td><td>null</td><td>null</td><td>null</td><td>null</td><td>null</td><td>null</td><td>null</td><td>null</td><td>null</td><td>&quot;nan&quot;</td><td>null</td><td>2020-08-01</td><td>&quot;TRESORERIE DE …</td><td>&quot;024003&quot;</td><td>&quot;AGONAC&quot;</td><td>&quot;21240002200019…</td><td>&quot;Commune&quot;</td><td>&quot;24&quot;</td><td>612013</td></tr><tr><td>&quot;6411&quot;</td><td>null</td><td>&quot;nan&quot;</td><td>&quot;012&quot;</td><td>&quot;false&quot;</td><td>null</td><td>&quot;D&quot;</td><td>&quot;365000.00&quot;</td><td>&quot;nan&quot;</td><td>&quot;352000.00&quot;</td><td>&quot;352000.00&quot;</td><td>&quot;352000.00&quot;</td><td>null</td><td>null</td><td>&quot;0&quot;</td><td>&quot;{&#x27;@V&#x27;: &#x27;365000…</td><td>&quot;BudgetHorsRAR&quot;</td><td>&quot;365000.00&quot;</td><td>&quot;nan&quot;</td><td>&quot;nan&quot;</td><td>&quot;nan&quot;</td><td>&quot;nan&quot;</td><td>null</td><td>null</td><td>null</td><td>null</td><td>null</td><td>null</td><td>null</td><td>null</td><td>null</td><td>null</td><td>null</td><td>null</td><td>null</td><td>null</td><td>&quot;Section&quot;</td><td>&quot;F&quot;</td><td>&quot;nan&quot;</td><td>&quot;nan&quot;</td><td>null</td><td>null</td><td>null</td><td>null</td><td>null</td><td>null</td><td>null</td><td>null</td><td>null</td><td>null</td><td>&quot;nan&quot;</td><td>null</td><td>2020-08-01</td><td>&quot;TRESORERIE DE …</td><td>&quot;024003&quot;</td><td>&quot;AGONAC&quot;</td><td>&quot;21240002200019…</td><td>&quot;Commune&quot;</td><td>&quot;24&quot;</td><td>612013</td></tr><tr><td>&quot;74834&quot;</td><td>null</td><td>&quot;nan&quot;</td><td>&quot;nan&quot;</td><td>&quot;false&quot;</td><td>null</td><td>&quot;R&quot;</td><td>&quot;4104.00&quot;</td><td>&quot;nan&quot;</td><td>&quot;4084.00&quot;</td><td>&quot;4084.00&quot;</td><td>&quot;4084.00&quot;</td><td>null</td><td>null</td><td>&quot;0&quot;</td><td>&quot;{&#x27;@V&#x27;: &#x27;4104.0…</td><td>&quot;BudgetHorsRAR&quot;</td><td>&quot;4104.00&quot;</td><td>&quot;nan&quot;</td><td>&quot;nan&quot;</td><td>&quot;nan&quot;</td><td>&quot;nan&quot;</td><td>null</td><td>null</td><td>null</td><td>null</td><td>null</td><td>null</td><td>null</td><td>null</td><td>null</td><td>null</td><td>null</td><td>null</td><td>null</td><td>null</td><td>&quot;Section&quot;</td><td>&quot;F&quot;</td><td>&quot;nan&quot;</td><td>&quot;nan&quot;</td><td>null</td><td>null</td><td>null</td><td>null</td><td>null</td><td>null</td><td>null</td><td>null</td><td>null</td><td>null</td><td>&quot;nan&quot;</td><td>null</td><td>2020-08-01</td><td>&quot;TRESORERIE DE …</td><td>&quot;024003&quot;</td><td>&quot;AGONAC&quot;</td><td>&quot;21240002200019…</td><td>&quot;Commune&quot;</td><td>&quot;24&quot;</td><td>612013</td></tr><tr><td>&quot;6331&quot;</td><td>null</td><td>&quot;nan&quot;</td><td>&quot;012&quot;</td><td>&quot;false&quot;</td><td>null</td><td>&quot;D&quot;</td><td>&quot;4250.00&quot;</td><td>&quot;nan&quot;</td><td>&quot;5200.00&quot;</td><td>&quot;5200.00&quot;</td><td>&quot;5200.00&quot;</td><td>null</td><td>null</td><td>&quot;0&quot;</td><td>&quot;{&#x27;@V&#x27;: &#x27;4250.0…</td><td>&quot;BudgetHorsRAR&quot;</td><td>&quot;4250.00&quot;</td><td>&quot;nan&quot;</td><td>&quot;nan&quot;</td><td>&quot;nan&quot;</td><td>&quot;nan&quot;</td><td>null</td><td>null</td><td>null</td><td>null</td><td>null</td><td>null</td><td>null</td><td>null</td><td>null</td><td>null</td><td>null</td><td>null</td><td>null</td><td>null</td><td>&quot;Section&quot;</td><td>&quot;F&quot;</td><td>&quot;nan&quot;</td><td>&quot;nan&quot;</td><td>null</td><td>null</td><td>null</td><td>null</td><td>null</td><td>null</td><td>null</td><td>null</td><td>null</td><td>null</td><td>&quot;nan&quot;</td><td>null</td><td>2020-08-01</td><td>&quot;TRESORERIE DE …</td><td>&quot;024003&quot;</td><td>&quot;AGONAC&quot;</td><td>&quot;21240002200019…</td><td>&quot;Commune&quot;</td><td>&quot;24&quot;</td><td>612013</td></tr></tbody></table></div>"
      ],
      "text/plain": [
       "shape: (5, 60)\n",
       "┌────────┬──────────┬─────────┬─────────┬───┬────────────────┬─────────┬─────────────┬────────────┐\n",
       "│ Nature ┆ Fonction ┆ LibCpte ┆ ContNat ┆ … ┆ IdColl         ┆ NatCEPL ┆ Departement ┆ Id_Fichier │\n",
       "│ ---    ┆ ---      ┆ ---     ┆ ---     ┆   ┆ ---            ┆ ---     ┆ ---         ┆ ---        │\n",
       "│ str    ┆ str      ┆ str     ┆ str     ┆   ┆ str            ┆ str     ┆ str         ┆ i64        │\n",
       "╞════════╪══════════╪═════════╪═════════╪═══╪════════════════╪═════════╪═════════════╪════════════╡\n",
       "│ 60632  ┆ null     ┆ nan     ┆ 011     ┆ … ┆ 21240002200019 ┆ Commune ┆ 24          ┆ 612013     │\n",
       "│ 6332   ┆ null     ┆ nan     ┆ 012     ┆ … ┆ 21240002200019 ┆ Commune ┆ 24          ┆ 612013     │\n",
       "│ 6411   ┆ null     ┆ nan     ┆ 012     ┆ … ┆ 21240002200019 ┆ Commune ┆ 24          ┆ 612013     │\n",
       "│ 74834  ┆ null     ┆ nan     ┆ nan     ┆ … ┆ 21240002200019 ┆ Commune ┆ 24          ┆ 612013     │\n",
       "│ 6331   ┆ null     ┆ nan     ┆ 012     ┆ … ┆ 21240002200019 ┆ Commune ┆ 24          ┆ 612013     │\n",
       "└────────┴──────────┴─────────┴─────────┴───┴────────────────┴─────────┴─────────────┴────────────┘"
      ]
     },
     "execution_count": 135,
     "metadata": {},
     "output_type": "execute_result"
    }
   ],
   "source": [
    "polars_schema_table = pl.read_parquet(\"./parquet_schema.parquet\")\n",
    "polars_schema_table.head(5)"
   ]
  },
  {
   "cell_type": "code",
   "execution_count": 151,
   "metadata": {},
   "outputs": [
    {
     "data": {
      "text/html": [
       "<div><style>\n",
       ".dataframe > thead > tr > th,\n",
       ".dataframe > tbody > tr > td {\n",
       "  text-align: right;\n",
       "  white-space: pre-wrap;\n",
       "}\n",
       "</style>\n",
       "<small>shape: (3,)</small><table border=\"1\" class=\"dataframe\"><thead><tr><th>MtSup_10_Lib</th></tr><tr><td>str</td></tr></thead><tbody><tr><td>&quot;BudgetHorsRAR&quot;</td></tr><tr><td>null</td></tr><tr><td>&quot;nan&quot;</td></tr></tbody></table></div>"
      ],
      "text/plain": [
       "shape: (3,)\n",
       "Series: 'MtSup_10_Lib' [str]\n",
       "[\n",
       "\t\"BudgetHorsRAR\"\n",
       "\tnull\n",
       "\t\"nan\"\n",
       "]"
      ]
     },
     "execution_count": 151,
     "metadata": {},
     "output_type": "execute_result"
    }
   ],
   "source": [
    "polars_schema_table['MtSup_10_Lib'].unique()"
   ]
  },
  {
   "cell_type": "code",
   "execution_count": 152,
   "metadata": {},
   "outputs": [],
   "source": [
    "df_filtered = polars_schema_table.filter((pl.col('MtSup_2_Lib').is_not_null()) & (pl.col('MtSup_2_Lib') != ''))\n"
   ]
  },
  {
   "cell_type": "code",
   "execution_count": 153,
   "metadata": {},
   "outputs": [
    {
     "name": "stdout",
     "output_type": "stream",
     "text": [
      "shape: (1_887_271, 60)\n",
      "┌────────┬──────────┬─────────┬─────────┬───┬────────────────┬─────────┬─────────────┬────────────┐\n",
      "│ Nature ┆ Fonction ┆ LibCpte ┆ ContNat ┆ … ┆ IdColl         ┆ NatCEPL ┆ Departement ┆ Id_Fichier │\n",
      "│ ---    ┆ ---      ┆ ---     ┆ ---     ┆   ┆ ---            ┆ ---     ┆ ---         ┆ ---        │\n",
      "│ str    ┆ str      ┆ str     ┆ str     ┆   ┆ str            ┆ str     ┆ str         ┆ i64        │\n",
      "╞════════╪══════════╪═════════╪═════════╪═══╪════════════════╪═════════╪═════════════╪════════════╡\n",
      "│ 60632  ┆ null     ┆ nan     ┆ 011     ┆ … ┆ 21240002200019 ┆ Commune ┆ 24          ┆ 612013     │\n",
      "│ 6332   ┆ null     ┆ nan     ┆ 012     ┆ … ┆ 21240002200019 ┆ Commune ┆ 24          ┆ 612013     │\n",
      "│ 6411   ┆ null     ┆ nan     ┆ 012     ┆ … ┆ 21240002200019 ┆ Commune ┆ 24          ┆ 612013     │\n",
      "│ 74834  ┆ null     ┆ nan     ┆ nan     ┆ … ┆ 21240002200019 ┆ Commune ┆ 24          ┆ 612013     │\n",
      "│ …      ┆ …        ┆ …       ┆ …       ┆ … ┆ …              ┆ …       ┆ …           ┆ …          │\n",
      "│ 7581   ┆ null     ┆ null    ┆ nan     ┆ … ┆ 20005422900089 ┆ Commune ┆ 44          ┆ 840476     │\n",
      "│ 66112  ┆ null     ┆ null    ┆ 66      ┆ … ┆ 20005422900089 ┆ Commune ┆ 44          ┆ 840476     │\n",
      "│ 777    ┆ null     ┆ null    ┆ 042     ┆ … ┆ 20005422900089 ┆ Commune ┆ 44          ┆ 840476     │\n",
      "│ 10222  ┆ null     ┆ null    ┆ nan     ┆ … ┆ 20005422900089 ┆ Commune ┆ 44          ┆ 840476     │\n",
      "└────────┴──────────┴─────────┴─────────┴───┴────────────────┴─────────┴─────────────┴────────────┘\n"
     ]
    }
   ],
   "source": [
    "print(df_filtered)\n"
   ]
  },
  {
   "cell_type": "code",
   "execution_count": null,
   "metadata": {},
   "outputs": [],
   "source": []
  }
 ],
 "metadata": {
  "kernelspec": {
   "display_name": "Python 3",
   "language": "python",
   "name": "python3"
  },
  "language_info": {
   "codemirror_mode": {
    "name": "ipython",
    "version": 3
   },
   "file_extension": ".py",
   "mimetype": "text/x-python",
   "name": "python",
   "nbconvert_exporter": "python",
   "pygments_lexer": "ipython3",
   "version": "3.11.5"
  }
 },
 "nbformat": 4,
 "nbformat_minor": 2
}
