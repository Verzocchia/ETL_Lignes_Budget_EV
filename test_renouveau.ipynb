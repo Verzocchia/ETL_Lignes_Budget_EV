{
 "cells": [
  {
   "cell_type": "code",
   "execution_count": 39,
   "metadata": {},
   "outputs": [],
   "source": [
    "import gzip \n",
    "from lxml import etree\n",
    "import pandas as pd \n",
    "import xmltodict\n",
    "import glob\n",
    "import os \n",
    "import time \n",
    "import polars as pl \n",
    "import duckdb\n",
    "\n"
   ]
  },
  {
   "cell_type": "code",
   "execution_count": 2,
   "metadata": {},
   "outputs": [],
   "source": [
    "DOSSIER_500 = \"../../todo/test1000_2/\"\n",
    "dossier_10 = '../../todo/'"
   ]
  },
  {
   "cell_type": "code",
   "execution_count": 3,
   "metadata": {},
   "outputs": [],
   "source": [
    "def timtim(fonction):\n",
    "    def wrapper(*args, **kwargs):\n",
    "        debut = time.time()\n",
    "        resultat = fonction(*args, **kwargs)\n",
    "        fin = time.time()\n",
    "        temps_execution = fin - debut\n",
    "        print(f\"La fonction {fonction.__name__} a pris {temps_execution:.5f} secondes pour s'exécuter.\")\n",
    "        return resultat\n",
    "    return wrapper"
   ]
  },
  {
   "cell_type": "code",
   "execution_count": 4,
   "metadata": {},
   "outputs": [],
   "source": [
    "def parse_fichier(chemin) : \n",
    " '''Ouvre et parse le fichier gzip'''\n",
    " with gzip.open(chemin, 'rb') as fichier_ouvert : \n",
    "  fichier_xml_gzip = fichier_ouvert.read()\n",
    "  fichier_xml = fichier_xml_gzip.decode('latin-1')\n",
    "  fichier_dict = xmltodict.parse(fichier_xml)\n",
    " return fichier_dict"
   ]
  },
  {
   "cell_type": "code",
   "execution_count": 5,
   "metadata": {},
   "outputs": [],
   "source": [
    "@timtim\n",
    "def Methode_1(chemin) : \n",
    " liste_df = []\n",
    " for fichier in glob.glob(os.path.join(chemin, \"*.gz\")) : \n",
    "  try : \n",
    "   dico = parse_fichier(fichier)\n",
    "   docbase = dico['DocumentBudgetaire']['Budget']['LigneBudget']\n",
    "   liste_methode_1 = []\n",
    "   for ligne_methode_1 in docbase:\n",
    "     dict_temp = {}\n",
    "     for clef, valolo in ligne_methode_1.items():\n",
    "         if isinstance(valolo, dict) and '@V' in valolo:\n",
    "             val_atrib = valolo['@V']\n",
    "         else:\n",
    "             val_atrib = valolo\n",
    "         dict_temp[clef] = val_atrib\n",
    "     liste_methode_1.append(dict_temp)\n",
    "   df_methode_1 = pd.DataFrame(liste_methode_1)\n",
    "   liste_df.append(df_methode_1)\n",
    "  except Exception as e :\n",
    "   print(f'Erreur fichier {fichier}') \n",
    "   continue \n",
    " \n",
    " df_gros_1 = pd.concat(liste_df)\n",
    " return df_gros_1\n",
    "\n",
    "@timtim\n",
    "def Methode_2(chemin) : \n",
    " liste_df = []\n",
    " for fichier in glob.glob(os.path.join(chemin, \"*.gz\")) : \n",
    "  try : \n",
    "   dico = parse_fichier(fichier)\n",
    "   docbase = dico['DocumentBudgetaire']['Budget']['LigneBudget']\n",
    "   df_methode_2 = pd.DataFrame(docbase)\n",
    "   nettoyage = lambda x : str(x).replace(\"{'@V': '\", \"\").replace(\"'}\", \"\")\n",
    "   for col in df_methode_2.columns : \n",
    "    df_methode_2[col] = df_methode_2[col].apply(nettoyage)\n",
    "   liste_df.append(df_methode_2)\n",
    "  except Exception as e : \n",
    "    print(f'Erreur fichier {fichier}')\n",
    "    continue\n",
    "   \n",
    " gros_df_2 = pd.concat(liste_df)\n",
    " return gros_df_2\n",
    "\n",
    "\n",
    "@timtim\n",
    "def Methode_3(chemin) : \n",
    " liste_df = []\n",
    " for fichier in glob.glob(os.path.join(chemin, \"*.gz\")) : \n",
    "  try : \n",
    "   dico = parse_fichier(fichier)\n",
    "   docbase = dico['DocumentBudgetaire']['Budget']['LigneBudget']\n",
    "   df_methode_3 = pd.json_normalize(docbase)\n",
    "   liste_df.append(df_methode_3)\n",
    "  except Exception as e : \n",
    "    print(f'Erreur fichier {fichier}')\n",
    "    continue\n",
    " gros_df_3 = pd.concat(liste_df)\n",
    " return gros_df_3"
   ]
  },
  {
   "cell_type": "code",
   "execution_count": 6,
   "metadata": {},
   "outputs": [
    {
     "name": "stdout",
     "output_type": "stream",
     "text": [
      "Erreur fichier ../../todo/test1000_2\\628857.xml.gz\n",
      "La fonction Methode_1 a pris 31.54800 secondes pour s'exécuter.\n"
     ]
    }
   ],
   "source": [
    "dfm1 = Methode_1(DOSSIER_500)"
   ]
  },
  {
   "cell_type": "code",
   "execution_count": 7,
   "metadata": {},
   "outputs": [
    {
     "name": "stdout",
     "output_type": "stream",
     "text": [
      "La fonction Methode_2 a pris 21.48200 secondes pour s'exécuter.\n"
     ]
    }
   ],
   "source": [
    "dfm2 = Methode_2(DOSSIER_500)"
   ]
  },
  {
   "cell_type": "code",
   "execution_count": 8,
   "metadata": {},
   "outputs": [
    {
     "name": "stdout",
     "output_type": "stream",
     "text": [
      "La fonction Methode_3 a pris 19.48699 secondes pour s'exécuter.\n"
     ]
    }
   ],
   "source": [
    "dfm3 = Methode_3(DOSSIER_500)"
   ]
  },
  {
   "cell_type": "code",
   "execution_count": 20,
   "metadata": {},
   "outputs": [
    {
     "name": "stdout",
     "output_type": "stream",
     "text": [
      "Erreur fichier ../../todo\\730073.xml.gz\n",
      "Erreur fichier ../../todo\\748147.xml.gz\n",
      "Erreur fichier ../../todo\\756300.xml.gz\n",
      "Erreur fichier ../../todo\\775775.xml.gz\n",
      "Erreur fichier ../../todo\\807134.xml.gz\n",
      "Erreur fichier ../../todo\\809162.xml.gz\n",
      "Erreur fichier ../../todo\\809290.xml.gz\n",
      "Erreur fichier ../../todo\\819789.xml.gz\n",
      "Erreur fichier ../../todo\\821461.xml.gz\n",
      "Erreur fichier ../../todo\\838663.xml.gz\n",
      "La fonction Methode_1 a pris 341.34907 secondes pour s'exécuter.\n"
     ]
    }
   ],
   "source": [
    "gigadf1 = Methode_1(dossier_10)"
   ]
  },
  {
   "cell_type": "code",
   "execution_count": 21,
   "metadata": {},
   "outputs": [
    {
     "name": "stdout",
     "output_type": "stream",
     "text": [
      "Erreur fichier ../../todo\\775775.xml.gz\n",
      "La fonction Methode_2 a pris 231.86275 secondes pour s'exécuter.\n"
     ]
    }
   ],
   "source": [
    "gigadf2 = Methode_2(dossier_10)"
   ]
  },
  {
   "cell_type": "code",
   "execution_count": 8,
   "metadata": {},
   "outputs": [
    {
     "name": "stdout",
     "output_type": "stream",
     "text": [
      "Erreur fichier ../../todo\\775775.xml.gz\n",
      "La fonction Methode_3 a pris 221.79921 secondes pour s'exécuter.\n"
     ]
    }
   ],
   "source": [
    "gigadf3 = Methode_3(dossier_10)"
   ]
  },
  {
   "cell_type": "markdown",
   "metadata": {},
   "source": [
    "Gigadf2"
   ]
  },
  {
   "cell_type": "code",
   "execution_count": 29,
   "metadata": {},
   "outputs": [
    {
     "name": "stdout",
     "output_type": "stream",
     "text": [
      "Index(['Nature', 'LibCpte', 'Fonction', 'ContNat', 'ArtSpe', 'CodRD',\n",
      "       'MtBudgPrec', 'MtPropNouv', 'MtPrev', 'CredOuv', 'MtReal', 'OpBudg',\n",
      "       'MtSup', 'TypOpBudg', 'MtRAR3112', 'OpeCpteTiers', 'CaracSup',\n",
      "       'MtRARPrec', 'ContOp', 'Operation', 'ContFon'],\n",
      "      dtype='object')\n",
      "Index(['Nature.@V', 'LibCpte.@V', 'Fonction.@V', 'ContNat.@V', 'ArtSpe.@V',\n",
      "       'CodRD.@V', 'MtBudgPrec.@V', 'MtPropNouv.@V', 'MtPrev.@V', 'CredOuv.@V',\n",
      "       'MtReal.@V', 'OpBudg.@V', 'MtSup.@Code', 'MtSup.@V', 'MtSup',\n",
      "       'TypOpBudg.@V', 'MtRAR3112.@V', 'OpeCpteTiers.@V', 'CaracSup.@Code',\n",
      "       'CaracSup.@V', 'MtRARPrec.@V', 'ContOp.@V', 'CaracSup', 'Operation.@V',\n",
      "       'ContFon.@V'],\n",
      "      dtype='object')\n",
      "methode 2 : (1429917, 21) /n methode 3 : (1429912, 25)\n"
     ]
    }
   ],
   "source": [
    "print(gigadf2.columns)\n",
    "print(gigadf3.columns)\n",
    "\n",
    "print(f'methode 2 : {gigadf2.shape} /n methode 3 : {gigadf3.shape}')"
   ]
  },
  {
   "cell_type": "markdown",
   "metadata": {},
   "source": [
    "Gigadf3"
   ]
  },
  {
   "cell_type": "markdown",
   "metadata": {},
   "source": [
    "Methode Polars"
   ]
  },
  {
   "cell_type": "markdown",
   "metadata": {},
   "source": []
  },
  {
   "cell_type": "code",
   "execution_count": null,
   "metadata": {},
   "outputs": [],
   "source": [
    "fichier_test = './771014.xml.gz'\n",
    "test_parse = parse_fichier(fichier_test)\n",
    "dict_parse = test_parse['DocumentBudgetaire']['Budget']['LigneBudget']\n",
    "dict_parse"
   ]
  },
  {
   "cell_type": "code",
   "execution_count": 6,
   "metadata": {},
   "outputs": [],
   "source": [
    "\n",
    "def extract_value(d):\n",
    "    if isinstance(d, dict) and '@V' in d:\n",
    "        return d['@V']\n",
    "    return d\n",
    "   \n",
    "SCHEMA = {\"Nature\" : pl.Object,\n",
    "          \"LibCpte\" : pl.Object,\n",
    "          \"Fonction\" : pl.Object,\n",
    "          \"Operation\" : pl.Object,\n",
    "          \"ContNat\" : pl.Object,\n",
    "          \"ArtSpe\" : pl.Object,\n",
    "          \"ContFon\" : pl.Object,\n",
    "          \"ContOp\" : pl.Object,\n",
    "          \"CodRD\" : pl.Object,\n",
    "          \"MtBudgPrec\" : pl.Object,\n",
    "          \"MtRARPrec\" : pl.Object,\n",
    "          \"MtPropNouv\" : pl.Object,\n",
    "          \"MtPrev\" : pl.Object,\n",
    "          \"CredOuv\" : pl.Object,\n",
    "          \"MtReal\" : pl.Object,\n",
    "          \"MtRAR3112\" : pl.Object,\n",
    "          \"OpBudg\" : pl.Object,\n",
    "          \"TypOpBudg\" : pl.Object,\n",
    "          \"OpeCpteTiers\" : pl.Object, \n",
    "          \"MtSup\" : pl.Object, \n",
    "          \"CaracSup\" : pl.Object\n",
    "          }\n",
    "\n",
    "#liste_test = []\n",
    "#for ssr in dict_parse : \n",
    "# dict_temp = {key: extract_value(value) for key, value in ssr.items()}\n",
    "# liste_test.append(dict_temp)\n",
    "\n",
    "#liste_test[1]"
   ]
  },
  {
   "cell_type": "code",
   "execution_count": 36,
   "metadata": {},
   "outputs": [
    {
     "data": {
      "text/html": [
       "<div><style>\n",
       ".dataframe > thead > tr > th,\n",
       ".dataframe > tbody > tr > td {\n",
       "  text-align: right;\n",
       "  white-space: pre-wrap;\n",
       "}\n",
       "</style>\n",
       "<small>shape: (2, 21)</small><table border=\"1\" class=\"dataframe\"><thead><tr><th>Nature</th><th>LibCpte</th><th>Fonction</th><th>Operation</th><th>ContNat</th><th>ArtSpe</th><th>ContFon</th><th>ContOp</th><th>CodRD</th><th>MtBudgPrec</th><th>MtRARPrec</th><th>MtPropNouv</th><th>MtPrev</th><th>CredOuv</th><th>MtReal</th><th>MtRAR3112</th><th>OpBudg</th><th>TypOpBudg</th><th>OpeCpteTiers</th><th>MtSup</th><th>CaracSup</th></tr><tr><td>object</td><td>object</td><td>object</td><td>object</td><td>object</td><td>object</td><td>object</td><td>object</td><td>object</td><td>object</td><td>object</td><td>object</td><td>object</td><td>object</td><td>object</td><td>object</td><td>object</td><td>object</td><td>object</td><td>object</td><td>object</td></tr></thead><tbody><tr><td>001</td><td>None</td><td>01</td><td>None</td><td>001</td><td>false</td><td>None</td><td>None</td><td>D</td><td>0.00</td><td>0.00</td><td>0.00</td><td>0.00</td><td>160523368.02</td><td>160523368.02</td><td>0.00</td><td>0</td><td>None</td><td>None</td><td>[{&#x27;@Code&#x27;: &#x27;ProdChaRat&#x27;, &#x27;@V&#x27;: &#x27;0.00&#x27;}, {&#x27;@Code&#x27;: &#x27;BudgetHorsRAR&#x27;, &#x27;@V&#x27;: &#x27;160523368.02&#x27;}]</td><td>None</td></tr><tr><td>002</td><td>None</td><td>01</td><td>None</td><td>002</td><td>false</td><td>None</td><td>None</td><td>R</td><td>0.00</td><td>0.00</td><td>0.00</td><td>0.00</td><td>27137951.23</td><td>27137951.23</td><td>0.00</td><td>0</td><td>None</td><td>None</td><td>[{&#x27;@Code&#x27;: &#x27;ProdChaRat&#x27;, &#x27;@V&#x27;: &#x27;0.00&#x27;}, {&#x27;@Code&#x27;: &#x27;BudgetHorsRAR&#x27;, &#x27;@V&#x27;: &#x27;27137951.23&#x27;}]</td><td>None</td></tr></tbody></table></div>"
      ],
      "text/plain": [
       "shape: (2, 21)\n",
       "┌────────┬─────────┬──────────┬───────────┬───┬───────────┬──────────────┬──────────────┬──────────┐\n",
       "│ Nature ┆ LibCpte ┆ Fonction ┆ Operation ┆ … ┆ TypOpBudg ┆ OpeCpteTiers ┆ MtSup        ┆ CaracSup │\n",
       "│ ---    ┆ ---     ┆ ---      ┆ ---       ┆   ┆ ---       ┆ ---          ┆ ---          ┆ ---      │\n",
       "│ object ┆ object  ┆ object   ┆ object    ┆   ┆ object    ┆ object       ┆ object       ┆ object   │\n",
       "╞════════╪═════════╪══════════╪═══════════╪═══╪═══════════╪══════════════╪══════════════╪══════════╡\n",
       "│ 001    ┆ None    ┆ 01       ┆ None      ┆ … ┆ None      ┆ None         ┆ [{'@Code':   ┆ None     │\n",
       "│        ┆         ┆          ┆           ┆   ┆           ┆              ┆ 'ProdChaRat' ┆          │\n",
       "│        ┆         ┆          ┆           ┆   ┆           ┆              ┆ , '@V': '…   ┆          │\n",
       "│ 002    ┆ None    ┆ 01       ┆ None      ┆ … ┆ None      ┆ None         ┆ [{'@Code':   ┆ None     │\n",
       "│        ┆         ┆          ┆           ┆   ┆           ┆              ┆ 'ProdChaRat' ┆          │\n",
       "│        ┆         ┆          ┆           ┆   ┆           ┆              ┆ , '@V': '…   ┆          │\n",
       "└────────┴─────────┴──────────┴───────────┴───┴───────────┴──────────────┴──────────────┴──────────┘"
      ]
     },
     "execution_count": 36,
     "metadata": {},
     "output_type": "execute_result"
    }
   ],
   "source": [
    "pl_test = pl.DataFrame(liste_test, schema=schema)\n",
    "pl_test.head(2)"
   ]
  },
  {
   "cell_type": "code",
   "execution_count": 7,
   "metadata": {},
   "outputs": [],
   "source": [
    "@timtim\n",
    "def Methode_polars(chemin, schema) : \n",
    " liste_prepl = []\n",
    " for fichier in glob.glob(os.path.join(chemin, \"*.gz\")) : \n",
    "  try : \n",
    "   dico = parse_fichier(fichier)\n",
    "   docbase = dico['DocumentBudgetaire']['Budget']['LigneBudget']\n",
    "   pre_df = pl.DataFrame(docbase, schema=schema)\n",
    "   liste_prepl.append(pre_df)\n",
    "  except Exception as e : \n",
    "    print(f'Erreur fichier {fichier}')\n",
    "    continue\n",
    " pl_test = pl.concat(liste_prepl)\n",
    " return pl_test "
   ]
  },
  {
   "cell_type": "code",
   "execution_count": 8,
   "metadata": {},
   "outputs": [
    {
     "name": "stdout",
     "output_type": "stream",
     "text": [
      "Erreur fichier ../../todo\\730073.xml.gz\n",
      "Erreur fichier ../../todo\\748147.xml.gz\n",
      "Erreur fichier ../../todo\\756300.xml.gz\n",
      "Erreur fichier ../../todo\\775775.xml.gz\n",
      "Erreur fichier ../../todo\\807134.xml.gz\n",
      "Erreur fichier ../../todo\\809162.xml.gz\n",
      "Erreur fichier ../../todo\\809290.xml.gz\n",
      "Erreur fichier ../../todo\\819789.xml.gz\n",
      "Erreur fichier ../../todo\\821461.xml.gz\n",
      "Erreur fichier ../../todo\\838663.xml.gz\n",
      "La fonction Methode_polars a pris 257.72901 secondes pour s'exécuter.\n"
     ]
    }
   ],
   "source": [
    "comparatif_pl = Methode_polars(dossier_10, schema=SCHEMA)"
   ]
  },
  {
   "cell_type": "code",
   "execution_count": 9,
   "metadata": {},
   "outputs": [
    {
     "name": "stdout",
     "output_type": "stream",
     "text": [
      "Erreur fichier ../../todo\\775775.xml.gz\n",
      "La fonction Methode_2 a pris 244.25491 secondes pour s'exécuter.\n"
     ]
    }
   ],
   "source": [
    "comparatif_meth2 = Methode_2(dossier_10)"
   ]
  },
  {
   "cell_type": "markdown",
   "metadata": {},
   "source": [
    "Erreurs methode_1 : \n",
    "\n",
    "- Erreur fichier ../../todo\\730073.xml.gz\n",
    "- Erreur fichier ../../todo\\748147.xml.gz\n",
    "- Erreur fichier ../../todo\\756300.xml.gz\n",
    "- Erreur fichier ../../todo\\775775.xml.gz\n",
    "- Erreur fichier ../../todo\\807134.xml.gz\n",
    "- Erreur fichier ../../todo\\809162.xml.gz\n",
    "- Erreur fichier ../../todo\\809290.xml.gz\n",
    "- Erreur fichier ../../todo\\819789.xml.gz\n",
    "- Erreur fichier ../../todo\\821461.xml.gz\n",
    "- Erreur fichier ../../todo\\838663.xml.gz\n",
    "- La fonction Methode_1 a pris 341.34907 secondes pour s'exécuter.\n"
   ]
  },
  {
   "cell_type": "code",
   "execution_count": 29,
   "metadata": {},
   "outputs": [],
   "source": [
    "fichier_test = './771014.xml.gz'\n",
    "test_parse = parse_fichier(fichier_test)\n",
    "dict_parse = test_parse['DocumentBudgetaire']['Budget']['LigneBudget']\n",
    "dict_meta = test_parse['DocumentBudgetaire']"
   ]
  },
  {
   "cell_type": "markdown",
   "metadata": {},
   "source": [
    "Ajout de la verif sur le fichier parquet "
   ]
  },
  {
   "cell_type": "markdown",
   "metadata": {},
   "source": [
    "1. Methode Duckdb "
   ]
  },
  {
   "cell_type": "code",
   "execution_count": null,
   "metadata": {},
   "outputs": [],
   "source": [
    "from minio import Minio\n",
    "import duckdb\n",
    "\n",
    "client = Minio(\n",
    "    endpoint='localhost:9000',\n",
    "    access_key='airflow-local',\n",
    "    secret_key='airflow-local',\n",
    "    secure = False\n",
    "  )"
   ]
  },
  {
   "cell_type": "code",
   "execution_count": 11,
   "metadata": {},
   "outputs": [],
   "source": [
    "def recherche_id_fichier() :\n",
    " conduck = duckdb.connect(database=':memory:', read_only=False)\n",
    " docubudg_t = conduck.read_parquet('./parquet-proto-doc-budget')\n",
    " requete_duckdb = ''' \n",
    " SELECT\n",
    "    DISTINCT Id_Fichier\n",
    " FROM \n",
    "    docubudg_t\n",
    " '''\n",
    " result_requete= conduck.execute(requete_duckdb).fetchdf()\n",
    " liste_id = result_requete['Id_Fichier'].to_list()\n",
    " conduck.close()\n",
    " return liste_id"
   ]
  },
  {
   "cell_type": "code",
   "execution_count": 12,
   "metadata": {},
   "outputs": [],
   "source": []
  },
  {
   "cell_type": "code",
   "execution_count": 26,
   "metadata": {},
   "outputs": [
    {
     "data": {
      "text/plain": [
       "'../../todo\\\\20201113-1875908.xml.gz'"
      ]
     },
     "execution_count": 26,
     "metadata": {},
     "output_type": "execute_result"
    }
   ],
   "source": [
    "liste_ttt = []\n",
    "for i in glob.glob(os.path.join(dossier_10, \"*.gz\")) : \n",
    " liste_ttt.append(i)\n",
    "\n",
    "liste_ttt[7]"
   ]
  },
  {
   "cell_type": "code",
   "execution_count": 28,
   "metadata": {},
   "outputs": [
    {
     "data": {
      "text/plain": [
       "'1825601'"
      ]
     },
     "execution_count": 28,
     "metadata": {},
     "output_type": "execute_result"
    }
   ],
   "source": [
    "fichier_test = '../../todo/727285.xml.gz'\n",
    "id_test = _isolement_id(liste_ttt[1])\n",
    "id_test"
   ]
  },
  {
   "cell_type": "code",
   "execution_count": 32,
   "metadata": {},
   "outputs": [
    {
     "data": {
      "text/plain": [
       "{'DteStr': {'@V': '2021-06-02'},\n",
       " 'LibellePoste': {'@V': 'le Trésorier de la MEL'},\n",
       " 'IdPost': {'@V': '059053'},\n",
       " 'LibelleColl': {'@V': 'METROPOLE EUROPEENNE DE LILLE'},\n",
       " 'IdColl': {'@V': '20009320100016'},\n",
       " 'NatCEPL': {'@V': '06 Groupements de collectivités'}}"
      ]
     },
     "execution_count": 32,
     "metadata": {},
     "output_type": "execute_result"
    }
   ],
   "source": [
    "dict_meta = test_parse['DocumentBudgetaire']['EnTeteDocBudgetaire']\n",
    "dict_meta"
   ]
  },
  {
   "cell_type": "code",
   "execution_count": null,
   "metadata": {},
   "outputs": [],
   "source": [
    "dict_meta['Id_Fichier'] = {'@V' : id_test}\n",
    "dict_meta\n",
    "\n",
    "dict_glob = dict_parse\n",
    "for i in dict_glob :\n",
    "    i.update(dict_meta)\n",
    "dict_glob"
   ]
  },
  {
   "cell_type": "code",
   "execution_count": 42,
   "metadata": {},
   "outputs": [],
   "source": [
    "def recherche_id_fichier(chemin_parquet) :\n",
    " conduck = duckdb.connect(database=':memory:', read_only=False)\n",
    " docubudg_t = conduck.read_parquet(chemin_parquet)\n",
    " requete_duckdb = ''' \n",
    " SELECT\n",
    "    DISTINCT Id_Fichier\n",
    " FROM \n",
    "    docubudg_t\n",
    " '''\n",
    " result_requete= conduck.execute(requete_duckdb).fetchdf()\n",
    " liste_id = result_requete['Id_Fichier'].to_list()\n",
    " conduck.close()\n",
    " return liste_id\n",
    "\n",
    "\n",
    "def _isolement_id(fichier) : \n",
    " '''Extrait l'id du nom du fichier pour la liste comprehension de securité'''\n",
    " val_id_fichier_source = fichier.split(\"\\\\\")[-1].split('.')[0]\n",
    " if '-' in val_id_fichier_source : \n",
    "  val_id_fichier = val_id_fichier_source.split('-')[1]\n",
    " else : \n",
    "  val_id_fichier= val_id_fichier_source\n",
    " return val_id_fichier\n",
    "\n",
    "\n",
    "@timtim\n",
    "def Methode_2(chemin) : \n",
    " liste_df = []\n",
    " for fichier in glob.glob(os.path.join(chemin, \"*.gz\")) : \n",
    "  try : \n",
    "   dico = parse_fichier(fichier)\n",
    "   docbase = dico['DocumentBudgetaire']['Budget']['LigneBudget']\n",
    "   df_methode_2 = pd.DataFrame(docbase)\n",
    "   nettoyage = lambda x : str(x).replace(\"{'@V': '\", \"\").replace(\"'}\", \"\")\n",
    "   for col in df_methode_2.columns : \n",
    "    df_methode_2[col] = df_methode_2[col].apply(nettoyage)\n",
    "   liste_df.append(df_methode_2)\n",
    "  except Exception as e : \n",
    "    print(f'Erreur fichier {fichier}')\n",
    "    continue\n",
    "   \n",
    " gros_df_2 = pd.concat(liste_df)\n",
    " return gros_df_2"
   ]
  },
  {
   "cell_type": "code",
   "execution_count": 50,
   "metadata": {},
   "outputs": [],
   "source": [
    "@timtim\n",
    "def Methode_2_1(chemin, chemin_verif) : \n",
    " liste_id = recherche_id_fichier(chemin_verif)\n",
    " liste_df = []\n",
    " for fichier in glob.glob(os.path.join(chemin, \"*.gz\")) : \n",
    "  id_fichier = _isolement_id(fichier)\n",
    "  #Fichier non pre existant dans la db / parquet\n",
    "  if id_fichier in liste_id :\n",
    "   pass \n",
    "  else : \n",
    "   try : \n",
    "     fichier_parse = parse_fichier(fichier)\n",
    "     metadonnees = fichier_parse['DocumentBudgetaire']['EnTeteDocBudgetaire']\n",
    "     donnes_budget = fichier_parse['DocumentBudgetaire']['Budget']['LigneBudget']\n",
    "     metadonnees['Id_Fichier'] = {'@V' : id_fichier}\n",
    "     for i in donnes_budget : \n",
    "      i.update(metadonnees)\n",
    "     def_2_1 = pd.DataFrame(donnes_budget)\n",
    "     nettoyage = lambda x : str(x).replace(\"{'@V': '\", \"\").replace(\"'}\", \"\")\n",
    "     for col in def_2_1.columns : \n",
    "      def_2_1[col] = def_2_1[col].apply(nettoyage)\n",
    "     liste_df.append(def_2_1)\n",
    "   except Exception as e : \n",
    "     print(f'Erreur fichier {fichier}')\n",
    "     continue\n",
    " df_2_1 = pd.concat(liste_df)\n",
    " df_2_1.to_parquet('parquet_renouveau', compression= 'gzip')\n",
    " return df_2_1 \n"
   ]
  },
  {
   "cell_type": "code",
   "execution_count": 52,
   "metadata": {},
   "outputs": [],
   "source": [
    "chemin_origin_parquet = './parquet-proto-doc-budget'\n",
    "chemin_parquet_verif = './parquet_renouveau'\n"
   ]
  },
  {
   "cell_type": "markdown",
   "metadata": {},
   "source": [
    "Version sans la verif, permet de créer le fichier parquet "
   ]
  },
  {
   "cell_type": "code",
   "execution_count": 49,
   "metadata": {},
   "outputs": [
    {
     "name": "stdout",
     "output_type": "stream",
     "text": [
      "Erreur fichier ../../todo\\730073.xml.gz\n",
      "Erreur fichier ../../todo\\748147.xml.gz\n",
      "Erreur fichier ../../todo\\756300.xml.gz\n",
      "Erreur fichier ../../todo\\775775.xml.gz\n",
      "Erreur fichier ../../todo\\807134.xml.gz\n",
      "Erreur fichier ../../todo\\809162.xml.gz\n",
      "Erreur fichier ../../todo\\809290.xml.gz\n",
      "Erreur fichier ../../todo\\819789.xml.gz\n",
      "Erreur fichier ../../todo\\821461.xml.gz\n",
      "Erreur fichier ../../todo\\838663.xml.gz\n",
      "La fonction Methode_2_1 a pris 330.14720 secondes pour s'exécuter.\n"
     ]
    }
   ],
   "source": [
    "df_2_1 = Methode_2_1(dossier_10, chemin_parquet_verif)"
   ]
  },
  {
   "cell_type": "code",
   "execution_count": 53,
   "metadata": {},
   "outputs": [
    {
     "name": "stdout",
     "output_type": "stream",
     "text": [
      "Erreur fichier ../../todo/test1000_2\\628857.xml.gz\n",
      "La fonction Methode_2_1 a pris 41.37900 secondes pour s'exécuter.\n"
     ]
    }
   ],
   "source": [
    "df_2_1 = Methode_2_1(DOSSIER_500, chemin_parquet_verif)"
   ]
  },
  {
   "cell_type": "code",
   "execution_count": null,
   "metadata": {},
   "outputs": [],
   "source": []
  }
 ],
 "metadata": {
  "kernelspec": {
   "display_name": "Python 3",
   "language": "python",
   "name": "python3"
  },
  "language_info": {
   "codemirror_mode": {
    "name": "ipython",
    "version": 3
   },
   "file_extension": ".py",
   "mimetype": "text/x-python",
   "name": "python",
   "nbconvert_exporter": "python",
   "pygments_lexer": "ipython3",
   "version": "3.11.5"
  }
 },
 "nbformat": 4,
 "nbformat_minor": 2
}
