{
 "cells": [
  {
   "cell_type": "code",
   "execution_count": 16,
   "metadata": {},
   "outputs": [],
   "source": [
    "import gzip \n",
    "from lxml import etree\n",
    "import pandas as pd \n",
    "import xmltodict\n",
    "import glob\n",
    "import os \n",
    "import time \n",
    "import polars as pl \n",
    "import duckdb\n",
    "\n"
   ]
  },
  {
   "cell_type": "code",
   "execution_count": 17,
   "metadata": {},
   "outputs": [],
   "source": [
    "DOSSIER_500 = \"./todo/test1000_2/\"\n",
    "DOSSIER_TODO = './todo/'"
   ]
  },
  {
   "cell_type": "code",
   "execution_count": 18,
   "metadata": {},
   "outputs": [],
   "source": [
    "def timtim(fonction):\n",
    "    def wrapper(*args, **kwargs):\n",
    "        debut = time.time()\n",
    "        resultat = fonction(*args, **kwargs)\n",
    "        fin = time.time()\n",
    "        temps_execution = fin - debut\n",
    "        print(f\"La fonction {fonction.__name__} a pris {temps_execution:.5f} secondes pour s'exécuter.\")\n",
    "        return resultat\n",
    "    return wrapper"
   ]
  },
  {
   "cell_type": "code",
   "execution_count": 19,
   "metadata": {},
   "outputs": [],
   "source": [
    "def parse_fichier(chemin) : \n",
    " '''Ouvre et parse le fichier gzip'''\n",
    " with gzip.open(chemin, 'rb') as fichier_ouvert : \n",
    "  fichier_xml_gzip = fichier_ouvert.read()\n",
    "  fichier_xml = fichier_xml_gzip.decode('latin-1')\n",
    "  fichier_dict = xmltodict.parse(fichier_xml)\n",
    " return fichier_dict"
   ]
  },
  {
   "cell_type": "code",
   "execution_count": 20,
   "metadata": {},
   "outputs": [],
   "source": [
    "@timtim\n",
    "def Methode_1(chemin) : \n",
    " liste_df = []\n",
    " for fichier in glob.glob(os.path.join(chemin, \"*.gz\")) : \n",
    "  try : \n",
    "   dico = parse_fichier(fichier)\n",
    "   docbase = dico['DocumentBudgetaire']['Budget']['LigneBudget']\n",
    "   liste_methode_1 = []\n",
    "   for ligne_methode_1 in docbase:\n",
    "     dict_temp = {}\n",
    "     for clef, valolo in ligne_methode_1.items():\n",
    "         if isinstance(valolo, dict) and '@V' in valolo:\n",
    "             val_atrib = valolo['@V']\n",
    "         else:\n",
    "             val_atrib = valolo\n",
    "         dict_temp[clef] = val_atrib\n",
    "     liste_methode_1.append(dict_temp)\n",
    "   df_methode_1 = pd.DataFrame(liste_methode_1)\n",
    "   liste_df.append(df_methode_1)\n",
    "  except Exception as e :\n",
    "   print(f'Erreur fichier {fichier}') \n",
    "   continue \n",
    " \n",
    " df_gros_1 = pd.concat(liste_df)\n",
    " return df_gros_1\n",
    "\n",
    "@timtim\n",
    "def Methode_2(chemin) : \n",
    " liste_df = []\n",
    " for fichier in glob.glob(os.path.join(chemin, \"*.gz\")) : \n",
    "  try : \n",
    "   dico = parse_fichier(fichier)\n",
    "   docbase = dico['DocumentBudgetaire']['Budget']['LigneBudget']\n",
    "   df_methode_2 = pd.DataFrame(docbase)\n",
    "   nettoyage = lambda x : str(x).replace(\"{'@V': '\", \"\").replace(\"'}\", \"\")\n",
    "   for col in df_methode_2.columns : \n",
    "    df_methode_2[col] = df_methode_2[col].apply(nettoyage)\n",
    "   liste_df.append(df_methode_2)\n",
    "  except Exception as e : \n",
    "    print(f'Erreur fichier {fichier}')\n",
    "    continue\n",
    "   \n",
    " gros_df_2 = pd.concat(liste_df)\n",
    " return gros_df_2\n",
    "\n",
    "\n",
    "@timtim\n",
    "def Methode_3(chemin) : \n",
    " liste_df = []\n",
    " for fichier in glob.glob(os.path.join(chemin, \"*.gz\")) : \n",
    "  try : \n",
    "   dico = parse_fichier(fichier)\n",
    "   docbase = dico['DocumentBudgetaire']['Budget']['LigneBudget']\n",
    "   df_methode_3 = pd.json_normalize(docbase)\n",
    "   liste_df.append(df_methode_3)\n",
    "  except Exception as e : \n",
    "    print(f'Erreur fichier {fichier}')\n",
    "    continue\n",
    " gros_df_3 = pd.concat(liste_df)\n",
    " return gros_df_3\n",
    "\n",
    "SCHEMA = {\"Nature\" : pl.Object,\n",
    "          \"LibCpte\" : pl.Object,\n",
    "          \"Fonction\" : pl.Object,\n",
    "          \"Operation\" : pl.Object,\n",
    "          \"ContNat\" : pl.Object,\n",
    "          \"ArtSpe\" : pl.Object,\n",
    "          \"ContFon\" : pl.Object,\n",
    "          \"ContOp\" : pl.Object,\n",
    "          \"CodRD\" : pl.Object,\n",
    "          \"MtBudgPrec\" : pl.Object,\n",
    "          \"MtRARPrec\" : pl.Object,\n",
    "          \"MtPropNouv\" : pl.Object,\n",
    "          \"MtPrev\" : pl.Object,\n",
    "          \"CredOuv\" : pl.Object,\n",
    "          \"MtReal\" : pl.Object,\n",
    "          \"MtRAR3112\" : pl.Object,\n",
    "          \"OpBudg\" : pl.Object,\n",
    "          \"TypOpBudg\" : pl.Object,\n",
    "          \"OpeCpteTiers\" : pl.Object, \n",
    "          \"MtSup\" : pl.Object, \n",
    "          \"CaracSup\" : pl.Object\n",
    "          }\n",
    "\n",
    "@timtim\n",
    "def Methode_polars(chemin, schema) : \n",
    " liste_prepl = []\n",
    " for fichier in glob.glob(os.path.join(chemin, \"*.gz\")) : \n",
    "  try : \n",
    "   dico = parse_fichier(fichier)\n",
    "   docbase = dico['DocumentBudgetaire']['Budget']['LigneBudget']\n",
    "   pre_df = pl.DataFrame(docbase, schema=schema)\n",
    "   liste_prepl.append(pre_df)\n",
    "  except Exception as e : \n",
    "    print(f'Erreur fichier {fichier}')\n",
    "    continue\n",
    " pl_test = pl.concat(liste_prepl)\n",
    " return pl_test "
   ]
  },
  {
   "cell_type": "code",
   "execution_count": 22,
   "metadata": {},
   "outputs": [
    {
     "name": "stdout",
     "output_type": "stream",
     "text": [
      "Erreur fichier ./todo\\619027.xml.gz\n",
      "Erreur fichier ./todo\\628857.xml.gz\n",
      "Erreur fichier ./todo\\682109.xml.gz\n",
      "Erreur fichier ./todo\\722795.xml.gz\n",
      "Erreur fichier ./todo\\730073.xml.gz\n",
      "Erreur fichier ./todo\\748147.xml.gz\n",
      "Erreur fichier ./todo\\756300.xml.gz\n",
      "Erreur fichier ./todo\\775775.xml.gz\n",
      "Erreur fichier ./todo\\807134.xml.gz\n",
      "Erreur fichier ./todo\\809162.xml.gz\n",
      "Erreur fichier ./todo\\809290.xml.gz\n",
      "Erreur fichier ./todo\\819789.xml.gz\n",
      "Erreur fichier ./todo\\821461.xml.gz\n",
      "Erreur fichier ./todo\\838663.xml.gz\n",
      "La fonction Methode_1 a pris 341.08701 secondes pour s'exécuter.\n"
     ]
    }
   ],
   "source": [
    "dfm1 = Methode_1(DOSSIER_TODO)"
   ]
  },
  {
   "cell_type": "code",
   "execution_count": 23,
   "metadata": {},
   "outputs": [
    {
     "name": "stdout",
     "output_type": "stream",
     "text": [
      "Erreur fichier ./todo\\775775.xml.gz\n",
      "La fonction Methode_2 a pris 414.56070 secondes pour s'exécuter.\n"
     ]
    }
   ],
   "source": [
    "dfm2 = Methode_2(DOSSIER_TODO)"
   ]
  },
  {
   "cell_type": "code",
   "execution_count": 35,
   "metadata": {},
   "outputs": [
    {
     "data": {
      "text/plain": [
       "Index(['Nature', 'ContNat', 'ArtSpe', 'CodRD', 'MtBudgPrec', 'MtPropNouv',\n",
       "       'MtPrev', 'CredOuv', 'OpBudg', 'MtSup', 'CaracSup', 'TypOpBudg',\n",
       "       'MtRARPrec', 'LibCpte', 'Operation', 'ContOp', 'MtReal', 'MtRAR3112',\n",
       "       'Fonction', 'OpeCpteTiers', 'ContFon'],\n",
       "      dtype='object')"
      ]
     },
     "execution_count": 35,
     "metadata": {},
     "output_type": "execute_result"
    }
   ],
   "source": [
    "dfm2.columns"
   ]
  },
  {
   "cell_type": "code",
   "execution_count": 24,
   "metadata": {},
   "outputs": [
    {
     "name": "stdout",
     "output_type": "stream",
     "text": [
      "Erreur fichier ./todo\\775775.xml.gz\n",
      "La fonction Methode_3 a pris 386.22054 secondes pour s'exécuter.\n"
     ]
    }
   ],
   "source": [
    "dfm3 = Methode_3(DOSSIER_TODO)"
   ]
  },
  {
   "cell_type": "code",
   "execution_count": 34,
   "metadata": {},
   "outputs": [
    {
     "data": {
      "text/plain": [
       "Index(['Nature.@V', 'ContNat.@V', 'ArtSpe.@V', 'CodRD.@V', 'MtBudgPrec.@V',\n",
       "       'MtPropNouv.@V', 'MtPrev.@V', 'CredOuv.@V', 'OpBudg.@V', 'MtSup.@V',\n",
       "       'MtSup.@Code', 'CaracSup.@V', 'CaracSup.@Code', 'TypOpBudg.@V', 'MtSup',\n",
       "       'MtRARPrec.@V', 'CaracSup', 'LibCpte.@V', 'Operation.@V', 'ContOp.@V',\n",
       "       'MtReal.@V', 'MtRAR3112.@V', 'Fonction.@V', 'OpeCpteTiers.@V',\n",
       "       'ContFon.@V'],\n",
       "      dtype='object')"
      ]
     },
     "execution_count": 34,
     "metadata": {},
     "output_type": "execute_result"
    }
   ],
   "source": [
    "dfm3.columns"
   ]
  },
  {
   "cell_type": "code",
   "execution_count": null,
   "metadata": {},
   "outputs": [],
   "source": [
    "comparatif_pl = Methode_polars(DOSSIER_TODO, schema=SCHEMA)"
   ]
  },
  {
   "cell_type": "code",
   "execution_count": 36,
   "metadata": {},
   "outputs": [
    {
     "data": {
      "text/plain": [
       "['Nature',\n",
       " 'LibCpte',\n",
       " 'Fonction',\n",
       " 'Operation',\n",
       " 'ContNat',\n",
       " 'ArtSpe',\n",
       " 'ContFon',\n",
       " 'ContOp',\n",
       " 'CodRD',\n",
       " 'MtBudgPrec',\n",
       " 'MtRARPrec',\n",
       " 'MtPropNouv',\n",
       " 'MtPrev',\n",
       " 'CredOuv',\n",
       " 'MtReal',\n",
       " 'MtRAR3112',\n",
       " 'OpBudg',\n",
       " 'TypOpBudg',\n",
       " 'OpeCpteTiers',\n",
       " 'MtSup',\n",
       " 'CaracSup']"
      ]
     },
     "execution_count": 36,
     "metadata": {},
     "output_type": "execute_result"
    }
   ],
   "source": [
    "comparatif_pl.columns"
   ]
  },
  {
   "cell_type": "markdown",
   "metadata": {},
   "source": [
    "Outpout : \n",
    "\n",
    "**Methode_1**, extraction depuis les dictionnaires : \n",
    "\n",
    "- Erreur fichier ./todo\\619027.xml.gz\n",
    "- Erreur fichier ./todo\\628857.xml.gz\n",
    "- Erreur fichier ./todo\\682109.xml.gz\n",
    "- Erreur fichier ./todo\\722795.xml.gz\n",
    "- Erreur fichier ./todo\\730073.xml.gz\n",
    "- Erreur fichier ./todo\\748147.xml.gz\n",
    "- Erreur fichier ./todo\\756300.xml.gz\n",
    "- Erreur fichier ./todo\\775775.xml.gz\n",
    "- Erreur fichier ./todo\\807134.xml.gz\n",
    "- Erreur fichier ./todo\\809162.xml.gz\n",
    "- Erreur fichier ./todo\\809290.xml.gz\n",
    "- Erreur fichier ./todo\\819789.xml.gz\n",
    "- Erreur fichier ./todo\\821461.xml.gz\n",
    "- Erreur fichier ./todo\\838663.xml.gz\n",
    "\n",
    "- La fonction Methode_1 a pris **341.08701** secondes pour s'exécuter.\n",
    "\n",
    "\n",
    "\n",
    "**Methode_2**, DataFrame : \n",
    "\n",
    "- Erreur fichier ./todo\\775775.xml.gz\n",
    "\n",
    "- La fonction Methode_2 a pris **414.56070** secondes pour s'exécuter.\n",
    "\n",
    "\n",
    "**Methode_3**, json_normalize : \n",
    "\n",
    "- Erreur fichier ./todo\\775775.xml.gz\n",
    "\n",
    "- La fonction Methode_3 a pris **386.22054** secondes pour s'exécuter.\n",
    "\n",
    "\n",
    "**Methode Polars** : \n",
    "\n",
    "- Erreur fichier ./todo\\619027.xml.gz\n",
    "- Erreur fichier ./todo\\628857.xml.gz\n",
    "- Erreur fichier ./todo\\682109.xml.gz\n",
    "- Erreur fichier ./todo\\722795.xml.gz\n",
    "- Erreur fichier ./todo\\730073.xml.gz\n",
    "- Erreur fichier ./todo\\748147.xml.gz\n",
    "- Erreur fichier ./todo\\756300.xml.gz\n",
    "- Erreur fichier ./todo\\775775.xml.gz\n",
    "- Erreur fichier ./todo\\807134.xml.gz\n",
    "- Erreur fichier ./todo\\809162.xml.gz\n",
    "- Erreur fichier ./todo\\809290.xml.gz\n",
    "- Erreur fichier ./todo\\819789.xml.gz\n",
    "- Erreur fichier ./todo\\821461.xml.gz\n",
    "- Erreur fichier ./todo\\838663.xml.gz\n",
    "\n",
    "- La fonction Methode_polars a pris **366.51400** secondes pour s'exécuter.\n"
   ]
  },
  {
   "cell_type": "markdown",
   "metadata": {},
   "source": [
    "### Resultats sur 20 000 fichiers, pour l'extract des lignes budgetaires : \n",
    "\n",
    "- Methode extract depuis dict : 341.08701 sec, 14 erreurs \n",
    "- Methode DataFrame : 414.56070 sec, 1 erreur\n",
    "- Methode json : 386.22054 sec, 1 erreur\n",
    "- Methode Polars : 366.51400 sec, 14 erreurs \n",
    "\n",
    "Une erreure commune parmi les 4 méthode, sur le fichier 775775, il s'avère qu'il est impossible à ouvrir car l'archive est endommagée. \n",
    "\n",
    "La méthode Json est plus rapide sur le traitement, notamment car elle n'a pas besoin de nettoyer les @V dans les données, les @V n'apparaissent que sur les libelles des colonnes, cependant la méthode json_normalize traite les Carac Sup et Mt Sup de façon particulière, les rendants inexploitables. Ce gain de temps sera donc perdu lorsque l'on voudra utiliser ces informations. \n",
    "\n",
    "La méthode DataFrame elle, considère Mtsup et CaracSup comme des colonnes composées de listes de dictionnaires / de dictionnaires, les rendant exploitables plus tard. "
   ]
  },
  {
   "cell_type": "markdown",
   "metadata": {},
   "source": [
    "### Ajout de la verif sur le fichier parquet "
   ]
  },
  {
   "cell_type": "markdown",
   "metadata": {},
   "source": [
    "1. Methode Duckdb "
   ]
  },
  {
   "cell_type": "code",
   "execution_count": null,
   "metadata": {},
   "outputs": [],
   "source": [
    "from minio import Minio\n",
    "import duckdb\n",
    "\n",
    "client = Minio(\n",
    "    endpoint='localhost:9000',\n",
    "    access_key='airflow-local',\n",
    "    secret_key='airflow-local',\n",
    "    secure = False\n",
    "  )"
   ]
  },
  {
   "cell_type": "code",
   "execution_count": 3,
   "metadata": {},
   "outputs": [],
   "source": [
    "def recherche_id_fichier() :\n",
    " conduck = duckdb.connect(database=':memory:', read_only=False)\n",
    " docubudg_t = conduck.read_parquet('./parquet-proto-doc-budget')\n",
    " requete_duckdb = ''' \n",
    " SELECT\n",
    "    DISTINCT Id_Fichier\n",
    " FROM \n",
    "    docubudg_t\n",
    " '''\n",
    " result_requete= conduck.execute(requete_duckdb).fetchdf()\n",
    " liste_id = result_requete['Id_Fichier'].to_list()\n",
    " conduck.close()\n",
    " return liste_id"
   ]
  },
  {
   "cell_type": "code",
   "execution_count": 26,
   "metadata": {},
   "outputs": [
    {
     "data": {
      "text/plain": [
       "'../../todo\\\\20201113-1875908.xml.gz'"
      ]
     },
     "execution_count": 26,
     "metadata": {},
     "output_type": "execute_result"
    }
   ],
   "source": [
    "liste_ttt = []\n",
    "for i in glob.glob(os.path.join(DOSSIER_TODO, \"*.gz\")) : \n",
    " liste_ttt.append(i)\n",
    "\n",
    "liste_ttt[7]"
   ]
  },
  {
   "cell_type": "code",
   "execution_count": 28,
   "metadata": {},
   "outputs": [
    {
     "data": {
      "text/plain": [
       "'1825601'"
      ]
     },
     "execution_count": 28,
     "metadata": {},
     "output_type": "execute_result"
    }
   ],
   "source": [
    "fichier_test = '../../todo/727285.xml.gz'\n",
    "id_test = _isolement_id(liste_ttt[1])\n",
    "id_test"
   ]
  },
  {
   "cell_type": "code",
   "execution_count": 32,
   "metadata": {},
   "outputs": [
    {
     "data": {
      "text/plain": [
       "{'DteStr': {'@V': '2021-06-02'},\n",
       " 'LibellePoste': {'@V': 'le Trésorier de la MEL'},\n",
       " 'IdPost': {'@V': '059053'},\n",
       " 'LibelleColl': {'@V': 'METROPOLE EUROPEENNE DE LILLE'},\n",
       " 'IdColl': {'@V': '20009320100016'},\n",
       " 'NatCEPL': {'@V': '06 Groupements de collectivités'}}"
      ]
     },
     "execution_count": 32,
     "metadata": {},
     "output_type": "execute_result"
    }
   ],
   "source": [
    "dict_meta = test_parse['DocumentBudgetaire']['EnTeteDocBudgetaire']\n",
    "dict_meta"
   ]
  },
  {
   "cell_type": "code",
   "execution_count": null,
   "metadata": {},
   "outputs": [],
   "source": [
    "dict_meta['Id_Fichier'] = {'@V' : id_test}\n",
    "dict_meta\n",
    "\n",
    "dict_glob = dict_parse\n",
    "for i in dict_glob :\n",
    "    i.update(dict_meta)\n",
    "dict_glob"
   ]
  },
  {
   "cell_type": "code",
   "execution_count": 37,
   "metadata": {},
   "outputs": [],
   "source": [
    "def recherche_id_fichier(chemin_parquet) :\n",
    " conduck = duckdb.connect(database=':memory:', read_only=False)\n",
    " docubudg_t = conduck.read_parquet(chemin_parquet)\n",
    " requete_duckdb = ''' \n",
    " SELECT\n",
    "    DISTINCT Id_Fichier\n",
    " FROM \n",
    "    docubudg_t\n",
    " '''\n",
    " result_requete= conduck.execute(requete_duckdb).fetchdf()\n",
    " liste_id = result_requete['Id_Fichier'].to_list()\n",
    " conduck.close()\n",
    " return liste_id\n",
    "\n",
    "\n",
    "def _isolement_id(fichier) : \n",
    " '''Extrait l'id du nom du fichier pour la liste comprehension de securité'''\n",
    " val_id_fichier_source = fichier.split(\"\\\\\")[-1].split('.')[0]\n",
    " if '-' in val_id_fichier_source : \n",
    "  val_id_fichier = val_id_fichier_source.split('-')[1]\n",
    " else : \n",
    "  val_id_fichier= val_id_fichier_source\n",
    " return val_id_fichier"
   ]
  },
  {
   "cell_type": "code",
   "execution_count": 50,
   "metadata": {},
   "outputs": [],
   "source": [
    "@timtim\n",
    "def Methode_2_1(chemin, chemin_verif) : \n",
    " liste_id = recherche_id_fichier(chemin_verif)\n",
    " liste_df = []\n",
    " for fichier in glob.glob(os.path.join(chemin, \"*.gz\")) : \n",
    "  id_fichier = _isolement_id(fichier)\n",
    "  #Fichier non pre existant dans la db / parquet\n",
    "  if id_fichier in liste_id :\n",
    "   pass \n",
    "  else : \n",
    "   try : \n",
    "     fichier_parse = parse_fichier(fichier)\n",
    "     metadonnees = fichier_parse['DocumentBudgetaire']['EnTeteDocBudgetaire']\n",
    "     donnes_budget = fichier_parse['DocumentBudgetaire']['Budget']['LigneBudget']\n",
    "     metadonnees['Id_Fichier'] = {'@V' : id_fichier}\n",
    "     for i in donnes_budget : \n",
    "      i.update(metadonnees)\n",
    "     def_2_1 = pd.DataFrame(donnes_budget)\n",
    "     nettoyage = lambda x : str(x).replace(\"{'@V': '\", \"\").replace(\"'}\", \"\")\n",
    "     for col in def_2_1.columns : \n",
    "      def_2_1[col] = def_2_1[col].apply(nettoyage)\n",
    "     liste_df.append(def_2_1)\n",
    "   except Exception as e : \n",
    "     print(f'Erreur fichier {fichier}')\n",
    "     continue\n",
    " df_2_1 = pd.concat(liste_df)\n",
    " df_2_1.to_parquet('parquet_renouveau', compression= 'gzip')\n",
    " return df_2_1 \n"
   ]
  },
  {
   "cell_type": "code",
   "execution_count": 52,
   "metadata": {},
   "outputs": [],
   "source": [
    "chemin_origin_parquet = './parquet-proto-doc-budget'\n",
    "chemin_parquet_verif = './parquet_renouveau'\n"
   ]
  }
 ],
 "metadata": {
  "kernelspec": {
   "display_name": "Python 3",
   "language": "python",
   "name": "python3"
  },
  "language_info": {
   "codemirror_mode": {
    "name": "ipython",
    "version": 3
   },
   "file_extension": ".py",
   "mimetype": "text/x-python",
   "name": "python",
   "nbconvert_exporter": "python",
   "pygments_lexer": "ipython3",
   "version": "3.11.5"
  }
 },
 "nbformat": 4,
 "nbformat_minor": 2
}
