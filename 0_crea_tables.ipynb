{
 "cells": [
  {
   "cell_type": "code",
   "execution_count": 1,
   "metadata": {},
   "outputs": [],
   "source": [
    "import psycopg2\n",
    "from psycopg2 import sql"
   ]
  },
  {
   "cell_type": "markdown",
   "metadata": {},
   "source": [
    "alchemy, gere comme python\n",
    "copg2, gere comme postgres"
   ]
  },
  {
   "cell_type": "code",
   "execution_count": null,
   "metadata": {},
   "outputs": [],
   "source": []
  },
  {
   "cell_type": "code",
   "execution_count": 2,
   "metadata": {},
   "outputs": [],
   "source": [
    "con = psycopg2.connect(dbname='db_v1',\n",
    "      user= 'postgres',\n",
    "       host='',\n",
    "       port = '5432')\n",
    "\n",
    "\n",
    "cursor = con.cursor()"
   ]
  },
  {
   "cell_type": "code",
   "execution_count": 3,
   "metadata": {},
   "outputs": [
    {
     "data": {
      "text/plain": [
       "psycopg2.extensions.connection"
      ]
     },
     "execution_count": 3,
     "metadata": {},
     "output_type": "execute_result"
    }
   ],
   "source": [
    "type(con)"
   ]
  },
  {
   "cell_type": "markdown",
   "metadata": {},
   "source": [
    "Chech des tables + du fait qu'on se connecte bien à la table "
   ]
  },
  {
   "cell_type": "code",
   "execution_count": 30,
   "metadata": {},
   "outputs": [
    {
     "name": "stdout",
     "output_type": "stream",
     "text": [
      "[('bloc_budget',), ('doc_budget',), ('data_concours',)]\n"
     ]
    }
   ],
   "source": [
    "cursor.execute(\"\"\"select relname from pg_class where relkind='r' and relname !~ '^(pg_|sql_)';\"\"\")\n",
    "print(cursor.fetchall())"
   ]
  },
  {
   "cell_type": "code",
   "execution_count": 10,
   "metadata": {},
   "outputs": [],
   "source": [
    "supression_table_budget = ''' DROP TABLE \n",
    " Doc_Budget, Bloc_Budget, Etablissement, Data_Charge, Data_Concours'''\n",
    "cursor.execute(supression_table_budget)\n"
   ]
  },
  {
   "cell_type": "markdown",
   "metadata": {},
   "source": []
  },
  {
   "cell_type": "markdown",
   "metadata": {},
   "source": [
    "--------------------\n",
    "\n",
    "Query pour créer les tables "
   ]
  },
  {
   "cell_type": "code",
   "execution_count": 31,
   "metadata": {},
   "outputs": [],
   "source": [
    "table_blocbudget_query = \"\"\"\n",
    "    CREATE TABLE Bloc_Budget (\n",
    "        ID SERIAL PRIMARY KEY,\n",
    "        Id_Fichier INT NOT NULL,\n",
    "        Nomenclature VARCHAR,\n",
    "        Exer INT,\n",
    "        TypOpBudg INT,\n",
    "        Operation VARCHAR,\n",
    "        Nature VARCHAR,\n",
    "        ContNat VARCHAR,\n",
    "        LibCpte VARCHAR,\n",
    "        Fonction VARCHAR,\n",
    "        ContFon VARCHAR,\n",
    "        ArtSpe BOOLEAN,\n",
    "        CodRD VARCHAR,\n",
    "        MtBudgPrec FLOAT,\n",
    "        MtRARPrec FLOAT,\n",
    "        MtPropNouv FLOAT,\n",
    "        MtPrev FLOAT,\n",
    "        OpBudg BOOLEAN,\n",
    "        CredOuv FLOAT,\n",
    "        MtRAR3112 FLOAT,\n",
    "        MtReal FLOAT,\n",
    "        ContOp VARCHAR,\n",
    "        OpeCpteTiers VARCHAR,\n",
    "        MtSup VARCHAR,\n",
    "        APVote FLOAT,\n",
    "        Brut FLOAT,\n",
    "        BudgetHorsRAR FLOAT,\n",
    "        Comp VARCHAR,\n",
    "        ICNE FLOAT,\n",
    "        ICNEPrec FLOAT,\n",
    "        MtOpeCumul FLOAT,\n",
    "        MtOpeInfo FLOAT,\n",
    "        Net FLOAT,\n",
    "        ProdChaRat FLOAT,\n",
    "        RARPrec FLOAT,\n",
    "        CaracSup VARCHAR,\n",
    "        TypOpe INT,\n",
    "        Section VARCHAR,\n",
    "        ChapSpe VARCHAR,\n",
    "        ProgAutoLib VARCHAR,\n",
    "        ProgAutoNum VARCHAR,\n",
    "        VirCredNum VARCHAR,\n",
    "        CodeRegion INT\n",
    "    )\"\"\"\n",
    "\n",
    "table_docbudget_query = '''  CREATE TABLE Doc_Budget  (\n",
    "    Id_Fichier INT UNIQUE NOT NULL,\n",
    "    Nomenclature VARCHAR,\n",
    "    Exer SMALLINT,\n",
    "    Siret BIGINT,\n",
    "    Siren BIGINT,\n",
    "    CodColl VARCHAR,\n",
    "    LibelleColl VARCHAR,\n",
    "    DteStr TIMESTAMP,\n",
    "    date_precise TIMESTAMP WITH TIME ZONE,\n",
    "    DteDec TIMESTAMP,\n",
    "    DteDecEx TIMESTAMP,\n",
    "    NumDec VARCHAR,\n",
    "    IdPost VARCHAR,\n",
    "    LibellePoste VARCHAR,\n",
    "    LibelleEtabPal VARCHAR,\n",
    "    IdEtabPal BIGINT,\n",
    "    LibelleEtab VARCHAR,\n",
    "    IdEtab BIGINT,\n",
    "    NatDec VARCHAR,\n",
    "    NatVote VARCHAR,\n",
    "    OpeEquip BOOLEAN,\n",
    "    CodInseeColl VARCHAR,\n",
    "    VoteFormelChap BOOLEAN,\n",
    "    TypProv SMALLINT,\n",
    "    BudgPrec SMALLINT,\n",
    "    RefProv VARCHAR,\n",
    "    ReprRes SMALLINT,\n",
    "    NatFonc SMALLINT,\n",
    "    PresentationSimplifiee BOOLEAN,\n",
    "    DepFoncN2 FLOAT,\n",
    "    RecFoncN2 FLOAT,\n",
    "    DepInvN2 FLOAT,\n",
    "    RecInvN2 FLOAT,\n",
    "    CodTypBud VARCHAR,\n",
    "    CodBud VARCHAR,\n",
    "    ProjetBudget BOOLEAN,\n",
    "    Affect VARCHAR,\n",
    "    SpecifBudget BIGINT,\n",
    "    FinJur BIGINT,\n",
    "    md5 VARCHAR,\n",
    "    sha1 VARCHAR )'''\n",
    "\n",
    "table_etablissement_query = ''' CREATE TABLE Etablissement (\n",
    " Siret INTEGER UNIQUE NOT NULL,\n",
    " Siren INTEGER, \n",
    "\n",
    " codeCommuneEtablissement VARCHAR, \n",
    " CODGEO VARCHAR, \n",
    " LIBGEO VARCHAR, \n",
    " DEP VARCHAR,\n",
    " REG VARCHAR,\n",
    " EPCI VARCHAR,\n",
    " \n",
    " libelleCommuneEtablissement VARCHAR,\n",
    " denominationUniteLegale VARCHAR,  \n",
    " libelleCategorieJuridique VARCHAR,\n",
    " \n",
    " categorieJuridiqueUniteLegale INTEGER, \n",
    " sigleUniteLegale VARCHAR, \n",
    " dateCreationUniteLegale TIMESTAMP\n",
    " )'''\n",
    "\n",
    "table_charge_query = ''' CREATE TABLE Data_Charge (\n",
    " ID SERIAL PRIMARY KEY,\n",
    " Id_Fichier INTEGER, \n",
    " Exer_Doc INTEGER,\n",
    " Exer INTEGER,\n",
    " CodTypeCharge VARCHAR,\n",
    " NatDepTransf VARCHAR,\n",
    " DureeEtal INTEGER, \n",
    " DtDelib TIMESTAMP,\n",
    " MtDepTransf FLOAT,\n",
    " MtAmort FLOAT,\n",
    " MtDotAmort FLOAT, \n",
    " Champ_Editeur VARCHAR\n",
    " ) ''' \n",
    "\n",
    "table_concours_query =  ''' CREATE TABLE Data_concours ( \n",
    " ID SERIAL PRIMARY KEY,\n",
    " Id_Fichier INTEGER,\n",
    " Exer_doc INTEGER, \n",
    " CodArticle VARCHAR, \n",
    " CodInvFonc VARCHAR, \n",
    " CodNatJurBenefCA VARCHAR, \n",
    " LibOrgaBenef VARCHAR,\n",
    " MtSubv FLOAT, \n",
    " LibPrestaNat VARCHAR, \n",
    " DenomOuNumSubv VARCHAR,  \n",
    " NatDec VARCHAR, \n",
    " ObjSubv VARCHAR, \n",
    " Siret VARCHAR,  \n",
    " PopCommune INTEGER,\n",
    " Champ_Editeur VARCHAR \n",
    " )'''\n",
    "\n"
   ]
  },
  {
   "cell_type": "code",
   "execution_count": 26,
   "metadata": {},
   "outputs": [],
   "source": [
    "def supression_table(conn) : \n",
    " ''' Supprimes les tables doc_budget, bloc_budget, etablissement, \n",
    "    data_charge, data_concours'''   \n",
    " try : \n",
    "    cursor = conn.cursor()\n",
    "    cursor.execute(''' \n",
    "    DROP TABLE IF EXISTS Doc_Budget;\n",
    "    DROP TABLE IF EXISTS Bloc_Budget;\n",
    "    DROP TABLE IF EXISTS Etablissement;\n",
    "    DROP TABLE IF EXISTS Data_Charge;\n",
    "    DROP TABLE IF EXISTS Data_Concours;\n",
    "    ''')\n",
    "    conn.commit()\n",
    "\n",
    " except psycopg2.Error as e :\n",
    "    print('Table non supprimée')\n",
    "    print(e)\n",
    "    conn.rollback()\n",
    "\n",
    " finally :\n",
    "    cursor.close() "
   ]
  },
  {
   "cell_type": "code",
   "execution_count": 20,
   "metadata": {},
   "outputs": [],
   "source": [
    "def creation_table(conn, requete_table) :\n",
    " try : \n",
    "  cursor = conn.cursor()\n",
    "  cursor.execute(requete_table)\n",
    "  conn.commit()\n",
    "\n",
    " except psycopg2.Error as e :\n",
    "    print('Table non crée, raison : ')\n",
    "    print(e)\n",
    "    conn.rollback()\n",
    "\n",
    " finally :\n",
    "    cursor.close() \n"
   ]
  },
  {
   "cell_type": "code",
   "execution_count": 33,
   "metadata": {},
   "outputs": [],
   "source": [
    "TABLES = [table_blocbudget_query, \n",
    "        table_docbudget_query, \n",
    "        table_etablissement_query,\n",
    "        table_charge_query,\n",
    "        table_concours_query ]\n",
    "\n",
    "for i in TABLES : \n",
    "    creation_table(con, i)"
   ]
  },
  {
   "cell_type": "code",
   "execution_count": 32,
   "metadata": {},
   "outputs": [],
   "source": [
    "supression_table(conn= con)"
   ]
  }
 ],
 "metadata": {
  "kernelspec": {
   "display_name": ".venv",
   "language": "python",
   "name": "python3"
  },
  "language_info": {
   "codemirror_mode": {
    "name": "ipython",
    "version": 3
   },
   "file_extension": ".py",
   "mimetype": "text/x-python",
   "name": "python",
   "nbconvert_exporter": "python",
   "pygments_lexer": "ipython3",
   "version": "3.9.2"
  },
  "orig_nbformat": 4
 },
 "nbformat": 4,
 "nbformat_minor": 2
}
