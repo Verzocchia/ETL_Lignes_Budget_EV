{
 "cells": [
  {
   "cell_type": "markdown",
   "metadata": {},
   "source": [
    "- Un fichier qui ne contient qu'une seule ligne : 614407\n",
    "- Un fichier corrompu (j'oublie toujours son id mais c'est genre 7757577)\n",
    "- Un fichier avec des colonnes qui ne devraient pas être là dans document_budgetaire\n",
    "- Un fichier où les fonctions sont mauvaises\n",
    "- Un fichier où les cols n'ont pas les bonnes majuscules\n"
   ]
  },
  {
   "cell_type": "code",
   "execution_count": 19,
   "metadata": {},
   "outputs": [],
   "source": [
    "import shutil\n",
    "import gzip\n",
    "import os"
   ]
  },
  {
   "cell_type": "code",
   "execution_count": 24,
   "metadata": {},
   "outputs": [],
   "source": [
    "chemin_fichier = '../../data/todo_xml/744700.xml.gz'\n",
    "chemin_fin = './faux_xml/col_majuscule.xml'\n",
    "\n",
    "with gzip.open(chemin_fichier, 'rb') as f_in:\n",
    "    with open(chemin_fin, 'wb') as f_out: \n",
    "        shutil.copyfileobj(f_in, f_out)\n",
    "      \n"
   ]
  },
  {
   "cell_type": "code",
   "execution_count": null,
   "metadata": {},
   "outputs": [],
   "source": []
  }
 ],
 "metadata": {
  "kernelspec": {
   "display_name": ".venv",
   "language": "python",
   "name": "python3"
  },
  "language_info": {
   "codemirror_mode": {
    "name": "ipython",
    "version": 3
   },
   "file_extension": ".py",
   "mimetype": "text/x-python",
   "name": "python",
   "nbconvert_exporter": "python",
   "pygments_lexer": "ipython3",
   "version": "3.9.2"
  },
  "orig_nbformat": 4
 },
 "nbformat": 4,
 "nbformat_minor": 2
}
