{
 "cells": [
  {
   "cell_type": "code",
   "execution_count": 1,
   "metadata": {},
   "outputs": [],
   "source": [
    "import sqlite3\n",
    "import time \n",
    "from minio import Minio\n",
    "from functools import wraps\n",
    "import time\n",
    "import pyarrow.parquet as pq\n",
    "import pandas as pd\n",
    "import polars as pl \n",
    "import io\n",
    "import duckdb\n",
    "\n",
    "\n",
    "BDD = './bdd_actes_budgetaires.db'\n",
    "client = Minio(\n",
    "    endpoint='localhost:9000',\n",
    "    access_key='airflow-local',\n",
    "    secret_key='airflow-local',\n",
    "    secure = False\n",
    "  )\n"
   ]
  },
  {
   "cell_type": "code",
   "execution_count": 2,
   "metadata": {},
   "outputs": [],
   "source": [
    "def timeit(func):\n",
    "    @wraps(func)\n",
    "    def timeit_wrapper(*args, **kwargs):\n",
    "        start_time = time.perf_counter()\n",
    "        result = func(*args, **kwargs)\n",
    "        end_time = time.perf_counter()\n",
    "        total_time = end_time - start_time\n",
    "        print(f'Function {func.__name__}{args} {kwargs} Took {total_time:.4f} seconds')\n",
    "        return result\n",
    "    return timeit_wrapper"
   ]
  },
  {
   "cell_type": "markdown",
   "metadata": {},
   "source": [
    "# Methode duckdb"
   ]
  },
  {
   "cell_type": "markdown",
   "metadata": {},
   "source": [
    "Du mal à lire depuis Minio, je passerai du temps dessus plus tard. \n",
    "\n",
    "Double join : Un pour quand le code fait référence à Nature, l'autre pour quand le code fait référence à Fonction"
   ]
  },
  {
   "cell_type": "code",
   "execution_count": 29,
   "metadata": {},
   "outputs": [],
   "source": [
    "@timeit\n",
    "def methode_duckdb(csv = 'Non') :\n",
    " conduck = duckdb.connect(database=':memory:', read_only=False)\n",
    " docubudg_t = conduck.read_parquet('./parquet_lignebudget')\n",
    " transco_t = conduck.read_parquet('./parquet_pdc')\n",
    " requete_duckdb = ''' \n",
    " SELECT\n",
    "    EXTRACT(YEAR FROM CAST(l.DteStr AS DATE)) AS annee_doc,\n",
    "    l.Nomenclature,\n",
    "    l.LibCpte,\n",
    "    t1.Libelle as Nature_lib,\n",
    "    t2.Libelle as Fonction_lib,\n",
    "    MtReal\n",
    " FROM \n",
    "    docubudg_t as l \n",
    " LEFT JOIN\n",
    "    transco_t t1 ON EXTRACT(YEAR FROM CAST(l.DteStr AS DATE)) = t1.Annee \n",
    "    AND l.Nomenclature = t1.Nomenclature \n",
    "    AND l.Nature = t1.Code \n",
    "    AND (t1.Categorie = 'Nature' OR t1.Categorie = 'Nature_compte')\n",
    " LEFT JOIN\n",
    "    transco_t t2 ON EXTRACT(YEAR FROM CAST(l.DteStr AS DATE)) = t2.Annee \n",
    "    AND l.Nomenclature = t2.Nomenclature \n",
    "    AND l.Fonction = t2.Code \n",
    "    AND (t2.Categorie = 'Fonction' OR t2.Categorie = 'Fonction_compte')\n",
    "\n",
    " '''\n",
    " df_transcode_duck = conduck.execute(requete_duckdb).fetchdf()\n",
    " conduck.close()\n",
    " if csv == 'Oui' : \n",
    "  df_transcode_duck.to_csv('Methode_transco_duckdb', index = False) #Cette ligne prend 8sec sans le if \n",
    "\n",
    " return df_transcode_duck\n"
   ]
  },
  {
   "cell_type": "code",
   "execution_count": 23,
   "metadata": {},
   "outputs": [
    {
     "name": "stdout",
     "output_type": "stream",
     "text": [
      "Function methode_duckdb() {} Took 0.3682 seconds\n"
     ]
    }
   ],
   "source": [
    "df_transcode_test_duck = methode_duckdb()\n",
    "#Tourne en général en 0.3sec"
   ]
  },
  {
   "cell_type": "code",
   "execution_count": 11,
   "metadata": {},
   "outputs": [
    {
     "name": "stdout",
     "output_type": "stream",
     "text": [
      "Function methode_duckdb() {'csv': 'Oui'} Took 1.5418 seconds\n"
     ]
    }
   ],
   "source": [
    "df_transcode_test_duck_csv = methode_duckdb(csv = 'Oui')"
   ]
  },
  {
   "cell_type": "markdown",
   "metadata": {},
   "source": [
    "# Methode PANDAS\n",
    "\n",
    "Methode par Merge"
   ]
  },
  {
   "cell_type": "code",
   "execution_count": 13,
   "metadata": {},
   "outputs": [],
   "source": [
    "@timeit\n",
    "def methode_pandas_nondict() : \n",
    " docbudg_parquet = io.BytesIO(client.get_object('table-ligne-budget', 'parquet-ligne-budget').read())\n",
    " transco_parquet = io.BytesIO(client.get_object('table-plan-de-compte', 'parquet-plan-de-compte').read())\n",
    " \n",
    " df_l = pd.read_parquet(docbudg_parquet)\n",
    " df_t = pd.read_parquet(transco_parquet, columns=['Nomenclature', 'Annee', 'Categorie', 'Code', 'Libelle'])\n",
    "\n",
    " #Ca ne devrait pas exister car ça devrait déjà être sous format str dans la bdd, ce n'est pas le cas, \"mon mauvais\"\n",
    " df_l['Fonction'] = df_l['Fonction'].astype(str)\n",
    " df_l['Nature'] = df_l['Nature'].astype(str)\n",
    "\n",
    " #On coupe le df de transco selon si c'est Nature ou Fonction\n",
    " df_t = df_t.copy()\n",
    " df_nature = df_t[df_t['Categorie'] == 'Nature']\n",
    " df_nature = df_nature.drop_duplicates(subset=['Nomenclature', 'Code'])\n",
    "\n",
    " df_fonction = df_t[df_t['Categorie'] == 'Fonction']\n",
    " df_fonction = df_fonction.drop_duplicates(subset=['Nomenclature', 'Code'])\n",
    "\n",
    " #On commence par merge avec le df transco_nature, \n",
    " # puis on remplace de façon très brute les données de la col Nature (qui est une des clefs de jointure) \n",
    " df_temp_merge_nature = pd.merge(df_l, df_nature, left_on=['Nomenclature', 'Nature'], right_on=['Nomenclature', 'Code'], how='left')\n",
    " df_temp_merge_nature['Nature'] = df_temp_merge_nature['Libelle']\n",
    " df_temp_merge_nature = df_temp_merge_nature[['IdFichier', 'Nomenclature', 'DteStr', 'Nature', 'LibCpte', 'Fonction', 'MtReal']]\n",
    "\n",
    " df_total = pd.merge(df_temp_merge_nature, df_fonction, left_on=['Nomenclature', 'Fonction'], right_on=['Nomenclature', 'Code'], how='left')\n",
    " df_total['Fonction'] = df_total['Libelle']\n",
    " df_x = df_total[['IdFichier', 'Nomenclature' ,'DteStr', 'LibCpte', 'Nature', 'Fonction', 'MtReal']]\n",
    "\n",
    " return df_x"
   ]
  },
  {
   "cell_type": "code",
   "execution_count": 14,
   "metadata": {},
   "outputs": [
    {
     "name": "stdout",
     "output_type": "stream",
     "text": [
      "Function methode_pandas_nondict() {} Took 0.5689 seconds\n"
     ]
    }
   ],
   "source": [
    "df_pandas_nondict = methode_pandas_nondict()\n",
    "#Tourne en general entre 0.6 et 0.8sec"
   ]
  },
  {
   "cell_type": "markdown",
   "metadata": {},
   "source": [
    "#Version dict de données "
   ]
  },
  {
   "cell_type": "code",
   "execution_count": 15,
   "metadata": {},
   "outputs": [],
   "source": [
    "@timeit\n",
    "def methode_pandas_dict() : \n",
    " docbudgpq = io.BytesIO(client.get_object('table-ligne-budget', 'parquet-ligne-budget').read())\n",
    " transcopq = io.BytesIO(client.get_object('table-plan-de-compte', 'parquet-plan-de-compte').read())\n",
    "\n",
    " df1_l = pd.read_parquet(docbudgpq)\n",
    " df1_t = pd.read_parquet(transcopq, columns=['Nomenclature', 'Annee', 'Categorie', 'Code', 'Libelle'])\n",
    " \n",
    " #df1_l['Fonction'] = df1_l['Fonction'].astype(str)\n",
    " #df1_l['Nature'] = df1_l['Nature'].astype(str)\n",
    "\n",
    " df1_nature = df1_t[df1_t['Categorie'] == 'Nature']\n",
    " dict_nature = df1_nature.set_index('Code')['Libelle'].to_dict()\n",
    " df1_l['Nature'] = df1_l['Nature'].map(dict_nature)\n",
    "\n",
    " df1_fonction = df1_t[df1_t['Categorie'] == 'Fonction']\n",
    " dict_fonction = df1_fonction.set_index('Code')['Libelle'].to_dict()\n",
    " df1_l['Fonction'] = df1_l['Fonction'].map(dict_fonction)\n",
    " return df1_l"
   ]
  },
  {
   "cell_type": "code",
   "execution_count": 17,
   "metadata": {},
   "outputs": [
    {
     "name": "stdout",
     "output_type": "stream",
     "text": [
      "Function methode_pandas_dict() {} Took 0.5108 seconds\n"
     ]
    },
    {
     "data": {
      "text/html": [
       "<div>\n",
       "<style scoped>\n",
       "    .dataframe tbody tr th:only-of-type {\n",
       "        vertical-align: middle;\n",
       "    }\n",
       "\n",
       "    .dataframe tbody tr th {\n",
       "        vertical-align: top;\n",
       "    }\n",
       "\n",
       "    .dataframe thead th {\n",
       "        text-align: right;\n",
       "    }\n",
       "</style>\n",
       "<table border=\"1\" class=\"dataframe\">\n",
       "  <thead>\n",
       "    <tr style=\"text-align: right;\">\n",
       "      <th></th>\n",
       "      <th>IdFichier</th>\n",
       "      <th>Nomenclature</th>\n",
       "      <th>DteStr</th>\n",
       "      <th>Nature</th>\n",
       "      <th>LibCpte</th>\n",
       "      <th>Fonction</th>\n",
       "      <th>MtReal</th>\n",
       "    </tr>\n",
       "  </thead>\n",
       "  <tbody>\n",
       "    <tr>\n",
       "      <th>0</th>\n",
       "      <td>617544</td>\n",
       "      <td>M4-M49_A</td>\n",
       "      <td>2020-07-30</td>\n",
       "      <td>Solde d'exécution de la section d'investisseme...</td>\n",
       "      <td>Solde d'exécution sect° d'investissement</td>\n",
       "      <td>NaN</td>\n",
       "      <td>0.00</td>\n",
       "    </tr>\n",
       "    <tr>\n",
       "      <th>1</th>\n",
       "      <td>617544</td>\n",
       "      <td>M4-M49_A</td>\n",
       "      <td>2020-07-30</td>\n",
       "      <td>Solde d'exécution de la section d'investisseme...</td>\n",
       "      <td>Solde d'exécution sect° d'investissement</td>\n",
       "      <td>NaN</td>\n",
       "      <td>8880.38</td>\n",
       "    </tr>\n",
       "    <tr>\n",
       "      <th>2</th>\n",
       "      <td>617544</td>\n",
       "      <td>M4-M49_A</td>\n",
       "      <td>2020-07-30</td>\n",
       "      <td>Résultat de fonctionnement reporté</td>\n",
       "      <td>Résultat de fonctionnement reporté</td>\n",
       "      <td>NaN</td>\n",
       "      <td>7583.30</td>\n",
       "    </tr>\n",
       "    <tr>\n",
       "      <th>3</th>\n",
       "      <td>617544</td>\n",
       "      <td>M4-M49_A</td>\n",
       "      <td>2020-07-30</td>\n",
       "      <td>Résultat de fonctionnement reporté</td>\n",
       "      <td>Résultat de fonctionnement reporté</td>\n",
       "      <td>NaN</td>\n",
       "      <td>0.00</td>\n",
       "    </tr>\n",
       "    <tr>\n",
       "      <th>4</th>\n",
       "      <td>617544</td>\n",
       "      <td>M4-M49_A</td>\n",
       "      <td>2020-07-30</td>\n",
       "      <td>Subventions d'investissement rattachées aux ac...</td>\n",
       "      <td>Subventions d'équipement</td>\n",
       "      <td>NaN</td>\n",
       "      <td>278.00</td>\n",
       "    </tr>\n",
       "    <tr>\n",
       "      <th>...</th>\n",
       "      <td>...</td>\n",
       "      <td>...</td>\n",
       "      <td>...</td>\n",
       "      <td>...</td>\n",
       "      <td>...</td>\n",
       "      <td>...</td>\n",
       "      <td>...</td>\n",
       "    </tr>\n",
       "    <tr>\n",
       "      <th>287970</th>\n",
       "      <td>634802</td>\n",
       "      <td>M4-M49_D</td>\n",
       "      <td>2020-11-19</td>\n",
       "      <td>Concessions et droits similaires</td>\n",
       "      <td>None</td>\n",
       "      <td>NaN</td>\n",
       "      <td>NaN</td>\n",
       "    </tr>\n",
       "    <tr>\n",
       "      <th>287971</th>\n",
       "      <td>634802</td>\n",
       "      <td>M4-M49_D</td>\n",
       "      <td>2020-11-19</td>\n",
       "      <td>Réseaux de voirie</td>\n",
       "      <td>None</td>\n",
       "      <td>NaN</td>\n",
       "      <td>NaN</td>\n",
       "    </tr>\n",
       "    <tr>\n",
       "      <th>287972</th>\n",
       "      <td>634802</td>\n",
       "      <td>M4-M49_D</td>\n",
       "      <td>2020-11-19</td>\n",
       "      <td>Avances versées sur commandes d'immobilisation...</td>\n",
       "      <td>None</td>\n",
       "      <td>NaN</td>\n",
       "      <td>NaN</td>\n",
       "    </tr>\n",
       "    <tr>\n",
       "      <th>287973</th>\n",
       "      <td>634802</td>\n",
       "      <td>M4-M49_D</td>\n",
       "      <td>2020-11-19</td>\n",
       "      <td>Autres agencements et aménagements</td>\n",
       "      <td>None</td>\n",
       "      <td>NaN</td>\n",
       "      <td>NaN</td>\n",
       "    </tr>\n",
       "    <tr>\n",
       "      <th>287974</th>\n",
       "      <td>634802</td>\n",
       "      <td>M4-M49_D</td>\n",
       "      <td>2020-11-19</td>\n",
       "      <td>Divers</td>\n",
       "      <td>None</td>\n",
       "      <td>NaN</td>\n",
       "      <td>NaN</td>\n",
       "    </tr>\n",
       "  </tbody>\n",
       "</table>\n",
       "<p>287970 rows × 7 columns</p>\n",
       "</div>"
      ],
      "text/plain": [
       "        IdFichier Nomenclature      DteStr  \\\n",
       "0          617544     M4-M49_A  2020-07-30   \n",
       "1          617544     M4-M49_A  2020-07-30   \n",
       "2          617544     M4-M49_A  2020-07-30   \n",
       "3          617544     M4-M49_A  2020-07-30   \n",
       "4          617544     M4-M49_A  2020-07-30   \n",
       "...           ...          ...         ...   \n",
       "287970     634802     M4-M49_D  2020-11-19   \n",
       "287971     634802     M4-M49_D  2020-11-19   \n",
       "287972     634802     M4-M49_D  2020-11-19   \n",
       "287973     634802     M4-M49_D  2020-11-19   \n",
       "287974     634802     M4-M49_D  2020-11-19   \n",
       "\n",
       "                                                   Nature  \\\n",
       "0       Solde d'exécution de la section d'investisseme...   \n",
       "1       Solde d'exécution de la section d'investisseme...   \n",
       "2                      Résultat de fonctionnement reporté   \n",
       "3                      Résultat de fonctionnement reporté   \n",
       "4       Subventions d'investissement rattachées aux ac...   \n",
       "...                                                   ...   \n",
       "287970                   Concessions et droits similaires   \n",
       "287971                                  Réseaux de voirie   \n",
       "287972  Avances versées sur commandes d'immobilisation...   \n",
       "287973                 Autres agencements et aménagements   \n",
       "287974                                             Divers   \n",
       "\n",
       "                                         LibCpte Fonction   MtReal  \n",
       "0       Solde d'exécution sect° d'investissement      NaN     0.00  \n",
       "1       Solde d'exécution sect° d'investissement      NaN  8880.38  \n",
       "2             Résultat de fonctionnement reporté      NaN  7583.30  \n",
       "3             Résultat de fonctionnement reporté      NaN     0.00  \n",
       "4                       Subventions d'équipement      NaN   278.00  \n",
       "...                                          ...      ...      ...  \n",
       "287970                                      None      NaN      NaN  \n",
       "287971                                      None      NaN      NaN  \n",
       "287972                                      None      NaN      NaN  \n",
       "287973                                      None      NaN      NaN  \n",
       "287974                                      None      NaN      NaN  \n",
       "\n",
       "[287970 rows x 7 columns]"
      ]
     },
     "execution_count": 17,
     "metadata": {},
     "output_type": "execute_result"
    }
   ],
   "source": [
    "df_ttt = methode_pandas_dict()\n",
    "df_ttt"
   ]
  },
  {
   "cell_type": "markdown",
   "metadata": {},
   "source": [
    "# Methode Polars \n",
    "En cours après une bonne surprise "
   ]
  },
  {
   "cell_type": "code",
   "execution_count": 19,
   "metadata": {},
   "outputs": [],
   "source": [
    "#"
   ]
  },
  {
   "cell_type": "code",
   "execution_count": 20,
   "metadata": {},
   "outputs": [],
   "source": []
  },
  {
   "cell_type": "code",
   "execution_count": null,
   "metadata": {},
   "outputs": [],
   "source": []
  },
  {
   "cell_type": "code",
   "execution_count": null,
   "metadata": {},
   "outputs": [],
   "source": []
  },
  {
   "cell_type": "code",
   "execution_count": null,
   "metadata": {},
   "outputs": [],
   "source": []
  }
 ],
 "metadata": {
  "kernelspec": {
   "display_name": "Python 3",
   "language": "python",
   "name": "python3"
  },
  "language_info": {
   "codemirror_mode": {
    "name": "ipython",
    "version": 3
   },
   "file_extension": ".py",
   "mimetype": "text/x-python",
   "name": "python",
   "nbconvert_exporter": "python",
   "pygments_lexer": "ipython3",
   "version": "3.11.5"
  }
 },
 "nbformat": 4,
 "nbformat_minor": 2
}
